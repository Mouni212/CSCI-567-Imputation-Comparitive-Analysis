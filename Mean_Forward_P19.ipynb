{
  "nbformat": 4,
  "nbformat_minor": 0,
  "metadata": {
    "colab": {
      "provenance": []
    },
    "kernelspec": {
      "name": "python3",
      "display_name": "Python 3"
    },
    "language_info": {
      "name": "python"
    }
  },
  "cells": [
    {
      "cell_type": "code",
      "source": [
        "import pandas as pd\n",
        "import numpy as np"
      ],
      "metadata": {
        "id": "RlvYkKjkJswi"
      },
      "execution_count": 1,
      "outputs": []
    },
    {
      "cell_type": "code",
      "execution_count": 1,
      "metadata": {
        "colab": {
          "base_uri": "https://localhost:8080/",
          "height": 73
        },
        "id": "DjTe5eBjJUNd",
        "outputId": "da20efc4-00e8-43bf-c6d4-80cad36a323e"
      },
      "outputs": [
        {
          "output_type": "display_data",
          "data": {
            "text/plain": [
              "<IPython.core.display.HTML object>"
            ],
            "text/html": [
              "\n",
              "     <input type=\"file\" id=\"files-873724b6-d979-48f5-9b78-b20aabbbe7b0\" name=\"files[]\" multiple disabled\n",
              "        style=\"border:none\" />\n",
              "     <output id=\"result-873724b6-d979-48f5-9b78-b20aabbbe7b0\">\n",
              "      Upload widget is only available when the cell has been executed in the\n",
              "      current browser session. Please rerun this cell to enable.\n",
              "      </output>\n",
              "      <script>// Copyright 2017 Google LLC\n",
              "//\n",
              "// Licensed under the Apache License, Version 2.0 (the \"License\");\n",
              "// you may not use this file except in compliance with the License.\n",
              "// You may obtain a copy of the License at\n",
              "//\n",
              "//      http://www.apache.org/licenses/LICENSE-2.0\n",
              "//\n",
              "// Unless required by applicable law or agreed to in writing, software\n",
              "// distributed under the License is distributed on an \"AS IS\" BASIS,\n",
              "// WITHOUT WARRANTIES OR CONDITIONS OF ANY KIND, either express or implied.\n",
              "// See the License for the specific language governing permissions and\n",
              "// limitations under the License.\n",
              "\n",
              "/**\n",
              " * @fileoverview Helpers for google.colab Python module.\n",
              " */\n",
              "(function(scope) {\n",
              "function span(text, styleAttributes = {}) {\n",
              "  const element = document.createElement('span');\n",
              "  element.textContent = text;\n",
              "  for (const key of Object.keys(styleAttributes)) {\n",
              "    element.style[key] = styleAttributes[key];\n",
              "  }\n",
              "  return element;\n",
              "}\n",
              "\n",
              "// Max number of bytes which will be uploaded at a time.\n",
              "const MAX_PAYLOAD_SIZE = 100 * 1024;\n",
              "\n",
              "function _uploadFiles(inputId, outputId) {\n",
              "  const steps = uploadFilesStep(inputId, outputId);\n",
              "  const outputElement = document.getElementById(outputId);\n",
              "  // Cache steps on the outputElement to make it available for the next call\n",
              "  // to uploadFilesContinue from Python.\n",
              "  outputElement.steps = steps;\n",
              "\n",
              "  return _uploadFilesContinue(outputId);\n",
              "}\n",
              "\n",
              "// This is roughly an async generator (not supported in the browser yet),\n",
              "// where there are multiple asynchronous steps and the Python side is going\n",
              "// to poll for completion of each step.\n",
              "// This uses a Promise to block the python side on completion of each step,\n",
              "// then passes the result of the previous step as the input to the next step.\n",
              "function _uploadFilesContinue(outputId) {\n",
              "  const outputElement = document.getElementById(outputId);\n",
              "  const steps = outputElement.steps;\n",
              "\n",
              "  const next = steps.next(outputElement.lastPromiseValue);\n",
              "  return Promise.resolve(next.value.promise).then((value) => {\n",
              "    // Cache the last promise value to make it available to the next\n",
              "    // step of the generator.\n",
              "    outputElement.lastPromiseValue = value;\n",
              "    return next.value.response;\n",
              "  });\n",
              "}\n",
              "\n",
              "/**\n",
              " * Generator function which is called between each async step of the upload\n",
              " * process.\n",
              " * @param {string} inputId Element ID of the input file picker element.\n",
              " * @param {string} outputId Element ID of the output display.\n",
              " * @return {!Iterable<!Object>} Iterable of next steps.\n",
              " */\n",
              "function* uploadFilesStep(inputId, outputId) {\n",
              "  const inputElement = document.getElementById(inputId);\n",
              "  inputElement.disabled = false;\n",
              "\n",
              "  const outputElement = document.getElementById(outputId);\n",
              "  outputElement.innerHTML = '';\n",
              "\n",
              "  const pickedPromise = new Promise((resolve) => {\n",
              "    inputElement.addEventListener('change', (e) => {\n",
              "      resolve(e.target.files);\n",
              "    });\n",
              "  });\n",
              "\n",
              "  const cancel = document.createElement('button');\n",
              "  inputElement.parentElement.appendChild(cancel);\n",
              "  cancel.textContent = 'Cancel upload';\n",
              "  const cancelPromise = new Promise((resolve) => {\n",
              "    cancel.onclick = () => {\n",
              "      resolve(null);\n",
              "    };\n",
              "  });\n",
              "\n",
              "  // Wait for the user to pick the files.\n",
              "  const files = yield {\n",
              "    promise: Promise.race([pickedPromise, cancelPromise]),\n",
              "    response: {\n",
              "      action: 'starting',\n",
              "    }\n",
              "  };\n",
              "\n",
              "  cancel.remove();\n",
              "\n",
              "  // Disable the input element since further picks are not allowed.\n",
              "  inputElement.disabled = true;\n",
              "\n",
              "  if (!files) {\n",
              "    return {\n",
              "      response: {\n",
              "        action: 'complete',\n",
              "      }\n",
              "    };\n",
              "  }\n",
              "\n",
              "  for (const file of files) {\n",
              "    const li = document.createElement('li');\n",
              "    li.append(span(file.name, {fontWeight: 'bold'}));\n",
              "    li.append(span(\n",
              "        `(${file.type || 'n/a'}) - ${file.size} bytes, ` +\n",
              "        `last modified: ${\n",
              "            file.lastModifiedDate ? file.lastModifiedDate.toLocaleDateString() :\n",
              "                                    'n/a'} - `));\n",
              "    const percent = span('0% done');\n",
              "    li.appendChild(percent);\n",
              "\n",
              "    outputElement.appendChild(li);\n",
              "\n",
              "    const fileDataPromise = new Promise((resolve) => {\n",
              "      const reader = new FileReader();\n",
              "      reader.onload = (e) => {\n",
              "        resolve(e.target.result);\n",
              "      };\n",
              "      reader.readAsArrayBuffer(file);\n",
              "    });\n",
              "    // Wait for the data to be ready.\n",
              "    let fileData = yield {\n",
              "      promise: fileDataPromise,\n",
              "      response: {\n",
              "        action: 'continue',\n",
              "      }\n",
              "    };\n",
              "\n",
              "    // Use a chunked sending to avoid message size limits. See b/62115660.\n",
              "    let position = 0;\n",
              "    do {\n",
              "      const length = Math.min(fileData.byteLength - position, MAX_PAYLOAD_SIZE);\n",
              "      const chunk = new Uint8Array(fileData, position, length);\n",
              "      position += length;\n",
              "\n",
              "      const base64 = btoa(String.fromCharCode.apply(null, chunk));\n",
              "      yield {\n",
              "        response: {\n",
              "          action: 'append',\n",
              "          file: file.name,\n",
              "          data: base64,\n",
              "        },\n",
              "      };\n",
              "\n",
              "      let percentDone = fileData.byteLength === 0 ?\n",
              "          100 :\n",
              "          Math.round((position / fileData.byteLength) * 100);\n",
              "      percent.textContent = `${percentDone}% done`;\n",
              "\n",
              "    } while (position < fileData.byteLength);\n",
              "  }\n",
              "\n",
              "  // All done.\n",
              "  yield {\n",
              "    response: {\n",
              "      action: 'complete',\n",
              "    }\n",
              "  };\n",
              "}\n",
              "\n",
              "scope.google = scope.google || {};\n",
              "scope.google.colab = scope.google.colab || {};\n",
              "scope.google.colab._files = {\n",
              "  _uploadFiles,\n",
              "  _uploadFilesContinue,\n",
              "};\n",
              "})(self);\n",
              "</script> "
            ]
          },
          "metadata": {}
        },
        {
          "output_type": "stream",
          "name": "stdout",
          "text": [
            "Saving p000001.psv to p000001.psv\n"
          ]
        }
      ],
      "source": [
        "from google.colab import files\n",
        "uploads = files.upload()"
      ]
    },
    {
      "cell_type": "markdown",
      "source": [
        "# Data Read"
      ],
      "metadata": {
        "id": "tGW0WZpK7Csu"
      }
    },
    {
      "cell_type": "code",
      "source": [
        "import requests\n",
        "from bs4 import BeautifulSoup\n",
        "import pandas as pd\n",
        "\n",
        "\n",
        "def scrape_data(url):\n",
        "    # Send a GET request to the URL\n",
        "    response = requests.get(url)\n",
        "\n",
        "    # Check if the request was successful\n",
        "    if response.status_code == 200:\n",
        "        # Parse the HTML content\n",
        "        soup = BeautifulSoup(response.content, 'html.parser')\n",
        "\n",
        "        # Find the <pre> tag with class=\"plain\"\n",
        "        pre_tag = soup.find('pre', class_='plain')\n",
        "\n",
        "        # Extract the text content if pre_tag is found\n",
        "        if pre_tag:\n",
        "            data = pre_tag.text.strip()  # Strip to remove leading/trailing whitespace\n",
        "            return data\n",
        "        else:\n",
        "            print(f\"No data found for URL: {url}\")\n",
        "            return None\n",
        "    else:\n",
        "        print(f\"Failed to fetch data from {url}. Status code: {response.status_code}\")\n",
        "        return None\n",
        "\n",
        "# URLs to scrape\n",
        "base_url = \"https://physionet.org/content/challenge-2019/1.0.0/training/training_setA/p\"\n",
        "num_links = 20643\n",
        "urls = [f\"{base_url}{i:06d}.psv\" for i in range(1, num_links + 1)]\n",
        "\n",
        "# List to store scraped data\n",
        "scraped_data_list = []\n",
        "\n",
        "# Iterate through the URLs\n",
        "for url in urls:\n",
        "    # print(url)\n",
        "    # Scrape data from the URL\n",
        "    scraped_data = scrape_data(url)\n",
        "\n",
        "    # Append the scraped data to the list\n",
        "    if scraped_data:\n",
        "        scraped_data_list.append(scraped_data)\n",
        "\n",
        "# Print the number of scraped data items\n",
        "print(f\"Number of scraped data items: {len(scraped_data_list)}\")\n"
      ],
      "metadata": {
        "colab": {
          "base_uri": "https://localhost:8080/"
        },
        "id": "fQgS27roQfgW",
        "outputId": "acd6a30d-9cef-4b63-f66e-9ec42bcc0fab"
      },
      "execution_count": 17,
      "outputs": [
        {
          "output_type": "stream",
          "name": "stdout",
          "text": [
            "Failed to fetch data from https://physionet.org/content/challenge-2019/1.0.0/training/training_setA/p019313.psv. Status code: 404\n",
            "Failed to fetch data from https://physionet.org/content/challenge-2019/1.0.0/training/training_setA/p020001.psv. Status code: 404\n",
            "Failed to fetch data from https://physionet.org/content/challenge-2019/1.0.0/training/training_setA/p020002.psv. Status code: 404\n",
            "Failed to fetch data from https://physionet.org/content/challenge-2019/1.0.0/training/training_setA/p020003.psv. Status code: 404\n",
            "Failed to fetch data from https://physionet.org/content/challenge-2019/1.0.0/training/training_setA/p020004.psv. Status code: 404\n",
            "Failed to fetch data from https://physionet.org/content/challenge-2019/1.0.0/training/training_setA/p020005.psv. Status code: 404\n",
            "Failed to fetch data from https://physionet.org/content/challenge-2019/1.0.0/training/training_setA/p020006.psv. Status code: 404\n",
            "Failed to fetch data from https://physionet.org/content/challenge-2019/1.0.0/training/training_setA/p020008.psv. Status code: 404\n",
            "Failed to fetch data from https://physionet.org/content/challenge-2019/1.0.0/training/training_setA/p020009.psv. Status code: 404\n",
            "Failed to fetch data from https://physionet.org/content/challenge-2019/1.0.0/training/training_setA/p020010.psv. Status code: 404\n",
            "Failed to fetch data from https://physionet.org/content/challenge-2019/1.0.0/training/training_setA/p020011.psv. Status code: 404\n",
            "Failed to fetch data from https://physionet.org/content/challenge-2019/1.0.0/training/training_setA/p020012.psv. Status code: 404\n",
            "Failed to fetch data from https://physionet.org/content/challenge-2019/1.0.0/training/training_setA/p020013.psv. Status code: 404\n",
            "Failed to fetch data from https://physionet.org/content/challenge-2019/1.0.0/training/training_setA/p020014.psv. Status code: 404\n",
            "Failed to fetch data from https://physionet.org/content/challenge-2019/1.0.0/training/training_setA/p020015.psv. Status code: 404\n",
            "Failed to fetch data from https://physionet.org/content/challenge-2019/1.0.0/training/training_setA/p020016.psv. Status code: 404\n",
            "Failed to fetch data from https://physionet.org/content/challenge-2019/1.0.0/training/training_setA/p020017.psv. Status code: 404\n",
            "Failed to fetch data from https://physionet.org/content/challenge-2019/1.0.0/training/training_setA/p020018.psv. Status code: 404\n",
            "Failed to fetch data from https://physionet.org/content/challenge-2019/1.0.0/training/training_setA/p020019.psv. Status code: 404\n",
            "Failed to fetch data from https://physionet.org/content/challenge-2019/1.0.0/training/training_setA/p020020.psv. Status code: 404\n",
            "Failed to fetch data from https://physionet.org/content/challenge-2019/1.0.0/training/training_setA/p020021.psv. Status code: 404\n",
            "Failed to fetch data from https://physionet.org/content/challenge-2019/1.0.0/training/training_setA/p020022.psv. Status code: 404\n",
            "Failed to fetch data from https://physionet.org/content/challenge-2019/1.0.0/training/training_setA/p020023.psv. Status code: 404\n",
            "Failed to fetch data from https://physionet.org/content/challenge-2019/1.0.0/training/training_setA/p020024.psv. Status code: 404\n",
            "Failed to fetch data from https://physionet.org/content/challenge-2019/1.0.0/training/training_setA/p020025.psv. Status code: 404\n",
            "Failed to fetch data from https://physionet.org/content/challenge-2019/1.0.0/training/training_setA/p020026.psv. Status code: 404\n",
            "Failed to fetch data from https://physionet.org/content/challenge-2019/1.0.0/training/training_setA/p020027.psv. Status code: 404\n",
            "Failed to fetch data from https://physionet.org/content/challenge-2019/1.0.0/training/training_setA/p020028.psv. Status code: 404\n",
            "Failed to fetch data from https://physionet.org/content/challenge-2019/1.0.0/training/training_setA/p020029.psv. Status code: 404\n",
            "Failed to fetch data from https://physionet.org/content/challenge-2019/1.0.0/training/training_setA/p020030.psv. Status code: 404\n",
            "Failed to fetch data from https://physionet.org/content/challenge-2019/1.0.0/training/training_setA/p020031.psv. Status code: 404\n",
            "Failed to fetch data from https://physionet.org/content/challenge-2019/1.0.0/training/training_setA/p020032.psv. Status code: 404\n",
            "Failed to fetch data from https://physionet.org/content/challenge-2019/1.0.0/training/training_setA/p020033.psv. Status code: 404\n",
            "Failed to fetch data from https://physionet.org/content/challenge-2019/1.0.0/training/training_setA/p020034.psv. Status code: 404\n",
            "Failed to fetch data from https://physionet.org/content/challenge-2019/1.0.0/training/training_setA/p020035.psv. Status code: 404\n",
            "Failed to fetch data from https://physionet.org/content/challenge-2019/1.0.0/training/training_setA/p020036.psv. Status code: 404\n",
            "Failed to fetch data from https://physionet.org/content/challenge-2019/1.0.0/training/training_setA/p020037.psv. Status code: 404\n",
            "Failed to fetch data from https://physionet.org/content/challenge-2019/1.0.0/training/training_setA/p020038.psv. Status code: 404\n",
            "Failed to fetch data from https://physionet.org/content/challenge-2019/1.0.0/training/training_setA/p020039.psv. Status code: 404\n",
            "Failed to fetch data from https://physionet.org/content/challenge-2019/1.0.0/training/training_setA/p020040.psv. Status code: 404\n",
            "Failed to fetch data from https://physionet.org/content/challenge-2019/1.0.0/training/training_setA/p020041.psv. Status code: 404\n",
            "Failed to fetch data from https://physionet.org/content/challenge-2019/1.0.0/training/training_setA/p020042.psv. Status code: 404\n",
            "Failed to fetch data from https://physionet.org/content/challenge-2019/1.0.0/training/training_setA/p020043.psv. Status code: 404\n",
            "Failed to fetch data from https://physionet.org/content/challenge-2019/1.0.0/training/training_setA/p020044.psv. Status code: 404\n",
            "Failed to fetch data from https://physionet.org/content/challenge-2019/1.0.0/training/training_setA/p020045.psv. Status code: 404\n",
            "Failed to fetch data from https://physionet.org/content/challenge-2019/1.0.0/training/training_setA/p020046.psv. Status code: 404\n",
            "Failed to fetch data from https://physionet.org/content/challenge-2019/1.0.0/training/training_setA/p020047.psv. Status code: 404\n",
            "Failed to fetch data from https://physionet.org/content/challenge-2019/1.0.0/training/training_setA/p020048.psv. Status code: 404\n",
            "Failed to fetch data from https://physionet.org/content/challenge-2019/1.0.0/training/training_setA/p020049.psv. Status code: 404\n",
            "Failed to fetch data from https://physionet.org/content/challenge-2019/1.0.0/training/training_setA/p020050.psv. Status code: 404\n",
            "Failed to fetch data from https://physionet.org/content/challenge-2019/1.0.0/training/training_setA/p020051.psv. Status code: 404\n",
            "Failed to fetch data from https://physionet.org/content/challenge-2019/1.0.0/training/training_setA/p020052.psv. Status code: 404\n",
            "Failed to fetch data from https://physionet.org/content/challenge-2019/1.0.0/training/training_setA/p020053.psv. Status code: 404\n",
            "Failed to fetch data from https://physionet.org/content/challenge-2019/1.0.0/training/training_setA/p020054.psv. Status code: 404\n",
            "Failed to fetch data from https://physionet.org/content/challenge-2019/1.0.0/training/training_setA/p020055.psv. Status code: 404\n",
            "Failed to fetch data from https://physionet.org/content/challenge-2019/1.0.0/training/training_setA/p020056.psv. Status code: 404\n",
            "Failed to fetch data from https://physionet.org/content/challenge-2019/1.0.0/training/training_setA/p020057.psv. Status code: 404\n",
            "Failed to fetch data from https://physionet.org/content/challenge-2019/1.0.0/training/training_setA/p020058.psv. Status code: 404\n",
            "Failed to fetch data from https://physionet.org/content/challenge-2019/1.0.0/training/training_setA/p020059.psv. Status code: 404\n",
            "Failed to fetch data from https://physionet.org/content/challenge-2019/1.0.0/training/training_setA/p020060.psv. Status code: 404\n",
            "Failed to fetch data from https://physionet.org/content/challenge-2019/1.0.0/training/training_setA/p020061.psv. Status code: 404\n",
            "Failed to fetch data from https://physionet.org/content/challenge-2019/1.0.0/training/training_setA/p020062.psv. Status code: 404\n",
            "Failed to fetch data from https://physionet.org/content/challenge-2019/1.0.0/training/training_setA/p020063.psv. Status code: 404\n",
            "Failed to fetch data from https://physionet.org/content/challenge-2019/1.0.0/training/training_setA/p020064.psv. Status code: 404\n",
            "Failed to fetch data from https://physionet.org/content/challenge-2019/1.0.0/training/training_setA/p020065.psv. Status code: 404\n",
            "Failed to fetch data from https://physionet.org/content/challenge-2019/1.0.0/training/training_setA/p020066.psv. Status code: 404\n",
            "Failed to fetch data from https://physionet.org/content/challenge-2019/1.0.0/training/training_setA/p020067.psv. Status code: 404\n",
            "Failed to fetch data from https://physionet.org/content/challenge-2019/1.0.0/training/training_setA/p020068.psv. Status code: 404\n",
            "Failed to fetch data from https://physionet.org/content/challenge-2019/1.0.0/training/training_setA/p020069.psv. Status code: 404\n",
            "Failed to fetch data from https://physionet.org/content/challenge-2019/1.0.0/training/training_setA/p020070.psv. Status code: 404\n",
            "Failed to fetch data from https://physionet.org/content/challenge-2019/1.0.0/training/training_setA/p020071.psv. Status code: 404\n",
            "Failed to fetch data from https://physionet.org/content/challenge-2019/1.0.0/training/training_setA/p020072.psv. Status code: 404\n",
            "Failed to fetch data from https://physionet.org/content/challenge-2019/1.0.0/training/training_setA/p020073.psv. Status code: 404\n",
            "Failed to fetch data from https://physionet.org/content/challenge-2019/1.0.0/training/training_setA/p020074.psv. Status code: 404\n",
            "Failed to fetch data from https://physionet.org/content/challenge-2019/1.0.0/training/training_setA/p020075.psv. Status code: 404\n",
            "Failed to fetch data from https://physionet.org/content/challenge-2019/1.0.0/training/training_setA/p020076.psv. Status code: 404\n",
            "Failed to fetch data from https://physionet.org/content/challenge-2019/1.0.0/training/training_setA/p020077.psv. Status code: 404\n",
            "Failed to fetch data from https://physionet.org/content/challenge-2019/1.0.0/training/training_setA/p020078.psv. Status code: 404\n",
            "Failed to fetch data from https://physionet.org/content/challenge-2019/1.0.0/training/training_setA/p020079.psv. Status code: 404\n",
            "Failed to fetch data from https://physionet.org/content/challenge-2019/1.0.0/training/training_setA/p020080.psv. Status code: 404\n",
            "Failed to fetch data from https://physionet.org/content/challenge-2019/1.0.0/training/training_setA/p020081.psv. Status code: 404\n",
            "Failed to fetch data from https://physionet.org/content/challenge-2019/1.0.0/training/training_setA/p020082.psv. Status code: 404\n",
            "Failed to fetch data from https://physionet.org/content/challenge-2019/1.0.0/training/training_setA/p020083.psv. Status code: 404\n",
            "Failed to fetch data from https://physionet.org/content/challenge-2019/1.0.0/training/training_setA/p020084.psv. Status code: 404\n",
            "Failed to fetch data from https://physionet.org/content/challenge-2019/1.0.0/training/training_setA/p020085.psv. Status code: 404\n",
            "Failed to fetch data from https://physionet.org/content/challenge-2019/1.0.0/training/training_setA/p020086.psv. Status code: 404\n",
            "Failed to fetch data from https://physionet.org/content/challenge-2019/1.0.0/training/training_setA/p020087.psv. Status code: 404\n",
            "Failed to fetch data from https://physionet.org/content/challenge-2019/1.0.0/training/training_setA/p020088.psv. Status code: 404\n",
            "Failed to fetch data from https://physionet.org/content/challenge-2019/1.0.0/training/training_setA/p020089.psv. Status code: 404\n",
            "Failed to fetch data from https://physionet.org/content/challenge-2019/1.0.0/training/training_setA/p020090.psv. Status code: 404\n",
            "Failed to fetch data from https://physionet.org/content/challenge-2019/1.0.0/training/training_setA/p020091.psv. Status code: 404\n",
            "Failed to fetch data from https://physionet.org/content/challenge-2019/1.0.0/training/training_setA/p020092.psv. Status code: 404\n",
            "Failed to fetch data from https://physionet.org/content/challenge-2019/1.0.0/training/training_setA/p020093.psv. Status code: 404\n",
            "Failed to fetch data from https://physionet.org/content/challenge-2019/1.0.0/training/training_setA/p020094.psv. Status code: 404\n",
            "Failed to fetch data from https://physionet.org/content/challenge-2019/1.0.0/training/training_setA/p020095.psv. Status code: 404\n",
            "Failed to fetch data from https://physionet.org/content/challenge-2019/1.0.0/training/training_setA/p020096.psv. Status code: 404\n",
            "Failed to fetch data from https://physionet.org/content/challenge-2019/1.0.0/training/training_setA/p020097.psv. Status code: 404\n",
            "Failed to fetch data from https://physionet.org/content/challenge-2019/1.0.0/training/training_setA/p020098.psv. Status code: 404\n",
            "Failed to fetch data from https://physionet.org/content/challenge-2019/1.0.0/training/training_setA/p020099.psv. Status code: 404\n",
            "Failed to fetch data from https://physionet.org/content/challenge-2019/1.0.0/training/training_setA/p020100.psv. Status code: 404\n",
            "Failed to fetch data from https://physionet.org/content/challenge-2019/1.0.0/training/training_setA/p020101.psv. Status code: 404\n",
            "Failed to fetch data from https://physionet.org/content/challenge-2019/1.0.0/training/training_setA/p020102.psv. Status code: 404\n",
            "Failed to fetch data from https://physionet.org/content/challenge-2019/1.0.0/training/training_setA/p020103.psv. Status code: 404\n",
            "Failed to fetch data from https://physionet.org/content/challenge-2019/1.0.0/training/training_setA/p020104.psv. Status code: 404\n",
            "Failed to fetch data from https://physionet.org/content/challenge-2019/1.0.0/training/training_setA/p020105.psv. Status code: 404\n",
            "Failed to fetch data from https://physionet.org/content/challenge-2019/1.0.0/training/training_setA/p020106.psv. Status code: 404\n",
            "Failed to fetch data from https://physionet.org/content/challenge-2019/1.0.0/training/training_setA/p020107.psv. Status code: 404\n",
            "Failed to fetch data from https://physionet.org/content/challenge-2019/1.0.0/training/training_setA/p020108.psv. Status code: 404\n",
            "Failed to fetch data from https://physionet.org/content/challenge-2019/1.0.0/training/training_setA/p020109.psv. Status code: 404\n",
            "Failed to fetch data from https://physionet.org/content/challenge-2019/1.0.0/training/training_setA/p020110.psv. Status code: 404\n",
            "Failed to fetch data from https://physionet.org/content/challenge-2019/1.0.0/training/training_setA/p020111.psv. Status code: 404\n",
            "Failed to fetch data from https://physionet.org/content/challenge-2019/1.0.0/training/training_setA/p020112.psv. Status code: 404\n",
            "Failed to fetch data from https://physionet.org/content/challenge-2019/1.0.0/training/training_setA/p020113.psv. Status code: 404\n",
            "Failed to fetch data from https://physionet.org/content/challenge-2019/1.0.0/training/training_setA/p020114.psv. Status code: 404\n",
            "Failed to fetch data from https://physionet.org/content/challenge-2019/1.0.0/training/training_setA/p020115.psv. Status code: 404\n",
            "Failed to fetch data from https://physionet.org/content/challenge-2019/1.0.0/training/training_setA/p020116.psv. Status code: 404\n",
            "Failed to fetch data from https://physionet.org/content/challenge-2019/1.0.0/training/training_setA/p020117.psv. Status code: 404\n",
            "Failed to fetch data from https://physionet.org/content/challenge-2019/1.0.0/training/training_setA/p020118.psv. Status code: 404\n",
            "Failed to fetch data from https://physionet.org/content/challenge-2019/1.0.0/training/training_setA/p020119.psv. Status code: 404\n",
            "Failed to fetch data from https://physionet.org/content/challenge-2019/1.0.0/training/training_setA/p020120.psv. Status code: 404\n",
            "Failed to fetch data from https://physionet.org/content/challenge-2019/1.0.0/training/training_setA/p020121.psv. Status code: 404\n",
            "Failed to fetch data from https://physionet.org/content/challenge-2019/1.0.0/training/training_setA/p020122.psv. Status code: 404\n",
            "Failed to fetch data from https://physionet.org/content/challenge-2019/1.0.0/training/training_setA/p020123.psv. Status code: 404\n",
            "Failed to fetch data from https://physionet.org/content/challenge-2019/1.0.0/training/training_setA/p020124.psv. Status code: 404\n",
            "Failed to fetch data from https://physionet.org/content/challenge-2019/1.0.0/training/training_setA/p020125.psv. Status code: 404\n",
            "Failed to fetch data from https://physionet.org/content/challenge-2019/1.0.0/training/training_setA/p020126.psv. Status code: 404\n",
            "Failed to fetch data from https://physionet.org/content/challenge-2019/1.0.0/training/training_setA/p020127.psv. Status code: 404\n",
            "Failed to fetch data from https://physionet.org/content/challenge-2019/1.0.0/training/training_setA/p020128.psv. Status code: 404\n",
            "Failed to fetch data from https://physionet.org/content/challenge-2019/1.0.0/training/training_setA/p020129.psv. Status code: 404\n",
            "Failed to fetch data from https://physionet.org/content/challenge-2019/1.0.0/training/training_setA/p020130.psv. Status code: 404\n",
            "Failed to fetch data from https://physionet.org/content/challenge-2019/1.0.0/training/training_setA/p020131.psv. Status code: 404\n",
            "Failed to fetch data from https://physionet.org/content/challenge-2019/1.0.0/training/training_setA/p020132.psv. Status code: 404\n",
            "Failed to fetch data from https://physionet.org/content/challenge-2019/1.0.0/training/training_setA/p020133.psv. Status code: 404\n",
            "Failed to fetch data from https://physionet.org/content/challenge-2019/1.0.0/training/training_setA/p020134.psv. Status code: 404\n",
            "Failed to fetch data from https://physionet.org/content/challenge-2019/1.0.0/training/training_setA/p020135.psv. Status code: 404\n",
            "Failed to fetch data from https://physionet.org/content/challenge-2019/1.0.0/training/training_setA/p020136.psv. Status code: 404\n",
            "Failed to fetch data from https://physionet.org/content/challenge-2019/1.0.0/training/training_setA/p020137.psv. Status code: 404\n",
            "Failed to fetch data from https://physionet.org/content/challenge-2019/1.0.0/training/training_setA/p020138.psv. Status code: 404\n",
            "Failed to fetch data from https://physionet.org/content/challenge-2019/1.0.0/training/training_setA/p020139.psv. Status code: 404\n",
            "Failed to fetch data from https://physionet.org/content/challenge-2019/1.0.0/training/training_setA/p020140.psv. Status code: 404\n",
            "Failed to fetch data from https://physionet.org/content/challenge-2019/1.0.0/training/training_setA/p020141.psv. Status code: 404\n",
            "Failed to fetch data from https://physionet.org/content/challenge-2019/1.0.0/training/training_setA/p020142.psv. Status code: 404\n",
            "Failed to fetch data from https://physionet.org/content/challenge-2019/1.0.0/training/training_setA/p020143.psv. Status code: 404\n",
            "Failed to fetch data from https://physionet.org/content/challenge-2019/1.0.0/training/training_setA/p020144.psv. Status code: 404\n",
            "Failed to fetch data from https://physionet.org/content/challenge-2019/1.0.0/training/training_setA/p020145.psv. Status code: 404\n",
            "Failed to fetch data from https://physionet.org/content/challenge-2019/1.0.0/training/training_setA/p020146.psv. Status code: 404\n",
            "Failed to fetch data from https://physionet.org/content/challenge-2019/1.0.0/training/training_setA/p020147.psv. Status code: 404\n",
            "Failed to fetch data from https://physionet.org/content/challenge-2019/1.0.0/training/training_setA/p020148.psv. Status code: 404\n",
            "Failed to fetch data from https://physionet.org/content/challenge-2019/1.0.0/training/training_setA/p020149.psv. Status code: 404\n",
            "Failed to fetch data from https://physionet.org/content/challenge-2019/1.0.0/training/training_setA/p020150.psv. Status code: 404\n",
            "Failed to fetch data from https://physionet.org/content/challenge-2019/1.0.0/training/training_setA/p020151.psv. Status code: 404\n",
            "Failed to fetch data from https://physionet.org/content/challenge-2019/1.0.0/training/training_setA/p020152.psv. Status code: 404\n",
            "Failed to fetch data from https://physionet.org/content/challenge-2019/1.0.0/training/training_setA/p020153.psv. Status code: 404\n",
            "Failed to fetch data from https://physionet.org/content/challenge-2019/1.0.0/training/training_setA/p020154.psv. Status code: 404\n",
            "Failed to fetch data from https://physionet.org/content/challenge-2019/1.0.0/training/training_setA/p020155.psv. Status code: 404\n",
            "Failed to fetch data from https://physionet.org/content/challenge-2019/1.0.0/training/training_setA/p020156.psv. Status code: 404\n",
            "Failed to fetch data from https://physionet.org/content/challenge-2019/1.0.0/training/training_setA/p020157.psv. Status code: 404\n",
            "Failed to fetch data from https://physionet.org/content/challenge-2019/1.0.0/training/training_setA/p020158.psv. Status code: 404\n",
            "Failed to fetch data from https://physionet.org/content/challenge-2019/1.0.0/training/training_setA/p020159.psv. Status code: 404\n",
            "Failed to fetch data from https://physionet.org/content/challenge-2019/1.0.0/training/training_setA/p020160.psv. Status code: 404\n",
            "Failed to fetch data from https://physionet.org/content/challenge-2019/1.0.0/training/training_setA/p020161.psv. Status code: 404\n",
            "Failed to fetch data from https://physionet.org/content/challenge-2019/1.0.0/training/training_setA/p020162.psv. Status code: 404\n",
            "Failed to fetch data from https://physionet.org/content/challenge-2019/1.0.0/training/training_setA/p020163.psv. Status code: 404\n",
            "Failed to fetch data from https://physionet.org/content/challenge-2019/1.0.0/training/training_setA/p020164.psv. Status code: 404\n",
            "Failed to fetch data from https://physionet.org/content/challenge-2019/1.0.0/training/training_setA/p020165.psv. Status code: 404\n",
            "Failed to fetch data from https://physionet.org/content/challenge-2019/1.0.0/training/training_setA/p020166.psv. Status code: 404\n",
            "Failed to fetch data from https://physionet.org/content/challenge-2019/1.0.0/training/training_setA/p020167.psv. Status code: 404\n",
            "Failed to fetch data from https://physionet.org/content/challenge-2019/1.0.0/training/training_setA/p020168.psv. Status code: 404\n",
            "Failed to fetch data from https://physionet.org/content/challenge-2019/1.0.0/training/training_setA/p020169.psv. Status code: 404\n",
            "Failed to fetch data from https://physionet.org/content/challenge-2019/1.0.0/training/training_setA/p020170.psv. Status code: 404\n",
            "Failed to fetch data from https://physionet.org/content/challenge-2019/1.0.0/training/training_setA/p020171.psv. Status code: 404\n",
            "Failed to fetch data from https://physionet.org/content/challenge-2019/1.0.0/training/training_setA/p020172.psv. Status code: 404\n",
            "Failed to fetch data from https://physionet.org/content/challenge-2019/1.0.0/training/training_setA/p020173.psv. Status code: 404\n",
            "Failed to fetch data from https://physionet.org/content/challenge-2019/1.0.0/training/training_setA/p020174.psv. Status code: 404\n",
            "Failed to fetch data from https://physionet.org/content/challenge-2019/1.0.0/training/training_setA/p020175.psv. Status code: 404\n",
            "Failed to fetch data from https://physionet.org/content/challenge-2019/1.0.0/training/training_setA/p020176.psv. Status code: 404\n",
            "Failed to fetch data from https://physionet.org/content/challenge-2019/1.0.0/training/training_setA/p020177.psv. Status code: 404\n",
            "Failed to fetch data from https://physionet.org/content/challenge-2019/1.0.0/training/training_setA/p020178.psv. Status code: 404\n",
            "Failed to fetch data from https://physionet.org/content/challenge-2019/1.0.0/training/training_setA/p020179.psv. Status code: 404\n",
            "Failed to fetch data from https://physionet.org/content/challenge-2019/1.0.0/training/training_setA/p020180.psv. Status code: 404\n",
            "Failed to fetch data from https://physionet.org/content/challenge-2019/1.0.0/training/training_setA/p020181.psv. Status code: 404\n",
            "Failed to fetch data from https://physionet.org/content/challenge-2019/1.0.0/training/training_setA/p020182.psv. Status code: 404\n",
            "Failed to fetch data from https://physionet.org/content/challenge-2019/1.0.0/training/training_setA/p020183.psv. Status code: 404\n",
            "Failed to fetch data from https://physionet.org/content/challenge-2019/1.0.0/training/training_setA/p020184.psv. Status code: 404\n",
            "Failed to fetch data from https://physionet.org/content/challenge-2019/1.0.0/training/training_setA/p020185.psv. Status code: 404\n",
            "Failed to fetch data from https://physionet.org/content/challenge-2019/1.0.0/training/training_setA/p020186.psv. Status code: 404\n",
            "Failed to fetch data from https://physionet.org/content/challenge-2019/1.0.0/training/training_setA/p020187.psv. Status code: 404\n",
            "Failed to fetch data from https://physionet.org/content/challenge-2019/1.0.0/training/training_setA/p020188.psv. Status code: 404\n",
            "Failed to fetch data from https://physionet.org/content/challenge-2019/1.0.0/training/training_setA/p020189.psv. Status code: 404\n",
            "Failed to fetch data from https://physionet.org/content/challenge-2019/1.0.0/training/training_setA/p020190.psv. Status code: 404\n",
            "Failed to fetch data from https://physionet.org/content/challenge-2019/1.0.0/training/training_setA/p020191.psv. Status code: 404\n",
            "Failed to fetch data from https://physionet.org/content/challenge-2019/1.0.0/training/training_setA/p020192.psv. Status code: 404\n",
            "Failed to fetch data from https://physionet.org/content/challenge-2019/1.0.0/training/training_setA/p020193.psv. Status code: 404\n",
            "Failed to fetch data from https://physionet.org/content/challenge-2019/1.0.0/training/training_setA/p020194.psv. Status code: 404\n",
            "Failed to fetch data from https://physionet.org/content/challenge-2019/1.0.0/training/training_setA/p020195.psv. Status code: 404\n",
            "Failed to fetch data from https://physionet.org/content/challenge-2019/1.0.0/training/training_setA/p020196.psv. Status code: 404\n",
            "Failed to fetch data from https://physionet.org/content/challenge-2019/1.0.0/training/training_setA/p020197.psv. Status code: 404\n",
            "Failed to fetch data from https://physionet.org/content/challenge-2019/1.0.0/training/training_setA/p020198.psv. Status code: 404\n",
            "Failed to fetch data from https://physionet.org/content/challenge-2019/1.0.0/training/training_setA/p020199.psv. Status code: 404\n",
            "Failed to fetch data from https://physionet.org/content/challenge-2019/1.0.0/training/training_setA/p020200.psv. Status code: 404\n",
            "Failed to fetch data from https://physionet.org/content/challenge-2019/1.0.0/training/training_setA/p020201.psv. Status code: 404\n",
            "Failed to fetch data from https://physionet.org/content/challenge-2019/1.0.0/training/training_setA/p020202.psv. Status code: 404\n",
            "Failed to fetch data from https://physionet.org/content/challenge-2019/1.0.0/training/training_setA/p020203.psv. Status code: 404\n",
            "Failed to fetch data from https://physionet.org/content/challenge-2019/1.0.0/training/training_setA/p020204.psv. Status code: 404\n",
            "Failed to fetch data from https://physionet.org/content/challenge-2019/1.0.0/training/training_setA/p020205.psv. Status code: 404\n",
            "Failed to fetch data from https://physionet.org/content/challenge-2019/1.0.0/training/training_setA/p020206.psv. Status code: 404\n",
            "Failed to fetch data from https://physionet.org/content/challenge-2019/1.0.0/training/training_setA/p020207.psv. Status code: 404\n",
            "Failed to fetch data from https://physionet.org/content/challenge-2019/1.0.0/training/training_setA/p020208.psv. Status code: 404\n",
            "Failed to fetch data from https://physionet.org/content/challenge-2019/1.0.0/training/training_setA/p020209.psv. Status code: 404\n",
            "Failed to fetch data from https://physionet.org/content/challenge-2019/1.0.0/training/training_setA/p020210.psv. Status code: 404\n",
            "Failed to fetch data from https://physionet.org/content/challenge-2019/1.0.0/training/training_setA/p020211.psv. Status code: 404\n",
            "Failed to fetch data from https://physionet.org/content/challenge-2019/1.0.0/training/training_setA/p020212.psv. Status code: 404\n",
            "Failed to fetch data from https://physionet.org/content/challenge-2019/1.0.0/training/training_setA/p020213.psv. Status code: 404\n",
            "Failed to fetch data from https://physionet.org/content/challenge-2019/1.0.0/training/training_setA/p020214.psv. Status code: 404\n",
            "Failed to fetch data from https://physionet.org/content/challenge-2019/1.0.0/training/training_setA/p020215.psv. Status code: 404\n",
            "Failed to fetch data from https://physionet.org/content/challenge-2019/1.0.0/training/training_setA/p020216.psv. Status code: 404\n",
            "Failed to fetch data from https://physionet.org/content/challenge-2019/1.0.0/training/training_setA/p020217.psv. Status code: 404\n",
            "Failed to fetch data from https://physionet.org/content/challenge-2019/1.0.0/training/training_setA/p020218.psv. Status code: 404\n",
            "Failed to fetch data from https://physionet.org/content/challenge-2019/1.0.0/training/training_setA/p020219.psv. Status code: 404\n",
            "Failed to fetch data from https://physionet.org/content/challenge-2019/1.0.0/training/training_setA/p020220.psv. Status code: 404\n",
            "Failed to fetch data from https://physionet.org/content/challenge-2019/1.0.0/training/training_setA/p020221.psv. Status code: 404\n",
            "Failed to fetch data from https://physionet.org/content/challenge-2019/1.0.0/training/training_setA/p020222.psv. Status code: 404\n",
            "Failed to fetch data from https://physionet.org/content/challenge-2019/1.0.0/training/training_setA/p020223.psv. Status code: 404\n",
            "Failed to fetch data from https://physionet.org/content/challenge-2019/1.0.0/training/training_setA/p020224.psv. Status code: 404\n",
            "Failed to fetch data from https://physionet.org/content/challenge-2019/1.0.0/training/training_setA/p020225.psv. Status code: 404\n",
            "Failed to fetch data from https://physionet.org/content/challenge-2019/1.0.0/training/training_setA/p020226.psv. Status code: 404\n",
            "Failed to fetch data from https://physionet.org/content/challenge-2019/1.0.0/training/training_setA/p020227.psv. Status code: 404\n",
            "Failed to fetch data from https://physionet.org/content/challenge-2019/1.0.0/training/training_setA/p020228.psv. Status code: 404\n",
            "Failed to fetch data from https://physionet.org/content/challenge-2019/1.0.0/training/training_setA/p020229.psv. Status code: 404\n",
            "Failed to fetch data from https://physionet.org/content/challenge-2019/1.0.0/training/training_setA/p020230.psv. Status code: 404\n",
            "Failed to fetch data from https://physionet.org/content/challenge-2019/1.0.0/training/training_setA/p020231.psv. Status code: 404\n",
            "Failed to fetch data from https://physionet.org/content/challenge-2019/1.0.0/training/training_setA/p020232.psv. Status code: 404\n",
            "Failed to fetch data from https://physionet.org/content/challenge-2019/1.0.0/training/training_setA/p020233.psv. Status code: 404\n",
            "Failed to fetch data from https://physionet.org/content/challenge-2019/1.0.0/training/training_setA/p020234.psv. Status code: 404\n",
            "Failed to fetch data from https://physionet.org/content/challenge-2019/1.0.0/training/training_setA/p020235.psv. Status code: 404\n",
            "Failed to fetch data from https://physionet.org/content/challenge-2019/1.0.0/training/training_setA/p020236.psv. Status code: 404\n",
            "Failed to fetch data from https://physionet.org/content/challenge-2019/1.0.0/training/training_setA/p020237.psv. Status code: 404\n",
            "Failed to fetch data from https://physionet.org/content/challenge-2019/1.0.0/training/training_setA/p020238.psv. Status code: 404\n",
            "Failed to fetch data from https://physionet.org/content/challenge-2019/1.0.0/training/training_setA/p020239.psv. Status code: 404\n",
            "Failed to fetch data from https://physionet.org/content/challenge-2019/1.0.0/training/training_setA/p020240.psv. Status code: 404\n",
            "Failed to fetch data from https://physionet.org/content/challenge-2019/1.0.0/training/training_setA/p020241.psv. Status code: 404\n",
            "Failed to fetch data from https://physionet.org/content/challenge-2019/1.0.0/training/training_setA/p020242.psv. Status code: 404\n",
            "Failed to fetch data from https://physionet.org/content/challenge-2019/1.0.0/training/training_setA/p020243.psv. Status code: 404\n",
            "Failed to fetch data from https://physionet.org/content/challenge-2019/1.0.0/training/training_setA/p020244.psv. Status code: 404\n",
            "Failed to fetch data from https://physionet.org/content/challenge-2019/1.0.0/training/training_setA/p020245.psv. Status code: 404\n",
            "Failed to fetch data from https://physionet.org/content/challenge-2019/1.0.0/training/training_setA/p020246.psv. Status code: 404\n",
            "Failed to fetch data from https://physionet.org/content/challenge-2019/1.0.0/training/training_setA/p020247.psv. Status code: 404\n",
            "Failed to fetch data from https://physionet.org/content/challenge-2019/1.0.0/training/training_setA/p020248.psv. Status code: 404\n",
            "Failed to fetch data from https://physionet.org/content/challenge-2019/1.0.0/training/training_setA/p020249.psv. Status code: 404\n",
            "Failed to fetch data from https://physionet.org/content/challenge-2019/1.0.0/training/training_setA/p020250.psv. Status code: 404\n",
            "Failed to fetch data from https://physionet.org/content/challenge-2019/1.0.0/training/training_setA/p020251.psv. Status code: 404\n",
            "Failed to fetch data from https://physionet.org/content/challenge-2019/1.0.0/training/training_setA/p020252.psv. Status code: 404\n",
            "Failed to fetch data from https://physionet.org/content/challenge-2019/1.0.0/training/training_setA/p020253.psv. Status code: 404\n",
            "Failed to fetch data from https://physionet.org/content/challenge-2019/1.0.0/training/training_setA/p020254.psv. Status code: 404\n",
            "Failed to fetch data from https://physionet.org/content/challenge-2019/1.0.0/training/training_setA/p020255.psv. Status code: 404\n",
            "Failed to fetch data from https://physionet.org/content/challenge-2019/1.0.0/training/training_setA/p020256.psv. Status code: 404\n",
            "Failed to fetch data from https://physionet.org/content/challenge-2019/1.0.0/training/training_setA/p020257.psv. Status code: 404\n",
            "Failed to fetch data from https://physionet.org/content/challenge-2019/1.0.0/training/training_setA/p020258.psv. Status code: 404\n",
            "Failed to fetch data from https://physionet.org/content/challenge-2019/1.0.0/training/training_setA/p020259.psv. Status code: 404\n",
            "Failed to fetch data from https://physionet.org/content/challenge-2019/1.0.0/training/training_setA/p020260.psv. Status code: 404\n",
            "Failed to fetch data from https://physionet.org/content/challenge-2019/1.0.0/training/training_setA/p020261.psv. Status code: 404\n",
            "Failed to fetch data from https://physionet.org/content/challenge-2019/1.0.0/training/training_setA/p020262.psv. Status code: 404\n",
            "Failed to fetch data from https://physionet.org/content/challenge-2019/1.0.0/training/training_setA/p020263.psv. Status code: 404\n",
            "Failed to fetch data from https://physionet.org/content/challenge-2019/1.0.0/training/training_setA/p020264.psv. Status code: 404\n",
            "Failed to fetch data from https://physionet.org/content/challenge-2019/1.0.0/training/training_setA/p020265.psv. Status code: 404\n",
            "Failed to fetch data from https://physionet.org/content/challenge-2019/1.0.0/training/training_setA/p020266.psv. Status code: 404\n",
            "Failed to fetch data from https://physionet.org/content/challenge-2019/1.0.0/training/training_setA/p020267.psv. Status code: 404\n",
            "Failed to fetch data from https://physionet.org/content/challenge-2019/1.0.0/training/training_setA/p020268.psv. Status code: 404\n",
            "Failed to fetch data from https://physionet.org/content/challenge-2019/1.0.0/training/training_setA/p020269.psv. Status code: 404\n",
            "Failed to fetch data from https://physionet.org/content/challenge-2019/1.0.0/training/training_setA/p020270.psv. Status code: 404\n",
            "Failed to fetch data from https://physionet.org/content/challenge-2019/1.0.0/training/training_setA/p020271.psv. Status code: 404\n",
            "Failed to fetch data from https://physionet.org/content/challenge-2019/1.0.0/training/training_setA/p020272.psv. Status code: 404\n",
            "Failed to fetch data from https://physionet.org/content/challenge-2019/1.0.0/training/training_setA/p020273.psv. Status code: 404\n",
            "Failed to fetch data from https://physionet.org/content/challenge-2019/1.0.0/training/training_setA/p020274.psv. Status code: 404\n",
            "Failed to fetch data from https://physionet.org/content/challenge-2019/1.0.0/training/training_setA/p020275.psv. Status code: 404\n",
            "Failed to fetch data from https://physionet.org/content/challenge-2019/1.0.0/training/training_setA/p020276.psv. Status code: 404\n",
            "Failed to fetch data from https://physionet.org/content/challenge-2019/1.0.0/training/training_setA/p020277.psv. Status code: 404\n",
            "Failed to fetch data from https://physionet.org/content/challenge-2019/1.0.0/training/training_setA/p020278.psv. Status code: 404\n",
            "Failed to fetch data from https://physionet.org/content/challenge-2019/1.0.0/training/training_setA/p020279.psv. Status code: 404\n",
            "Failed to fetch data from https://physionet.org/content/challenge-2019/1.0.0/training/training_setA/p020280.psv. Status code: 404\n",
            "Failed to fetch data from https://physionet.org/content/challenge-2019/1.0.0/training/training_setA/p020281.psv. Status code: 404\n",
            "Failed to fetch data from https://physionet.org/content/challenge-2019/1.0.0/training/training_setA/p020282.psv. Status code: 404\n",
            "Failed to fetch data from https://physionet.org/content/challenge-2019/1.0.0/training/training_setA/p020283.psv. Status code: 404\n",
            "Failed to fetch data from https://physionet.org/content/challenge-2019/1.0.0/training/training_setA/p020284.psv. Status code: 404\n",
            "Failed to fetch data from https://physionet.org/content/challenge-2019/1.0.0/training/training_setA/p020285.psv. Status code: 404\n",
            "Failed to fetch data from https://physionet.org/content/challenge-2019/1.0.0/training/training_setA/p020286.psv. Status code: 404\n",
            "Failed to fetch data from https://physionet.org/content/challenge-2019/1.0.0/training/training_setA/p020287.psv. Status code: 404\n",
            "Failed to fetch data from https://physionet.org/content/challenge-2019/1.0.0/training/training_setA/p020288.psv. Status code: 404\n",
            "Failed to fetch data from https://physionet.org/content/challenge-2019/1.0.0/training/training_setA/p020289.psv. Status code: 404\n",
            "Failed to fetch data from https://physionet.org/content/challenge-2019/1.0.0/training/training_setA/p020290.psv. Status code: 404\n",
            "Failed to fetch data from https://physionet.org/content/challenge-2019/1.0.0/training/training_setA/p020291.psv. Status code: 404\n",
            "Failed to fetch data from https://physionet.org/content/challenge-2019/1.0.0/training/training_setA/p020292.psv. Status code: 404\n",
            "Failed to fetch data from https://physionet.org/content/challenge-2019/1.0.0/training/training_setA/p020293.psv. Status code: 404\n",
            "Failed to fetch data from https://physionet.org/content/challenge-2019/1.0.0/training/training_setA/p020294.psv. Status code: 404\n",
            "Failed to fetch data from https://physionet.org/content/challenge-2019/1.0.0/training/training_setA/p020295.psv. Status code: 404\n",
            "Failed to fetch data from https://physionet.org/content/challenge-2019/1.0.0/training/training_setA/p020296.psv. Status code: 404\n",
            "Failed to fetch data from https://physionet.org/content/challenge-2019/1.0.0/training/training_setA/p020297.psv. Status code: 404\n",
            "Failed to fetch data from https://physionet.org/content/challenge-2019/1.0.0/training/training_setA/p020298.psv. Status code: 404\n",
            "Failed to fetch data from https://physionet.org/content/challenge-2019/1.0.0/training/training_setA/p020299.psv. Status code: 404\n",
            "Failed to fetch data from https://physionet.org/content/challenge-2019/1.0.0/training/training_setA/p020300.psv. Status code: 404\n",
            "Failed to fetch data from https://physionet.org/content/challenge-2019/1.0.0/training/training_setA/p020301.psv. Status code: 404\n",
            "Failed to fetch data from https://physionet.org/content/challenge-2019/1.0.0/training/training_setA/p020302.psv. Status code: 404\n",
            "Failed to fetch data from https://physionet.org/content/challenge-2019/1.0.0/training/training_setA/p020303.psv. Status code: 404\n",
            "Failed to fetch data from https://physionet.org/content/challenge-2019/1.0.0/training/training_setA/p020304.psv. Status code: 404\n",
            "Failed to fetch data from https://physionet.org/content/challenge-2019/1.0.0/training/training_setA/p020305.psv. Status code: 404\n",
            "Failed to fetch data from https://physionet.org/content/challenge-2019/1.0.0/training/training_setA/p020306.psv. Status code: 404\n",
            "Failed to fetch data from https://physionet.org/content/challenge-2019/1.0.0/training/training_setA/p020307.psv. Status code: 404\n",
            "Number of scraped data items: 20336\n"
          ]
        }
      ]
    },
    {
      "cell_type": "code",
      "source": [
        "import csv\n",
        "\n",
        "# Specify the file path\n",
        "file_path = \"scraped_data.csv\"\n",
        "\n",
        "# Write the scraped data to a CSV file\n",
        "with open(file_path, mode='w', newline='', encoding='utf-8') as file:\n",
        "    writer = csv.writer(file)\n",
        "    writer.writerow([\"Data\"])  # Write header if needed\n",
        "    writer.writerows([[data] for data in scraped_data_list])\n",
        "\n",
        "print(f\"Data has been saved to {file_path}\")"
      ],
      "metadata": {
        "colab": {
          "base_uri": "https://localhost:8080/"
        },
        "id": "wkhLGcIYEJP-",
        "outputId": "6e4d867a-190a-4060-99a8-6ed0206d64de"
      },
      "execution_count": 53,
      "outputs": [
        {
          "output_type": "stream",
          "name": "stdout",
          "text": [
            "Data has been saved to scraped_data.csv\n"
          ]
        }
      ]
    },
    {
      "cell_type": "code",
      "source": [
        "# Specify the file path\n",
        "file_path = \"scraped_data.csv\"\n",
        "\n",
        "# Write the scraped data to a CSV file\n",
        "with open(file_path, mode='w', newline='', encoding='utf-8') as file:\n",
        "    writer = csv.writer(file)\n",
        "    for data in scraped_data_list:\n",
        "        writer.writerow([str(data)])\n",
        "\n",
        "print(f\"Data has been saved to {file_path}\")"
      ],
      "metadata": {
        "colab": {
          "base_uri": "https://localhost:8080/"
        },
        "id": "OkbxVITMKNLl",
        "outputId": "2c9c06d7-5864-444c-cb4b-f9a89943a9f1"
      },
      "execution_count": 56,
      "outputs": [
        {
          "output_type": "stream",
          "name": "stdout",
          "text": [
            "Data has been saved to scraped_data.csv\n"
          ]
        }
      ]
    },
    {
      "cell_type": "code",
      "source": [
        "from google.colab import files\n",
        "\n",
        "files.download(file_path)"
      ],
      "metadata": {
        "colab": {
          "base_uri": "https://localhost:8080/",
          "height": 17
        },
        "id": "APpZjdtJEkyn",
        "outputId": "53f0ea1b-9a6e-4a70-de6c-66ff7692e7ac"
      },
      "execution_count": 57,
      "outputs": [
        {
          "output_type": "display_data",
          "data": {
            "text/plain": [
              "<IPython.core.display.Javascript object>"
            ],
            "application/javascript": [
              "\n",
              "    async function download(id, filename, size) {\n",
              "      if (!google.colab.kernel.accessAllowed) {\n",
              "        return;\n",
              "      }\n",
              "      const div = document.createElement('div');\n",
              "      const label = document.createElement('label');\n",
              "      label.textContent = `Downloading \"${filename}\": `;\n",
              "      div.appendChild(label);\n",
              "      const progress = document.createElement('progress');\n",
              "      progress.max = size;\n",
              "      div.appendChild(progress);\n",
              "      document.body.appendChild(div);\n",
              "\n",
              "      const buffers = [];\n",
              "      let downloaded = 0;\n",
              "\n",
              "      const channel = await google.colab.kernel.comms.open(id);\n",
              "      // Send a message to notify the kernel that we're ready.\n",
              "      channel.send({})\n",
              "\n",
              "      for await (const message of channel.messages) {\n",
              "        // Send a message to notify the kernel that we're ready.\n",
              "        channel.send({})\n",
              "        if (message.buffers) {\n",
              "          for (const buffer of message.buffers) {\n",
              "            buffers.push(buffer);\n",
              "            downloaded += buffer.byteLength;\n",
              "            progress.value = downloaded;\n",
              "          }\n",
              "        }\n",
              "      }\n",
              "      const blob = new Blob(buffers, {type: 'application/binary'});\n",
              "      const a = document.createElement('a');\n",
              "      a.href = window.URL.createObjectURL(blob);\n",
              "      a.download = filename;\n",
              "      div.appendChild(a);\n",
              "      a.click();\n",
              "      div.remove();\n",
              "    }\n",
              "  "
            ]
          },
          "metadata": {}
        },
        {
          "output_type": "display_data",
          "data": {
            "text/plain": [
              "<IPython.core.display.Javascript object>"
            ],
            "application/javascript": [
              "download(\"download_b3e53b1c-1464-4b12-a324-525a58ac22c0\", \"scraped_data.csv\", 131449712)"
            ]
          },
          "metadata": {}
        }
      ]
    },
    {
      "cell_type": "code",
      "source": [
        "\n",
        "dfs = []\n",
        "for scraped_data in scraped_data_list:\n",
        "  scraped_data_lines = scraped_data.split(\"\\n\")\n",
        "  data_values = [line.split('|') for line in scraped_data_lines]\n",
        "  columns = data_values[0]\n",
        "  df = pd.DataFrame(data_values[1:], columns=columns)\n",
        "\n",
        "  dfs.append(df)"
      ],
      "metadata": {
        "id": "3o_wWytHTn77"
      },
      "execution_count": 2,
      "outputs": []
    },
    {
      "cell_type": "code",
      "source": [
        "dfs = []\n",
        "majority_sepsis_labels = []\n",
        "\n",
        "for scraped_data in scraped_data_list:\n",
        "    scraped_data_lines = scraped_data.split(\"\\n\")\n",
        "    data_values = [line.split('|') for line in scraped_data_lines]\n",
        "    columns = data_values[0]\n",
        "    df = pd.DataFrame(data_values[1:], columns=columns)\n",
        "\n",
        "    # Convert 'SepsisLabel' to numeric\n",
        "    df['SepsisLabel'] = pd.to_numeric(df['SepsisLabel'])\n",
        "\n",
        "    # Extract first 49 rows\n",
        "    first_49_rows = df.head(49)\n",
        "\n",
        "    # Calculate majority SepsisLabel value\n",
        "    majority_sepsis_label = first_49_rows['SepsisLabel'].mode().iloc[0]\n",
        "\n",
        "    dfs.append(df)\n",
        "    majority_sepsis_labels.append(majority_sepsis_label)"
      ],
      "metadata": {
        "id": "4DOby9DEjlM5"
      },
      "execution_count": 20,
      "outputs": []
    },
    {
      "cell_type": "code",
      "source": [
        "import numpy as np\n",
        "\n",
        "updated_dfs = []\n",
        "basic_data = []\n",
        "parameters_size = 41\n",
        "times_threshold = 49\n",
        "max_times = 0\n",
        "\n",
        "for df in dfs:\n",
        "    value_array = []\n",
        "    delta_array = []\n",
        "    mask_array = []\n",
        "    dataset = []\n",
        "\n",
        "    last_available_times = np.zeros(parameters_size)\n",
        "    count = 0\n",
        "\n",
        "    for index, row in df.iterrows():\n",
        "        count += 1\n",
        "        values = row.values\n",
        "        # Replace 'NaN' strings with 0 and convert to float\n",
        "        values = [0 if str(val) == 'NaN' else float(val) for val in values]\n",
        "\n",
        "        deltas = np.zeros(parameters_size)\n",
        "        mask = np.zeros(parameters_size)\n",
        "\n",
        "        for i, value in enumerate(values):\n",
        "            if not np.isnan(value):\n",
        "                mask[i] = 1\n",
        "                last_available_times[i] = count\n",
        "\n",
        "        for i in range(parameters_size):\n",
        "            deltas[i] = count - last_available_times[i]\n",
        "\n",
        "        value_array.append(values)\n",
        "        delta_array.append(deltas)\n",
        "        mask_array.append(mask)\n",
        "\n",
        "        if count == times_threshold:\n",
        "          break\n",
        "\n",
        "    # Pad arrays if count is less than times_threshold\n",
        "    while count < times_threshold:\n",
        "        value_array.append(np.zeros(parameters_size))\n",
        "        delta_array.append(np.zeros(parameters_size))\n",
        "        mask_array.append(np.zeros(parameters_size))\n",
        "        count += 1\n",
        "\n",
        "    value_array = np.array(value_array).T\n",
        "    delta_array = np.array(delta_array).T\n",
        "    mask_array = np.array(mask_array).T\n",
        "\n",
        "    dataset.append(value_array)\n",
        "    dataset.append(mask_array)\n",
        "    dataset.append(delta_array)\n",
        "    updated_dfs.append(dataset)\n",
        "    basic_data.append(value_array)\n",
        "\n",
        "    max_times = max(max_times, count)\n",
        "\n",
        "print(\"Max Time Groups:\", max_times)\n"
      ],
      "metadata": {
        "colab": {
          "base_uri": "https://localhost:8080/"
        },
        "id": "w5SIjj4tZfe3",
        "outputId": "fc611b66-bd00-457a-f494-f4e4ea2c730d"
      },
      "execution_count": 21,
      "outputs": [
        {
          "output_type": "stream",
          "name": "stdout",
          "text": [
            "Max Time Groups: 49\n"
          ]
        }
      ]
    },
    {
      "cell_type": "markdown",
      "source": [
        "# Mean Imputation"
      ],
      "metadata": {
        "id": "ga3SVABB8a7h"
      }
    },
    {
      "cell_type": "code",
      "source": [
        "def get_mean(parameter_values):\n",
        "  return np.mean(parameter_values)"
      ],
      "metadata": {
        "id": "rdeAMXgHeBI6"
      },
      "execution_count": 22,
      "outputs": []
    },
    {
      "cell_type": "code",
      "source": [
        "import copy\n",
        "mean_dataset = copy.deepcopy(basic_data)\n",
        "for data in mean_dataset:\n",
        "  for parameter_idx in range(parameters_size):\n",
        "    parameter_data = np.array(data[parameter_idx])\n",
        "    mean_value = get_mean(parameter_data)\n",
        "    missing_indices = np.where(parameter_data == 0)\n",
        "    parameter_data[missing_indices] = mean_value\n",
        "    data[parameter_idx] = parameter_data"
      ],
      "metadata": {
        "id": "1TZV7H5heR_h"
      },
      "execution_count": 23,
      "outputs": []
    },
    {
      "cell_type": "markdown",
      "source": [
        "# Forward Imputation"
      ],
      "metadata": {
        "id": "9Nxr3rpV8eQD"
      }
    },
    {
      "cell_type": "code",
      "source": [
        "forward_dataset = copy.deepcopy(basic_data)\n",
        "for data in forward_dataset:\n",
        "  for parameter_idx in range(parameters_size):\n",
        "    n_times = len(data[parameter_idx])\n",
        "    last_value = 0\n",
        "    for n_time in range(n_times):\n",
        "      if (n_time==0 and data[parameter_idx][0] == 0):\n",
        "        continue\n",
        "      if (data[parameter_idx][n_time]!=0):\n",
        "        last_value = data[parameter_idx][n_time]\n",
        "      elif(data[parameter_idx][n_time] == 0):\n",
        "        data[parameter_idx][n_time] = last_value"
      ],
      "metadata": {
        "id": "g0Ftq1_G5kBl"
      },
      "execution_count": 45,
      "outputs": []
    },
    {
      "cell_type": "markdown",
      "source": [
        "# Data Split and data loaders"
      ],
      "metadata": {
        "id": "k6E35ZqC8j0p"
      }
    },
    {
      "cell_type": "code",
      "source": [
        "import numpy as np\n",
        "\n",
        "def custom_train_test_split(features, labels, test_size, validation_size=0.2, random_state=None):\n",
        "  if random_state is not None:\n",
        "    np.random.seed(random_state)\n",
        "\n",
        "  # Shuffle indices\n",
        "  indices = np.arange(len(features))\n",
        "  np.random.shuffle(indices)\n",
        "\n",
        "  # Calculate the number of test and validation samples\n",
        "  n_test = int(len(features) * test_size)\n",
        "  n_validation = int(len(features) * validation_size)\n",
        "\n",
        "  # Split indices into test, validation, and train sets\n",
        "  test_indices = indices[:n_test]\n",
        "  validation_indices = indices[n_test:n_test + n_validation]\n",
        "  train_indices = indices[n_test + n_validation:]\n",
        "\n",
        "  # Split data based on indices\n",
        "  test_data = [features[i] for i in test_indices]\n",
        "  validation_data = [features[i] for i in validation_indices]\n",
        "  train_data = [features[i] for i in train_indices]\n",
        "\n",
        "  # Split labels based on indices\n",
        "  test_labels = [labels[i] for i in test_indices]\n",
        "  validation_labels = [labels[i] for i in validation_indices]\n",
        "  train_labels = [labels[i] for i in train_indices]\n",
        "\n",
        "  return train_data, train_labels, validation_data, validation_labels, test_data, test_labels"
      ],
      "metadata": {
        "id": "jkYyX4cteUgW"
      },
      "execution_count": 24,
      "outputs": []
    },
    {
      "cell_type": "code",
      "source": [
        "from torch.utils.data import Dataset\n",
        "import torch\n",
        "\n",
        "class CustomDataset(Dataset):\n",
        "  def __init__(self, features, labels) -> None:\n",
        "    self.features = features\n",
        "    self.labels = labels\n",
        "\n",
        "  def __len__(self):\n",
        "    return len(self.features)\n",
        "\n",
        "  def __getitem__(self, index):\n",
        "    sample = self.features[index]\n",
        "    label = self.labels[index]\n",
        "    sample = torch.tensor(sample, dtype=torch.float32)\n",
        "    label = torch.tensor(label, dtype = torch.float32)\n",
        "    return sample, label"
      ],
      "metadata": {
        "id": "POefzoAkeWte"
      },
      "execution_count": 25,
      "outputs": []
    },
    {
      "cell_type": "code",
      "source": [
        "from torch.utils.data import Dataset, DataLoader, TensorDataset\n",
        "\n",
        "def get_data_loader(dataset, labels_df):\n",
        "  train_features, train_labels, validation_features, validation_labels, test_features, test_labels = custom_train_test_split(dataset, labels_df, test_size=0.2, validation_size = 0.15)\n",
        "\n",
        "  print(len(train_features))\n",
        "  print(len(train_labels))\n",
        "  train_dataset = CustomDataset(train_features, train_labels)\n",
        "  validation_dataset = CustomDataset(validation_features, validation_labels)\n",
        "  test_dataset = CustomDataset(test_features, test_labels)\n",
        "\n",
        "  train_loader = DataLoader(train_dataset, batch_size = 4, shuffle = True)\n",
        "  validation_loader = DataLoader(validation_dataset, batch_size=4, shuffle = True)\n",
        "  test_loader = DataLoader(test_dataset, batch_size = 4, shuffle = True)\n",
        "\n",
        "  return train_loader, validation_loader, test_loader"
      ],
      "metadata": {
        "id": "5ju7_TCeeZJM"
      },
      "execution_count": 26,
      "outputs": []
    },
    {
      "cell_type": "code",
      "source": [
        "print(len(majority_sepsis_labels))"
      ],
      "metadata": {
        "colab": {
          "base_uri": "https://localhost:8080/"
        },
        "id": "QLMl9SWFp_kj",
        "outputId": "86432586-0733-43cf-a4f5-6a806c87fb3c"
      },
      "execution_count": 27,
      "outputs": [
        {
          "output_type": "stream",
          "name": "stdout",
          "text": [
            "20336\n"
          ]
        }
      ]
    },
    {
      "cell_type": "code",
      "source": [
        "train_loader, val_loader, test_loader = get_data_loader(mean_dataset, majority_sepsis_labels)    #final_dataset_df['features'], final_dataset_df)"
      ],
      "metadata": {
        "colab": {
          "base_uri": "https://localhost:8080/"
        },
        "id": "vWZGHi4thTkS",
        "outputId": "8f6fd933-6404-4c7f-a136-c72e102eba1a"
      },
      "execution_count": 28,
      "outputs": [
        {
          "output_type": "stream",
          "name": "stdout",
          "text": [
            "13219\n",
            "13219\n"
          ]
        }
      ]
    },
    {
      "cell_type": "code",
      "source": [
        "forward_train_loader, forward_val_loader, forward_test_loader = get_data_loader(forward_dataset, majority_sepsis_labels)"
      ],
      "metadata": {
        "colab": {
          "base_uri": "https://localhost:8080/"
        },
        "id": "uslN8peA5xJJ",
        "outputId": "c38058d3-ad47-4936-f403-bd35fcdd2e39"
      },
      "execution_count": 46,
      "outputs": [
        {
          "output_type": "stream",
          "name": "stdout",
          "text": [
            "13219\n",
            "13219\n"
          ]
        }
      ]
    },
    {
      "cell_type": "code",
      "source": [
        "import torch\n",
        "import torch.nn as nn\n",
        "\n",
        "class MyGRU(nn.Module):\n",
        "  def __init__(self, input_size, hidden_size, output_size, num_layers):\n",
        "    super(MyGRU, self).__init__()\n",
        "    self.hidden_size = hidden_size\n",
        "    self.num_layers = num_layers\n",
        "    self.gru = nn.GRU(input_size, hidden_size, num_layers=num_layers, batch_first=True)\n",
        "    self.fc1 = nn.Linear(hidden_size, 50)\n",
        "    self.dropout = nn.Dropout(0.2)\n",
        "    self.fc2 = nn.Linear(50, 25)\n",
        "    self.fc3 = nn.Linear(25, 1)\n",
        "    self.relu = nn.ReLU()\n",
        "    # self.sigmoid = torch.sigmoid()\n",
        "\n",
        "  def forward(self, x):\n",
        "    # h0 = torch.randn(self.num_layers, x.size(0), self.hidden_size) * 0.01\n",
        "    h0 = torch.normal(0, 0.01, size=(self.num_layers, x.size(0), self.hidden_size))\n",
        "    out, _ = self.gru(x, h0)\n",
        "    out = out[:, -1, :]\n",
        "    out = self.fc1(out)\n",
        "    out = torch.sigmoid(out)\n",
        "    out = self.fc2(out)\n",
        "    out = torch.sigmoid(out)\n",
        "    out = self.fc3(out)\n",
        "    out = torch.sigmoid(out)\n",
        "    # out = torch.sigmoid(out)\n",
        "    return out"
      ],
      "metadata": {
        "id": "6EhK6DojkSqf"
      },
      "execution_count": 60,
      "outputs": []
    },
    {
      "cell_type": "code",
      "source": [
        "import torch\n",
        "import torch.nn as nn\n",
        "import torch.optim as optim\n",
        "from torch.optim import lr_scheduler\n",
        "lr = 0.01\n",
        "momentum = 0.9\n",
        "gamma = 0.1  # Factor by which to reduce the learning rate (e.g., multiply by 0.1)\n",
        "num_layers = 4\n",
        "input_size = 41\n",
        "output_size = 1\n",
        "hidden_dim = 30\n",
        "\n",
        "model = MyGRU(input_size, hidden_dim, output_size, num_layers)\n",
        "optimizer = optim.SGD(model.parameters(), lr=lr, momentum=momentum)\n",
        "# optimizer = optim.Adam(model.parameters(), lr=0.05, betas=(0.9, 0.999), eps=1e-08, weight_decay=0, amsgrad=False)\n",
        "scheduler = lr_scheduler.StepLR(optimizer, step_size=1, gamma=gamma)  # Reduce LR by gamma factor every epoch\n",
        "# scheduler = lr_scheduler.ExponentialLR(optimizer, gamma=0.1)\n",
        "# scheduler = lr_scheduler.ReduceLROnPlateau(optimizer, 'min', patience=2, factor=0.5, min_lr=1e-6, verbose=True)\n",
        "class_weights = torch.tensor([0.7], dtype=torch.float)\n",
        "\n",
        "loss_function = nn.BCEWithLogitsLoss(pos_weight=class_weights)\n",
        "num_epochs = 10\n",
        "\n",
        "def gru_train_model(train_loader, val_loader):\n",
        "\n",
        "  for epoch in range(num_epochs):\n",
        "    print(f\"Epoch {epoch + 1}/{num_epochs}\")\n",
        "    model.train()  # Set the model to training mode\n",
        "    total_loss = 0.0\n",
        "    correct_predictions = 0\n",
        "    total_samples = 0\n",
        "\n",
        "    # Training phase\n",
        "    for inputs, labels in train_loader:\n",
        "      optimizer.zero_grad()\n",
        "      outputs = model(inputs.permute(0, 2, 1)).squeeze()\n",
        "      labels = labels.float().view(-1)\n",
        "      loss = loss_function(outputs, labels)\n",
        "      loss.backward()\n",
        "      optimizer.step()\n",
        "      total_loss += loss.item() * inputs.size(0)\n",
        "\n",
        "      train_predictions = (outputs > 0.5).float()\n",
        "      correct_predictions += (train_predictions == labels).sum().item()\n",
        "      total_samples += labels.size(0)\n",
        "\n",
        "    # Calculate average training loss for the epoch\n",
        "    train_loss = total_loss / len(train_loader.dataset)\n",
        "    train_accuracy = correct_predictions / total_samples\n",
        "\n",
        "    # Validation phase\n",
        "    model.eval()  # Set the model to evaluation mode\n",
        "    val_loss = 0.0\n",
        "    correct_predictions = 0\n",
        "    total_samples = 0\n",
        "\n",
        "    with torch.no_grad():\n",
        "      for val_inputs, val_labels in val_loader:\n",
        "        val_outputs = model(val_inputs.permute(0, 2, 1)).squeeze()\n",
        "        val_labels = val_labels.float().view(-1)\n",
        "        val_loss += loss_function(val_outputs, val_labels).item() * val_inputs.size(0)\n",
        "\n",
        "        # Calculate accuracy (optional)\n",
        "        val_predictions = (val_outputs > 0.5).float()\n",
        "        correct_predictions += (val_predictions == val_labels).sum().item()\n",
        "        total_samples += val_labels.size(0)\n",
        "\n",
        "    # Calculate average validation loss and accuracy\n",
        "    val_loss = val_loss / len(val_loader.dataset)\n",
        "    val_accuracy = correct_predictions / total_samples\n",
        "\n",
        "\n",
        "    # Step the scheduler to update the learning rate\n",
        "    # scheduler.step()\n",
        "    scheduler.step(val_loss)"
      ],
      "metadata": {
        "id": "ECOJOnLukYqT"
      },
      "execution_count": 61,
      "outputs": []
    },
    {
      "cell_type": "code",
      "source": [
        "gru_train_model(train_loader, val_loader)"
      ],
      "metadata": {
        "colab": {
          "base_uri": "https://localhost:8080/"
        },
        "id": "xbszLz5jkce0",
        "outputId": "a90deb8b-e317-44a2-e810-cd624d425015"
      },
      "execution_count": 42,
      "outputs": [
        {
          "output_type": "stream",
          "name": "stdout",
          "text": [
            "Epoch 1/10\n",
            "Train Loss: 0.6878 | Train Accuracy: 0.97\n",
            "Validation Loss: 0.6880 | Validation Accuracy: 0.98\n",
            "Epoch 2/10\n"
          ]
        },
        {
          "output_type": "stream",
          "name": "stderr",
          "text": [
            "/usr/local/lib/python3.10/dist-packages/torch/optim/lr_scheduler.py:156: UserWarning: The epoch parameter in `scheduler.step()` was not necessary and is being deprecated where possible. Please use `scheduler.step()` to step the scheduler. During the deprecation, if epoch is different from None, the closed form is used instead of the new chainable form, where available. Please open an issue if you are unable to replicate your use case: https://github.com/pytorch/pytorch/issues/new/choose.\n",
            "  warnings.warn(EPOCH_DEPRECATION_WARNING, UserWarning)\n"
          ]
        },
        {
          "output_type": "stream",
          "name": "stdout",
          "text": [
            "Train Loss: 0.6878 | Train Accuracy: 0.97\n",
            "Validation Loss: 0.6880 | Validation Accuracy: 0.98\n",
            "Epoch 3/10\n",
            "Train Loss: 0.6878 | Train Accuracy: 0.97\n",
            "Validation Loss: 0.6880 | Validation Accuracy: 0.98\n",
            "Epoch 4/10\n",
            "Train Loss: 0.6878 | Train Accuracy: 0.97\n",
            "Validation Loss: 0.6880 | Validation Accuracy: 0.98\n",
            "Epoch 5/10\n",
            "Train Loss: 0.6878 | Train Accuracy: 0.97\n",
            "Validation Loss: 0.6880 | Validation Accuracy: 0.98\n",
            "Epoch 6/10\n",
            "Train Loss: 0.6878 | Train Accuracy: 0.97\n",
            "Validation Loss: 0.6880 | Validation Accuracy: 0.98\n",
            "Epoch 7/10\n",
            "Train Loss: 0.6878 | Train Accuracy: 0.97\n",
            "Validation Loss: 0.6880 | Validation Accuracy: 0.98\n",
            "Epoch 8/10\n",
            "Train Loss: 0.6878 | Train Accuracy: 0.97\n",
            "Validation Loss: 0.6880 | Validation Accuracy: 0.98\n",
            "Epoch 9/10\n",
            "Train Loss: 0.6878 | Train Accuracy: 0.97\n",
            "Validation Loss: 0.6880 | Validation Accuracy: 0.98\n",
            "Epoch 10/10\n",
            "Train Loss: 0.6878 | Train Accuracy: 0.97\n",
            "Validation Loss: 0.6880 | Validation Accuracy: 0.98\n"
          ]
        }
      ]
    },
    {
      "cell_type": "code",
      "source": [
        "gru_train_model(forward_train_loader, forward_val_loader)"
      ],
      "metadata": {
        "colab": {
          "base_uri": "https://localhost:8080/"
        },
        "id": "Z9I5wjos56JK",
        "outputId": "11cb1184-7350-4dcb-a395-66a7b2af9d5e"
      },
      "execution_count": 50,
      "outputs": [
        {
          "output_type": "stream",
          "name": "stdout",
          "text": [
            "Epoch 1/10\n",
            "Train Loss: 0.6965 | Train Accuracy: 0.97\n",
            "Validation Loss: 0.6893 | Validation Accuracy: 0.98\n",
            "Epoch 2/10\n"
          ]
        },
        {
          "output_type": "stream",
          "name": "stderr",
          "text": [
            "/usr/local/lib/python3.10/dist-packages/torch/optim/lr_scheduler.py:156: UserWarning: The epoch parameter in `scheduler.step()` was not necessary and is being deprecated where possible. Please use `scheduler.step()` to step the scheduler. During the deprecation, if epoch is different from None, the closed form is used instead of the new chainable form, where available. Please open an issue if you are unable to replicate your use case: https://github.com/pytorch/pytorch/issues/new/choose.\n",
            "  warnings.warn(EPOCH_DEPRECATION_WARNING, UserWarning)\n"
          ]
        },
        {
          "output_type": "stream",
          "name": "stdout",
          "text": [
            "Train Loss: 0.6882 | Train Accuracy: 0.97\n",
            "Validation Loss: 0.6888 | Validation Accuracy: 0.98\n",
            "Epoch 3/10\n",
            "Train Loss: 0.6879 | Train Accuracy: 0.97\n",
            "Validation Loss: 0.6887 | Validation Accuracy: 0.98\n",
            "Epoch 4/10\n",
            "Train Loss: 0.6878 | Train Accuracy: 0.97\n",
            "Validation Loss: 0.6886 | Validation Accuracy: 0.98\n",
            "Epoch 5/10\n",
            "Train Loss: 0.6878 | Train Accuracy: 0.97\n",
            "Validation Loss: 0.6886 | Validation Accuracy: 0.98\n",
            "Epoch 6/10\n",
            "Train Loss: 0.6877 | Train Accuracy: 0.97\n",
            "Validation Loss: 0.6886 | Validation Accuracy: 0.98\n",
            "Epoch 7/10\n",
            "Train Loss: 0.6877 | Train Accuracy: 0.97\n",
            "Validation Loss: 0.6885 | Validation Accuracy: 0.98\n",
            "Epoch 8/10\n",
            "Train Loss: 0.6877 | Train Accuracy: 0.97\n",
            "Validation Loss: 0.6885 | Validation Accuracy: 0.98\n",
            "Epoch 9/10\n",
            "Train Loss: 0.6877 | Train Accuracy: 0.97\n",
            "Validation Loss: 0.6885 | Validation Accuracy: 0.98\n",
            "Epoch 10/10\n",
            "Train Loss: 0.6877 | Train Accuracy: 0.97\n",
            "Validation Loss: 0.6885 | Validation Accuracy: 0.98\n"
          ]
        }
      ]
    },
    {
      "cell_type": "code",
      "source": [
        "import matplotlib.pyplot as plt\n",
        "from sklearn.metrics import roc_curve, auc, roc_auc_score, classification_report\n",
        "import torch\n",
        "\n",
        "def gru_test_model(model, test_loader):\n",
        "    model.eval()  # Set the model to evaluation mode\n",
        "    correct_predictions = 0\n",
        "    total_samples = 0\n",
        "    all_labels = []\n",
        "    all_probabilities = []  # Store probabilities for AUROC plotting\n",
        "\n",
        "    with torch.no_grad():  # Disable gradient computation during inference\n",
        "        for inputs, labels in test_loader:\n",
        "            outputs = model(inputs.permute(0, 2, 1)).squeeze()  # Ensure output is a 1D tensor\n",
        "            labels = labels.float().view(-1)\n",
        "            probabilities = torch.sigmoid(outputs)\n",
        "            predictions = (probabilities < 0.5).float()  # Convert logits to binary predictions (0 or 1)\n",
        "            correct_predictions += (predictions == labels).sum().item()\n",
        "            total_samples += labels.size(0)  # Increment total samples processed\n",
        "            all_labels.extend(labels.tolist())\n",
        "            all_probabilities.extend(probabilities.tolist())  # Use probabilities for ROC calculation\n",
        "\n",
        "    accuracy = correct_predictions / total_samples\n",
        "    auroc_score = roc_auc_score(all_labels, all_probabilities)  # Notice change here for probabilities\n",
        "    print(f\"Test Accuracy: {accuracy:.4f}\")\n",
        "    print(f\"AUROC Score: {auroc_score:.4f}\")\n",
        "\n",
        "    # Generate classification report\n",
        "    binary_predictions = [1 if prob < 0.5 else 0 for prob in all_probabilities]\n",
        "    report = classification_report(all_labels, binary_predictions, target_names=['Class 0', 'Class 1'])\n",
        "    print(\"Classification Report:\\n\", report)\n",
        "\n",
        "    # Compute ROC curve and ROC area for plotting\n",
        "    fpr, tpr, _ = roc_curve(all_labels, all_probabilities)\n",
        "    roc_auc = auc(fpr, tpr)\n",
        "\n",
        "    # Plot ROC curve\n",
        "    plt.figure()\n",
        "    plt.plot(fpr, tpr, color='darkorange', lw=2, label='ROC curve (area = %0.2f)' % roc_auc)\n",
        "    plt.plot([0, 1], [0, 1], color='navy', lw=2, linestyle='--')\n",
        "    plt.xlim([0.0, 1.0])\n",
        "    plt.ylim([0.0, 1.05])\n",
        "    plt.xlabel('False Positive Rate')\n",
        "    plt.ylabel('True Positive Rate')\n",
        "    plt.title('Receiver Operating Characteristic')\n",
        "    plt.legend(loc=\"lower right\")\n",
        "    plt.show()\n",
        "\n",
        "# You would call gru_test_model with your model and DataLoader instance.\n"
      ],
      "metadata": {
        "id": "B13EUfUnnTrj"
      },
      "execution_count": 51,
      "outputs": []
    },
    {
      "cell_type": "code",
      "source": [
        "gru_test_model(model, test_loader)"
      ],
      "metadata": {
        "colab": {
          "base_uri": "https://localhost:8080/",
          "height": 406
        },
        "id": "VfCZj3akkgay",
        "outputId": "ab07dc48-6cc6-4647-f297-2fd95392b36d"
      },
      "execution_count": 3,
      "outputs": [
        {
          "output_type": "display_data",
          "data": {
            "text/plain": [
              "<Figure size 640x480 with 1 Axes>"
            ],
            "image/png": "[encoded data removed]"
          },
          "metadata": {}
        }
      ]
    },
    {
      "cell_type": "code",
      "source": [
        "gru_test_model(model, forward_test_loader)"
      ],
      "metadata": {
        "colab": {
          "base_uri": "https://localhost:8080/",
          "height": 406
        },
        "id": "WLuhPKPGopBO",
        "outputId": "1413d583-06fa-4ebd-c95b-c512fc44c961"
      },
      "execution_count": 4,
      "outputs": [
        {
          "output_type": "display_data",
          "data": {
            "text/plain": [
              "<Figure size 640x480 with 1 Axes>"
            ],
            "image/png": "[encoded data removed]"
          },
          "metadata": {}
        }
      ]
    }
  ]
}