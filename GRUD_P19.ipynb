{
  "nbformat": 4,
  "nbformat_minor": 0,
  "metadata": {
    "colab": {
      "provenance": []
    },
    "kernelspec": {
      "name": "python3",
      "display_name": "Python 3"
    },
    "language_info": {
      "name": "python"
    }
  },
  "cells": [
    {
      "cell_type": "code",
      "execution_count": null,
      "metadata": {
        "id": "vWIx0xUUGg-D"
      },
      "outputs": [],
      "source": [
        "import pandas as pd\n",
        "import numpy as np"
      ]
    },
    {
      "cell_type": "code",
      "source": [
        "from google.colab import files\n",
        "uploads = files.upload()"
      ],
      "metadata": {
        "id": "TBS2fvBniFj7"
      },
      "execution_count": null,
      "outputs": []
    },
    {
      "cell_type": "markdown",
      "source": [
        "# Data Read"
      ],
      "metadata": {
        "id": "3LpLlE04iHGQ"
      }
    },
    {
      "cell_type": "code",
      "source": [
        "import csv\n",
        "\n",
        "# Specify the file path\n",
        "file_path = \"scraped_data.csv\"\n",
        "\n",
        "# List to store the parsed data\n",
        "scraped_data_list = []\n",
        "\n",
        "# Read the data from the CSV file\n",
        "with open(file_path, mode='r', newline='', encoding='utf-8') as file:\n",
        "    reader = csv.reader(file)\n",
        "    for row in reader:\n",
        "        # Assuming each row contains only one object\n",
        "        scraped_data_list.append(row[0])"
      ],
      "metadata": {
        "id": "DuWPWEZTGniG"
      },
      "execution_count": null,
      "outputs": []
    },
    {
      "cell_type": "code",
      "source": [
        "\n",
        "dfs = []\n",
        "for scraped_data in scraped_data_list:\n",
        "  # print(scraped_data)\n",
        "  scraped_data_lines = scraped_data.split(\"\\n\")\n",
        "  data_values = [line.split('|') for line in scraped_data_lines]\n",
        "  columns = data_values[0]\n",
        "  # print(data_values[2])\n",
        "  df = pd.DataFrame(data_values[1:], columns=columns)\n",
        "\n",
        "  # print(df.head())\n",
        "  dfs.append(df)\n"
      ],
      "metadata": {
        "id": "ixf7GyqjGpnP"
      },
      "execution_count": 4,
      "outputs": []
    },
    {
      "cell_type": "code",
      "source": [
        "dfs = []\n",
        "majority_sepsis_labels = []\n",
        "\n",
        "for scraped_data in scraped_data_list:\n",
        "    scraped_data_lines = scraped_data.split(\"\\n\")\n",
        "    data_values = [line.split('|') for line in scraped_data_lines]\n",
        "    columns = data_values[0]\n",
        "    df = pd.DataFrame(data_values[1:], columns=columns)\n",
        "\n",
        "    # Convert 'SepsisLabel' to numeric\n",
        "    df['SepsisLabel'] = pd.to_numeric(df['SepsisLabel'])\n",
        "\n",
        "    # Extract first 49 rows\n",
        "    first_49_rows = df.head(49)\n",
        "\n",
        "    # Calculate majority SepsisLabel value\n",
        "    majority_sepsis_label = first_49_rows['SepsisLabel'].mode().iloc[0]\n",
        "\n",
        "    dfs.append(df)\n",
        "    majority_sepsis_labels.append(majority_sepsis_label)"
      ],
      "metadata": {
        "id": "hwkY10ycGsMK"
      },
      "execution_count": null,
      "outputs": []
    },
    {
      "cell_type": "markdown",
      "source": [
        "# Data Preprocess"
      ],
      "metadata": {
        "id": "Iynm0HiwiN7I"
      }
    },
    {
      "cell_type": "code",
      "source": [
        "import numpy as np\n",
        "\n",
        "updated_dfs = []\n",
        "basic_data = []\n",
        "parameters_size = 41\n",
        "times_threshold = 49\n",
        "max_times = 0\n",
        "\n",
        "for df in dfs:\n",
        "    value_array = []\n",
        "    delta_array = []\n",
        "    mask_array = []\n",
        "    dataset = []\n",
        "\n",
        "    last_available_times = np.zeros(parameters_size)\n",
        "    count = 0\n",
        "\n",
        "    for index, row in df.iterrows():\n",
        "        count += 1\n",
        "        values = row.values\n",
        "        # Replace 'NaN' strings with 0 and convert to float\n",
        "        values = [0 if str(val) == 'NaN' else float(val) for val in values]\n",
        "\n",
        "        deltas = np.zeros(parameters_size)\n",
        "        mask = np.zeros(parameters_size)\n",
        "\n",
        "        for i, value in enumerate(values):\n",
        "            if not np.isnan(value):\n",
        "                mask[i] = 1\n",
        "                last_available_times[i] = count\n",
        "\n",
        "        for i in range(parameters_size):\n",
        "            deltas[i] = count - last_available_times[i]\n",
        "\n",
        "        value_array.append(values)\n",
        "        delta_array.append(deltas)\n",
        "        mask_array.append(mask)\n",
        "\n",
        "        if count == times_threshold:\n",
        "          break\n",
        "\n",
        "    # Pad arrays if count is less than times_threshold\n",
        "    while count < times_threshold:\n",
        "        value_array.append(np.zeros(parameters_size))\n",
        "        delta_array.append(np.zeros(parameters_size))\n",
        "        mask_array.append(np.zeros(parameters_size))\n",
        "        count += 1\n",
        "\n",
        "    value_array = np.array(value_array).T\n",
        "    delta_array = np.array(delta_array).T\n",
        "    mask_array = np.array(mask_array).T\n",
        "\n",
        "    dataset.append(value_array)\n",
        "    dataset.append(mask_array)\n",
        "    dataset.append(delta_array)\n",
        "    updated_dfs.append(dataset)\n",
        "    basic_data.append(value_array)\n",
        "\n",
        "    max_times = max(max_times, count)\n",
        "\n",
        "print(\"Max Time Groups:\", max_times)\n"
      ],
      "metadata": {
        "id": "uxSE1CyJGwNu"
      },
      "execution_count": null,
      "outputs": []
    },
    {
      "cell_type": "markdown",
      "source": [
        "# Data split and loader"
      ],
      "metadata": {
        "id": "_E6-YYI3iZOD"
      }
    },
    {
      "cell_type": "code",
      "source": [
        "import numpy as np\n",
        "\n",
        "def custom_train_test_split(features, labels, test_size, validation_size=0.2, random_state=None):\n",
        "  if random_state is not None:\n",
        "    np.random.seed(random_state)\n",
        "\n",
        "  # Shuffle indices\n",
        "  indices = np.arange(len(features))\n",
        "  np.random.shuffle(indices)\n",
        "\n",
        "  # Calculate the number of test and validation samples\n",
        "  n_test = int(len(features) * test_size)\n",
        "  n_validation = int(len(features) * validation_size)\n",
        "\n",
        "  # Split indices into test, validation, and train sets\n",
        "  test_indices = indices[:n_test]\n",
        "  validation_indices = indices[n_test:n_test + n_validation]\n",
        "  train_indices = indices[n_test + n_validation:]\n",
        "\n",
        "  # Split data based on indices\n",
        "  test_data = [features[i] for i in test_indices]\n",
        "  validation_data = [features[i] for i in validation_indices]\n",
        "  train_data = [features[i] for i in train_indices]\n",
        "\n",
        "  # Split labels based on indices\n",
        "  test_labels = [labels['labels'].iloc[i] for i in test_indices]\n",
        "  validation_labels = [labels['labels'].iloc[i] for i in validation_indices]\n",
        "  train_labels = [labels['labels'].iloc[i] for i in train_indices]\n",
        "\n",
        "  return train_data, train_labels, validation_data, validation_labels, test_data, test_labels"
      ],
      "metadata": {
        "id": "Ne0TSTwiG35x"
      },
      "execution_count": null,
      "outputs": []
    },
    {
      "cell_type": "code",
      "source": [
        "from torch.utils.data import Dataset\n",
        "import torch\n",
        "\n",
        "class CustomDataset(Dataset):\n",
        "  def __init__(self, features, labels) -> None:\n",
        "    self.features = features\n",
        "    self.labels = labels\n",
        "\n",
        "  def __len__(self):\n",
        "    return len(self.features)\n",
        "\n",
        "  def __getitem__(self, index):\n",
        "    sample = self.features[index]\n",
        "    label = self.labels[index]\n",
        "    sample = torch.tensor(sample, dtype=torch.float32)\n",
        "    label = torch.tensor(label, dtype = torch.float32)\n",
        "    return sample, label"
      ],
      "metadata": {
        "id": "XXmRKgKJG93C"
      },
      "execution_count": null,
      "outputs": []
    },
    {
      "cell_type": "code",
      "source": [
        "from torch.utils.data import Dataset, DataLoader, TensorDataset\n",
        "\n",
        "def get_data_loader(dataset, labels_df):\n",
        "  train_features, train_labels, validation_features, validation_labels, test_features, test_labels = custom_train_test_split(dataset, labels_df, test_size=0.2, validation_size = 0.15)\n",
        "\n",
        "  train_dataset = CustomDataset(train_features, train_labels)\n",
        "  validation_dataset = CustomDataset(validation_features, validation_labels)\n",
        "  test_dataset = CustomDataset(test_features, test_labels)\n",
        "\n",
        "  train_loader = DataLoader(train_dataset, batch_size = 16, shuffle = True)\n",
        "  validation_loader = DataLoader(validation_dataset, batch_size=16, shuffle = True)\n",
        "  test_loader = DataLoader(test_dataset, batch_size = 16, shuffle = True)\n",
        "\n",
        "  return train_loader, validation_loader, test_loader"
      ],
      "metadata": {
        "id": "fk3kUzfRHQ4p"
      },
      "execution_count": null,
      "outputs": []
    },
    {
      "cell_type": "code",
      "source": [
        "grud_train_loader, grud_val_loader, grud_test_loader = get_data_loader(updated_dfs, majority_sepsis_labels)"
      ],
      "metadata": {
        "id": "YqVz-i9JHWGS"
      },
      "execution_count": null,
      "outputs": []
    },
    {
      "cell_type": "markdown",
      "source": [
        "#GRUD Model"
      ],
      "metadata": {
        "id": "JpNIE4W4inCZ"
      }
    },
    {
      "cell_type": "code",
      "source": [
        "import torch.nn as nn\n",
        "import math\n",
        "\n",
        "class GRUD(nn.Module):\n",
        "  def __init__(self, input_size, hidden_size, output_size, num_layers, x_mean, bias, batch_first=True, bidirectional=False,  dropout_type=None, dropout=0, static=False):\n",
        "    super(GRUD, self).__init__()\n",
        "    self.input_size = input_size\n",
        "    self.hidden_size = hidden_size\n",
        "    self.output_size = output_size\n",
        "    self.num_layers = num_layers\n",
        "    self.n_times = times_threshold\n",
        "    self.bias = bias\n",
        "    self.bidirectional = bidirectional\n",
        "    self.dropout_type = dropout_type\n",
        "    self.dropout= dropout\n",
        "    self._all_weights = []\n",
        "    self.zeros = torch.autograd.Variable(torch.zeros(input_size))\n",
        "    self.x_mean = x_mean\n",
        "\n",
        "    # decay rates gamma\n",
        "    w_dg_x = torch.nn.Parameter(torch.Tensor(input_size))\n",
        "    w_dg_h = torch.nn.Parameter(torch.Tensor(hidden_size))\n",
        "    # z\n",
        "    w_xz = torch.nn.Parameter(torch.Tensor(input_size))\n",
        "    w_hz = torch.nn.Parameter(torch.Tensor(hidden_size))\n",
        "    w_mz = torch.nn.Parameter(torch.Tensor(input_size))\n",
        "    # r\n",
        "    w_xr = torch.nn.Parameter(torch.Tensor(input_size))\n",
        "    w_hr = torch.nn.Parameter(torch.Tensor(hidden_size))\n",
        "    w_mr = torch.nn.Parameter(torch.Tensor(input_size))\n",
        "    # h_tilde\n",
        "    w_xh = torch.nn.Parameter(torch.Tensor(input_size))\n",
        "    w_hh = torch.nn.Parameter(torch.Tensor(hidden_size))\n",
        "    w_mh = torch.nn.Parameter(torch.Tensor(input_size))\n",
        "    # y (output)\n",
        "    w_hy = torch.nn.Parameter(torch.Tensor(output_size, hidden_size))\n",
        "    # bias\n",
        "    b_dg_x = torch.nn.Parameter(torch.Tensor(hidden_size))\n",
        "    b_dg_h = torch.nn.Parameter(torch.Tensor(hidden_size))\n",
        "    b_z = torch.nn.Parameter(torch.Tensor(hidden_size))\n",
        "    b_r = torch.nn.Parameter(torch.Tensor(hidden_size))\n",
        "    b_h = torch.nn.Parameter(torch.Tensor(hidden_size))\n",
        "    b_y = torch.nn.Parameter(torch.Tensor(output_size))\n",
        "    # layer params\n",
        "    layer_params = (w_dg_x, w_dg_h,\n",
        "                    w_xz, w_hz, w_mz,\n",
        "                    w_xr, w_hr, w_mr,\n",
        "                    w_xh, w_hh, w_mh,\n",
        "                    w_hy,\n",
        "                    b_dg_x, b_dg_h, b_z, b_r, b_h, b_y)\n",
        "    param_names = ['weight_dg_x', 'weight_dg_h',\n",
        "                    'weight_xz', 'weight_hz', 'weight_mz',\n",
        "                    'weight_xr', 'weight_hr', 'weight_mr',\n",
        "                    'weight_xh', 'weight_hh', 'weight_mh',\n",
        "                    'weight_hy']\n",
        "    if bias:\n",
        "      param_names += ['bias_dg_x', 'bias_dg_h',\n",
        "                      'bias_z',\n",
        "                      'bias_r',\n",
        "                      'bias_h',\n",
        "                      'bias_y']\n",
        "    for name, param in zip(param_names, layer_params):\n",
        "      setattr(self, name, param)\n",
        "    self._all_weights.append(param_names)\n",
        "    self.reset_parameters()\n",
        "    return\n",
        "\n",
        "  def forward(self, input):\n",
        "    # input1 = torch.squeeze(input)\n",
        "    X = input[:, 0, :, :]\n",
        "    Delta = input[:, 1, :, :]\n",
        "    Mask = input[:, 2, :, :]\n",
        "    hidden_states = []\n",
        "    batch_size = 16\n",
        "    n_times = 49\n",
        "    h = torch.zeros(batch_size, self.hidden_size)\n",
        "    # Hidden_State = torch.autograd.Variable(torch.zeros(self.input_size))\n",
        "    # print(input1.size())\n",
        "    output = None\n",
        "    # decay rates gamma\n",
        "    w_dg_x = getattr(self, 'weight_dg_x')\n",
        "    w_dg_h = getattr(self, 'weight_dg_h')\n",
        "\n",
        "    # z\n",
        "    w_xz = getattr(self, 'weight_xz')\n",
        "    w_hz = getattr(self, 'weight_hz')\n",
        "    w_mz = getattr(self, 'weight_mz')\n",
        "\n",
        "    # r\n",
        "    w_xr = getattr(self, 'weight_xr')\n",
        "    w_hr = getattr(self, 'weight_hr')\n",
        "    w_mr = getattr(self, 'weight_mr')\n",
        "\n",
        "    # h_tilde\n",
        "    w_xh = getattr(self, 'weight_xh')\n",
        "    w_hh = getattr(self, 'weight_hh')\n",
        "    w_mh = getattr(self, 'weight_mh')\n",
        "    # bias\n",
        "    b_dg_x = getattr(self, 'bias_dg_x')\n",
        "    b_dg_h = getattr(self, 'bias_dg_h')\n",
        "    b_z = getattr(self, 'bias_z')\n",
        "    b_r = getattr(self, 'bias_r')\n",
        "    b_h = getattr(self, 'bias_h')\n",
        "\n",
        "    for n_time in range(self.n_times):\n",
        "      x = torch.squeeze(X[:, :, n_time:n_time+1])\n",
        "      d = torch.squeeze(Delta[:, :, n_time:n_time+1])\n",
        "      m = torch.squeeze(Mask[:, :, n_time:n_time+1])\n",
        "\n",
        "      # print(d.size())\n",
        "      # print(w_dg_x.size())\n",
        "      # print(b_dg_x.size())\n",
        "      gamma_x = torch.exp(-torch.max(self.zeros, (w_dg_x *d + b_dg_x)))\n",
        "      # print(\"Gamma\")\n",
        "      # print(gamma_x.size())\n",
        "      gamma_h = torch.exp(-torch.max(self.zeros, (d * w_dg_h.T + b_dg_h)))\n",
        "\n",
        "      x = m * x + (1 - m) * (gamma_x * x + (1 - gamma_x) * self.x_mean)\n",
        "\n",
        "      h = gamma_h * h\n",
        "      z = torch.sigmoid((w_xz * x + w_hz * h + w_mz * m + b_z))\n",
        "      r = torch.sigmoid((w_xr * x + w_hr * h + w_mr * m + b_r))\n",
        "      h_tilde = torch.tanh((w_xh * x + w_hh * (r * h) + w_mh * m + b_h))\n",
        "      h = (1 - z) * h + z * h_tilde\n",
        "      hidden_states.append(h.unsqueeze(1))\n",
        "\n",
        "    w_hy = getattr(self, 'weight_hy')\n",
        "    b_y = getattr(self, 'bias_y')\n",
        "    hidden_states = torch.cat(hidden_states, dim=1)  # shape: [batch_size, seq_length, hidden_size]\n",
        "    # output = torch.matmul(h, w_hy.view(input_size, 1)) + b_y\n",
        "    return hidden_states\n",
        "\n",
        "  def reset_parameters(self):\n",
        "    stdv = 1.0 / math.sqrt(self.hidden_size)\n",
        "    for weight in self.parameters():\n",
        "      torch.nn.init.uniform_(weight, -stdv, stdv)"
      ],
      "metadata": {
        "id": "9TsUIG6rHJvk"
      },
      "execution_count": null,
      "outputs": []
    },
    {
      "cell_type": "code",
      "source": [
        "class MyGRUDModel(nn.Module):\n",
        "  def __init__(self):\n",
        "    super(MyGRUDModel, self).__init__()\n",
        "    self.grud = GRUD(input_size=41, hidden_size=41, output_size=5, num_layers=1, x_mean=torch.rand(41), bias=True)\n",
        "    self.gru = nn.GRU(input_size=41, hidden_size=15, num_layers=2, batch_first=True)\n",
        "    self.fc = nn.Linear(15, 1)\n",
        "    self.relu = nn.ReLU()\n",
        "\n",
        "  def forward(self, x):\n",
        "    hidden_states = self.grud(x)\n",
        "    out, _ = self.gru(hidden_states)\n",
        "    out = out[:, -1, :]\n",
        "    out = self.fc(out)\n",
        "    out = self.relu(out)\n",
        "    return out"
      ],
      "metadata": {
        "id": "vHx9rqFOHMKN"
      },
      "execution_count": null,
      "outputs": []
    },
    {
      "cell_type": "markdown",
      "source": [
        "# Training"
      ],
      "metadata": {
        "id": "UN12ZhYOispi"
      }
    },
    {
      "cell_type": "code",
      "source": [
        "import torch\n",
        "import torch.nn as nn\n",
        "import torch.optim as optim\n",
        "from torch.optim import lr_scheduler\n",
        "\n",
        "input_size = 41  # Placeholder for actual unique parameters count\n",
        "hidden_size = 41\n",
        "output_size = 1\n",
        "num_layers = times_threshold  # Placeholder for the times_threshold value\n",
        "x_mean = torch.tensor(0.0)  # Placeholder for the actual mean of your data\n",
        "bias = True\n",
        "batch_first = True\n",
        "bidirectional = False\n",
        "dropout_type = \"\"\n",
        "dropout = 0\n",
        "static = True\n",
        "lr = 0.01\n",
        "momentum = 0.9\n",
        "gamma = 0.1\n",
        "\n",
        "# Define the model (assuming the model class is correctly defined as MyGRUDModel)\n",
        "model = MyGRUDModel()\n",
        "optimizer = optim.SGD(model.parameters(), lr=lr, momentum=momentum)\n",
        "scheduler = lr_scheduler.StepLR(optimizer, step_size=1, gamma=gamma)  # Reduce LR by gamma factor every epoch\n",
        "loss_function = nn.BCEWithLogitsLoss()\n",
        "\n",
        "num_epochs = 10\n",
        "\n",
        "def train_model(train_loader, validation_loader):\n",
        "    for n_epoch in range(num_epochs):\n",
        "        total_train_loss = 0.0\n",
        "        total_val_loss = 0.0\n",
        "        model.train()  # Set the model to training mode\n",
        "\n",
        "        # Training phase\n",
        "        for inputs, labels in train_loader:\n",
        "            # print(inputs.size())\n",
        "            optimizer.zero_grad()\n",
        "            outputs = model(inputs).squeeze()\n",
        "            labels = labels.float().view(-1)\n",
        "            loss = loss_function(outputs, labels)\n",
        "            loss.backward()\n",
        "            optimizer.step()\n",
        "            total_train_loss += loss.item() * inputs.size(0)\n",
        "\n",
        "        # Validation phase\n",
        "        model.eval()  # Set the model to evaluation mode\n",
        "        with torch.no_grad():\n",
        "            for inputs, labels in validation_loader:\n",
        "                outputs = model(inputs).squeeze()\n",
        "                labels = labels.float().view(-1)\n",
        "                loss = loss_function(outputs, labels)\n",
        "                total_val_loss += loss.item() * inputs.size(0)\n",
        "\n",
        "        # Calculate average losses\n",
        "        train_loss = total_train_loss / len(train_loader.dataset)\n",
        "        val_loss = total_val_loss / len(validation_loader.dataset)\n",
        "\n",
        "        print(f\"Epoch {n_epoch+1}: Train Loss: {train_loss:.4f}, Validation Loss: {val_loss:.4f}\")\n",
        "\n",
        "# Assuming grud_train_loader and grud_validation_loader are defined\n",
        "train_model(grud_train_loader, grud_val_loader)\n"
      ],
      "metadata": {
        "id": "n8ZUz2lMHhum"
      },
      "execution_count": null,
      "outputs": []
    },
    {
      "cell_type": "markdown",
      "source": [
        "# Test Model"
      ],
      "metadata": {
        "id": "ONefzdQ1izvS"
      }
    },
    {
      "cell_type": "code",
      "source": [
        "import matplotlib.pyplot as plt\n",
        "from sklearn.metrics import roc_curve, auc, roc_auc_score, classification_report\n",
        "import torch\n",
        "\n",
        "def gru_test_model(model, test_loader):\n",
        "    model.eval()  # Set the model to evaluation mode\n",
        "    correct_predictions = 0\n",
        "    total_samples = 0\n",
        "    all_labels = []\n",
        "    all_probabilities = []  # Store probabilities for AUROC plotting\n",
        "\n",
        "    with torch.no_grad():  # Disable gradient computation during inference\n",
        "        for inputs, labels in test_loader:\n",
        "            outputs = model(inputs).squeeze()  # Ensure output is a 1D tensor\n",
        "            labels = labels.float().view(-1)\n",
        "            probabilities = torch.sigmoid(outputs)\n",
        "            predictions = (probabilities < 0.5).float()  # Convert logits to binary predictions (0 or 1)\n",
        "            correct_predictions += (predictions == labels).sum().item()\n",
        "            total_samples += labels.size(0)  # Increment total samples processed\n",
        "            all_labels.extend(labels.tolist())\n",
        "            all_probabilities.extend(probabilities.tolist())  # Use probabilities for ROC calculation\n",
        "\n",
        "    accuracy = correct_predictions / total_samples\n",
        "    auroc_score = roc_auc_score(all_labels, all_probabilities)  # Notice change here for probabilities\n",
        "    print(f\"Test Accuracy: {accuracy:.4f}\")\n",
        "    print(f\"AUROC Score: {auroc_score:.4f}\")\n",
        "\n",
        "    # Generate classification report\n",
        "    binary_predictions = [1 if prob < 0.5 else 0 for prob in all_probabilities]\n",
        "    report = classification_report(all_labels, binary_predictions, target_names=['Class 0', 'Class 1'])\n",
        "    print(\"Classification Report:\\n\", report)\n",
        "\n",
        "    # Compute ROC curve and ROC area for plotting\n",
        "    fpr, tpr, _ = roc_curve(all_labels, all_probabilities)\n",
        "    roc_auc = auc(fpr, tpr)\n",
        "\n",
        "    # Plot ROC curve\n",
        "    plt.figure()\n",
        "    plt.plot(fpr, tpr, color='darkorange', lw=2, label='ROC curve (area = %0.2f)' % roc_auc)\n",
        "    plt.plot([0, 1], [0, 1], color='navy', lw=2, linestyle='--')\n",
        "    plt.xlim([0.0, 1.0])\n",
        "    plt.ylim([0.0, 1.05])\n",
        "    plt.xlabel('False Positive Rate')\n",
        "    plt.ylabel('True Positive Rate')\n",
        "    plt.title('Receiver Operating Characteristic')\n",
        "    plt.legend(loc=\"lower right\")\n",
        "    plt.show()\n",
        "\n",
        "# You would call gru_test_model with your model and DataLoader instance.\n"
      ],
      "metadata": {
        "id": "VWkf-jtMH585"
      },
      "execution_count": null,
      "outputs": []
    },
    {
      "cell_type": "code",
      "source": [
        "gru_test_model(model, grud_test_loader)"
      ],
      "metadata": {
        "id": "ZDBpU08ZICIO",
        "colab": {
          "base_uri": "https://localhost:8080/",
          "height": 406
        },
        "outputId": "62e8c982-1768-403a-f170-d0a410b6448f"
      },
      "execution_count": 5,
      "outputs": [
        {
          "output_type": "display_data",
          "data": {
            "text/plain": [
              "<Figure size 640x480 with 1 Axes>"
            ],
            "image/png": "[encoded data removed]"
          },
          "metadata": {}
        }
      ]
    },
    {
      "cell_type": "code",
      "source": [],
      "metadata": {
        "id": "oVdly3-v57Dk"
      },
      "execution_count": null,
      "outputs": []
    }
  ]
}