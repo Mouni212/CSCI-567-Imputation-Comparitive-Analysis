{
  "nbformat": 4,
  "nbformat_minor": 0,
  "metadata": {
    "colab": {
      "provenance": []
    },
    "kernelspec": {
      "name": "python3",
      "display_name": "Python 3"
    },
    "language_info": {
      "name": "python"
    }
  },
  "cells": [
    {
      "cell_type": "code",
      "source": [
        "import pandas as pd\n",
        "import numpy as np"
      ],
      "metadata": {
        "id": "erXb-WRuFBnV"
      },
      "execution_count": 1,
      "outputs": []
    },
    {
      "cell_type": "code",
      "source": [
        "from google.colab import files\n",
        "uploads = files.upload()"
      ],
      "metadata": {
        "colab": {
          "base_uri": "https://localhost:8080/",
          "height": 73
        },
        "id": "YFwnzqsXFDnt",
        "outputId": "8ccdd86e-fd94-4032-da16-8d9e2c4e8e0f"
      },
      "execution_count": 2,
      "outputs": [
        {
          "output_type": "display_data",
          "data": {
            "text/plain": [
              "<IPython.core.display.HTML object>"
            ],
            "text/html": [
              "\n",
              "     <input type=\"file\" id=\"files-9fcfbd11-8ab4-4198-9256-9c494bb5966c\" name=\"files[]\" multiple disabled\n",
              "        style=\"border:none\" />\n",
              "     <output id=\"result-9fcfbd11-8ab4-4198-9256-9c494bb5966c\">\n",
              "      Upload widget is only available when the cell has been executed in the\n",
              "      current browser session. Please rerun this cell to enable.\n",
              "      </output>\n",
              "      <script>// Copyright 2017 Google LLC\n",
              "//\n",
              "// Licensed under the Apache License, Version 2.0 (the \"License\");\n",
              "// you may not use this file except in compliance with the License.\n",
              "// You may obtain a copy of the License at\n",
              "//\n",
              "//      http://www.apache.org/licenses/LICENSE-2.0\n",
              "//\n",
              "// Unless required by applicable law or agreed to in writing, software\n",
              "// distributed under the License is distributed on an \"AS IS\" BASIS,\n",
              "// WITHOUT WARRANTIES OR CONDITIONS OF ANY KIND, either express or implied.\n",
              "// See the License for the specific language governing permissions and\n",
              "// limitations under the License.\n",
              "\n",
              "/**\n",
              " * @fileoverview Helpers for google.colab Python module.\n",
              " */\n",
              "(function(scope) {\n",
              "function span(text, styleAttributes = {}) {\n",
              "  const element = document.createElement('span');\n",
              "  element.textContent = text;\n",
              "  for (const key of Object.keys(styleAttributes)) {\n",
              "    element.style[key] = styleAttributes[key];\n",
              "  }\n",
              "  return element;\n",
              "}\n",
              "\n",
              "// Max number of bytes which will be uploaded at a time.\n",
              "const MAX_PAYLOAD_SIZE = 100 * 1024;\n",
              "\n",
              "function _uploadFiles(inputId, outputId) {\n",
              "  const steps = uploadFilesStep(inputId, outputId);\n",
              "  const outputElement = document.getElementById(outputId);\n",
              "  // Cache steps on the outputElement to make it available for the next call\n",
              "  // to uploadFilesContinue from Python.\n",
              "  outputElement.steps = steps;\n",
              "\n",
              "  return _uploadFilesContinue(outputId);\n",
              "}\n",
              "\n",
              "// This is roughly an async generator (not supported in the browser yet),\n",
              "// where there are multiple asynchronous steps and the Python side is going\n",
              "// to poll for completion of each step.\n",
              "// This uses a Promise to block the python side on completion of each step,\n",
              "// then passes the result of the previous step as the input to the next step.\n",
              "function _uploadFilesContinue(outputId) {\n",
              "  const outputElement = document.getElementById(outputId);\n",
              "  const steps = outputElement.steps;\n",
              "\n",
              "  const next = steps.next(outputElement.lastPromiseValue);\n",
              "  return Promise.resolve(next.value.promise).then((value) => {\n",
              "    // Cache the last promise value to make it available to the next\n",
              "    // step of the generator.\n",
              "    outputElement.lastPromiseValue = value;\n",
              "    return next.value.response;\n",
              "  });\n",
              "}\n",
              "\n",
              "/**\n",
              " * Generator function which is called between each async step of the upload\n",
              " * process.\n",
              " * @param {string} inputId Element ID of the input file picker element.\n",
              " * @param {string} outputId Element ID of the output display.\n",
              " * @return {!Iterable<!Object>} Iterable of next steps.\n",
              " */\n",
              "function* uploadFilesStep(inputId, outputId) {\n",
              "  const inputElement = document.getElementById(inputId);\n",
              "  inputElement.disabled = false;\n",
              "\n",
              "  const outputElement = document.getElementById(outputId);\n",
              "  outputElement.innerHTML = '';\n",
              "\n",
              "  const pickedPromise = new Promise((resolve) => {\n",
              "    inputElement.addEventListener('change', (e) => {\n",
              "      resolve(e.target.files);\n",
              "    });\n",
              "  });\n",
              "\n",
              "  const cancel = document.createElement('button');\n",
              "  inputElement.parentElement.appendChild(cancel);\n",
              "  cancel.textContent = 'Cancel upload';\n",
              "  const cancelPromise = new Promise((resolve) => {\n",
              "    cancel.onclick = () => {\n",
              "      resolve(null);\n",
              "    };\n",
              "  });\n",
              "\n",
              "  // Wait for the user to pick the files.\n",
              "  const files = yield {\n",
              "    promise: Promise.race([pickedPromise, cancelPromise]),\n",
              "    response: {\n",
              "      action: 'starting',\n",
              "    }\n",
              "  };\n",
              "\n",
              "  cancel.remove();\n",
              "\n",
              "  // Disable the input element since further picks are not allowed.\n",
              "  inputElement.disabled = true;\n",
              "\n",
              "  if (!files) {\n",
              "    return {\n",
              "      response: {\n",
              "        action: 'complete',\n",
              "      }\n",
              "    };\n",
              "  }\n",
              "\n",
              "  for (const file of files) {\n",
              "    const li = document.createElement('li');\n",
              "    li.append(span(file.name, {fontWeight: 'bold'}));\n",
              "    li.append(span(\n",
              "        `(${file.type || 'n/a'}) - ${file.size} bytes, ` +\n",
              "        `last modified: ${\n",
              "            file.lastModifiedDate ? file.lastModifiedDate.toLocaleDateString() :\n",
              "                                    'n/a'} - `));\n",
              "    const percent = span('0% done');\n",
              "    li.appendChild(percent);\n",
              "\n",
              "    outputElement.appendChild(li);\n",
              "\n",
              "    const fileDataPromise = new Promise((resolve) => {\n",
              "      const reader = new FileReader();\n",
              "      reader.onload = (e) => {\n",
              "        resolve(e.target.result);\n",
              "      };\n",
              "      reader.readAsArrayBuffer(file);\n",
              "    });\n",
              "    // Wait for the data to be ready.\n",
              "    let fileData = yield {\n",
              "      promise: fileDataPromise,\n",
              "      response: {\n",
              "        action: 'continue',\n",
              "      }\n",
              "    };\n",
              "\n",
              "    // Use a chunked sending to avoid message size limits. See b/62115660.\n",
              "    let position = 0;\n",
              "    do {\n",
              "      const length = Math.min(fileData.byteLength - position, MAX_PAYLOAD_SIZE);\n",
              "      const chunk = new Uint8Array(fileData, position, length);\n",
              "      position += length;\n",
              "\n",
              "      const base64 = btoa(String.fromCharCode.apply(null, chunk));\n",
              "      yield {\n",
              "        response: {\n",
              "          action: 'append',\n",
              "          file: file.name,\n",
              "          data: base64,\n",
              "        },\n",
              "      };\n",
              "\n",
              "      let percentDone = fileData.byteLength === 0 ?\n",
              "          100 :\n",
              "          Math.round((position / fileData.byteLength) * 100);\n",
              "      percent.textContent = `${percentDone}% done`;\n",
              "\n",
              "    } while (position < fileData.byteLength);\n",
              "  }\n",
              "\n",
              "  // All done.\n",
              "  yield {\n",
              "    response: {\n",
              "      action: 'complete',\n",
              "    }\n",
              "  };\n",
              "}\n",
              "\n",
              "scope.google = scope.google || {};\n",
              "scope.google.colab = scope.google.colab || {};\n",
              "scope.google.colab._files = {\n",
              "  _uploadFiles,\n",
              "  _uploadFilesContinue,\n",
              "};\n",
              "})(self);\n",
              "</script> "
            ]
          },
          "metadata": {}
        },
        {
          "output_type": "stream",
          "name": "stdout",
          "text": [
            "Saving scraped_data.csv to scraped_data.csv\n"
          ]
        }
      ]
    },
    {
      "cell_type": "markdown",
      "source": [
        "# Data Read"
      ],
      "metadata": {
        "id": "wMymV9aYi_Ud"
      }
    },
    {
      "cell_type": "code",
      "execution_count": 3,
      "metadata": {
        "id": "QgeKAOxaE9_T"
      },
      "outputs": [],
      "source": [
        "import csv\n",
        "\n",
        "# Open the CSV file\n",
        "with open('scraped_data.csv', newline='') as csvfile:\n",
        "    # Create a CSV reader object\n",
        "    csv_reader = csv.reader(csvfile)\n",
        "    # Read each row into a list\n",
        "    scraped_data_list = [row for row in csv_reader]"
      ]
    },
    {
      "cell_type": "code",
      "source": [
        "\n",
        "dfs = []\n",
        "for scraped_data in scraped_data_list:\n",
        "  scraped_data_lines = scraped_data.split(\"\\n\")\n",
        "  data_values = [line.split('|') for line in scraped_data_lines]\n",
        "  columns = data_values[0]\n",
        "  df = pd.DataFrame(data_values[1:], columns=columns)\n",
        "\n",
        "  dfs.append(df)\n"
      ],
      "metadata": {
        "id": "i6IqQzjMFfXF"
      },
      "execution_count": 5,
      "outputs": []
    },
    {
      "cell_type": "code",
      "source": [
        "dfs = []\n",
        "majority_sepsis_labels = []\n",
        "\n",
        "for scraped_data in scraped_data_list:\n",
        "    scraped_data_lines = scraped_data.split(\"\\n\")\n",
        "    data_values = [line.split('|') for line in scraped_data_lines]\n",
        "    columns = data_values[0]\n",
        "    df = pd.DataFrame(data_values[1:], columns=columns)\n",
        "\n",
        "    # Convert 'SepsisLabel' to numeric\n",
        "    df['SepsisLabel'] = pd.to_numeric(df['SepsisLabel'])\n",
        "\n",
        "    # Extract first 49 rows\n",
        "    first_49_rows = df.head(49)\n",
        "\n",
        "    # Calculate majority SepsisLabel value\n",
        "    majority_sepsis_label = first_49_rows['SepsisLabel'].mode().iloc[0]\n",
        "\n",
        "    dfs.append(df)\n",
        "    majority_sepsis_labels.append(majority_sepsis_label)\n",
        "\n"
      ],
      "metadata": {
        "id": "_gFdCJRZFhwU"
      },
      "execution_count": 6,
      "outputs": []
    },
    {
      "cell_type": "markdown",
      "source": [
        "# Data PreProcess"
      ],
      "metadata": {
        "id": "SZGaumjEjDe6"
      }
    },
    {
      "cell_type": "code",
      "source": [
        "import numpy as np\n",
        "\n",
        "updated_dfs = []\n",
        "basic_data = []\n",
        "parameters_size = 41\n",
        "times_threshold = 49\n",
        "max_times = 0\n",
        "\n",
        "for df in dfs:\n",
        "    value_array = []\n",
        "    delta_array = []\n",
        "    mask_array = []\n",
        "    dataset = []\n",
        "\n",
        "    last_available_times = np.zeros(parameters_size)\n",
        "    count = 0\n",
        "\n",
        "    for index, row in df.iterrows():\n",
        "        count += 1\n",
        "        values = row.values\n",
        "        values = [0 if str(val) == 'NaN' else float(val) for val in values]\n",
        "\n",
        "        deltas = np.zeros(parameters_size)\n",
        "        mask = np.zeros(parameters_size)\n",
        "\n",
        "        for i, value in enumerate(values):\n",
        "            if not np.isnan(value):\n",
        "                mask[i] = 1\n",
        "                last_available_times[i] = count\n",
        "\n",
        "        for i in range(parameters_size):\n",
        "            deltas[i] = count - last_available_times[i]\n",
        "\n",
        "        value_array.append(values)\n",
        "        delta_array.append(deltas)\n",
        "        mask_array.append(mask)\n",
        "\n",
        "        if count == times_threshold:\n",
        "          break\n",
        "\n",
        "    while count < times_threshold:\n",
        "        value_array.append(np.zeros(parameters_size))\n",
        "        delta_array.append(np.zeros(parameters_size))\n",
        "        mask_array.append(np.zeros(parameters_size))\n",
        "        count += 1\n",
        "\n",
        "    value_array = np.array(value_array).T\n",
        "    delta_array = np.array(delta_array).T\n",
        "    mask_array = np.array(mask_array).T\n",
        "\n",
        "    dataset.append(value_array)\n",
        "    dataset.append(mask_array)\n",
        "    dataset.append(delta_array)\n",
        "    updated_dfs.append(dataset)\n",
        "    basic_data.append(value_array)\n",
        "\n",
        "    max_times = max(max_times, count)\n",
        "\n",
        "\n"
      ],
      "metadata": {
        "id": "AFwMlArgFoIO"
      },
      "execution_count": 7,
      "outputs": []
    },
    {
      "cell_type": "code",
      "source": [
        "import copy\n",
        "import numpy as np\n",
        "from sklearn.experimental import enable_iterative_imputer\n",
        "from sklearn.impute import IterativeImputer\n",
        "\n",
        "mice_dataset = copy.deepcopy(basic_data)\n",
        "mice_dataset_np = np.array(mice_dataset)\n",
        "mice_dataset_np_nan = np.where(mice_dataset_np == 0, np.nan, mice_dataset_np)\n",
        "flattened_data = mice_dataset_np_nan.flatten()\n",
        "imputer = IterativeImputer(n_nearest_features=10, skip_complete=True, min_value=0)\n",
        "imputed_data = imputer.fit_transform(flattened_data.reshape(-1, 1))\n",
        "imputed_dataset_np = imputed_data.reshape(mice_dataset_np_nan.shape)\n",
        "imputed_dataset = imputed_dataset_np.tolist()\n",
        "\n",
        "for i, data in enumerate(mice_dataset):\n",
        "    for j in range(parameters_size):\n",
        "        data[j] = imputed_dataset[i][j]"
      ],
      "metadata": {
        "id": "xkSeKVzNF99p"
      },
      "execution_count": 8,
      "outputs": []
    },
    {
      "cell_type": "markdown",
      "source": [
        "# Data split and loaders"
      ],
      "metadata": {
        "id": "hHgYYhTBjNfp"
      }
    },
    {
      "cell_type": "code",
      "source": [
        "import numpy as np\n",
        "\n",
        "def custom_train_test_split(features, labels, test_size, validation_size=0.2, random_state=None):\n",
        "  if random_state is not None:\n",
        "    np.random.seed(random_state)\n",
        "\n",
        "  # Shuffle indices\n",
        "  indices = np.arange(len(features))\n",
        "  np.random.shuffle(indices)\n",
        "\n",
        "  # Calculate the number of test and validation samples\n",
        "  n_test = int(len(features) * test_size)\n",
        "  n_validation = int(len(features) * validation_size)\n",
        "\n",
        "  # Split indices into test, validation, and train sets\n",
        "  test_indices = indices[:n_test]\n",
        "  validation_indices = indices[n_test:n_test + n_validation]\n",
        "  train_indices = indices[n_test + n_validation:]\n",
        "\n",
        "  # Split data based on indices\n",
        "  test_data = [features[i] for i in test_indices]\n",
        "  validation_data = [features[i] for i in validation_indices]\n",
        "  train_data = [features[i] for i in train_indices]\n",
        "\n",
        "  # Split labels based on indices\n",
        "  test_labels = [labels[i] for i in test_indices]\n",
        "  validation_labels = [labels[i] for i in validation_indices]\n",
        "  train_labels = [labels[i] for i in train_indices]\n",
        "\n",
        "  return train_data, train_labels, validation_data, validation_labels, test_data, test_labels"
      ],
      "metadata": {
        "id": "kZIx7YVSFrvp"
      },
      "execution_count": 9,
      "outputs": []
    },
    {
      "cell_type": "code",
      "source": [
        "from torch.utils.data import Dataset\n",
        "import torch\n",
        "\n",
        "class CustomDataset(Dataset):\n",
        "  def __init__(self, features, labels) -> None:\n",
        "    self.features = features\n",
        "    self.labels = labels\n",
        "\n",
        "  def __len__(self):\n",
        "    return len(self.features)\n",
        "\n",
        "  def __getitem__(self, index):\n",
        "    sample = self.features[index]\n",
        "    label = self.labels[index]\n",
        "    sample = torch.tensor(sample, dtype=torch.float32)\n",
        "    label = torch.tensor(label, dtype = torch.float32)\n",
        "    return sample, label"
      ],
      "metadata": {
        "id": "i8z2QaMDFt-z"
      },
      "execution_count": 10,
      "outputs": []
    },
    {
      "cell_type": "code",
      "source": [
        "from torch.utils.data import Dataset, DataLoader, TensorDataset\n",
        "\n",
        "def get_data_loader(dataset, labels_df):\n",
        "  train_features, train_labels, validation_features, validation_labels, test_features, test_labels = custom_train_test_split(dataset, labels_df, test_size=0.2, validation_size = 0.15)\n",
        "\n",
        "  print(len(train_features))\n",
        "  print(len(train_labels))\n",
        "  train_dataset = CustomDataset(train_features, train_labels)\n",
        "  validation_dataset = CustomDataset(validation_features, validation_labels)\n",
        "  test_dataset = CustomDataset(test_features, test_labels)\n",
        "\n",
        "  train_loader = DataLoader(train_dataset, batch_size = 4, shuffle = True)\n",
        "  validation_loader = DataLoader(validation_dataset, batch_size=4, shuffle = True)\n",
        "  test_loader = DataLoader(test_dataset, batch_size = 4, shuffle = True)\n",
        "\n",
        "  return train_loader, validation_loader, test_loader"
      ],
      "metadata": {
        "id": "9WBfK2CJFv1W"
      },
      "execution_count": 11,
      "outputs": []
    },
    {
      "cell_type": "code",
      "source": [
        "mice_train_loader, mice_val_loader, mice_test_loader = get_data_loader(mice_dataset, majority_sepsis_labels)\n"
      ],
      "metadata": {
        "id": "NrBRwqF-GKbs"
      },
      "execution_count": 12,
      "outputs": []
    },
    {
      "cell_type": "markdown",
      "source": [
        "# GRU Model"
      ],
      "metadata": {
        "id": "N1tWKTnhjSCn"
      }
    },
    {
      "cell_type": "code",
      "source": [
        "import torch\n",
        "import torch.nn as nn\n",
        "\n",
        "class MyGRU(nn.Module):\n",
        "  def __init__(self, input_size, hidden_size, output_size, num_layers):\n",
        "    super(MyGRU, self).__init__()\n",
        "    self.hidden_size = hidden_size\n",
        "    self.num_layers = num_layers\n",
        "    self.gru = nn.GRU(input_size, hidden_size, num_layers=num_layers, batch_first=True)\n",
        "    self.fc1 = nn.Linear(hidden_size, 50)\n",
        "    self.dropout = nn.Dropout(0.2)\n",
        "    self.fc2 = nn.Linear(50, 25)\n",
        "    self.fc3 = nn.Linear(25, 1)\n",
        "    self.relu = nn.ReLU()\n",
        "    # self.sigmoid = torch.sigmoid()\n",
        "\n",
        "  def forward(self, x):\n",
        "    # h0 = torch.randn(self.num_layers, x.size(0), self.hidden_size) * 0.01\n",
        "    h0 = torch.normal(0, 0.01, size=(self.num_layers, x.size(0), self.hidden_size))\n",
        "    out, _ = self.gru(x, h0)\n",
        "    out = out[:, -1, :]\n",
        "    out = self.fc1(out)\n",
        "    out = torch.sigmoid(out)\n",
        "    out = self.fc2(out)\n",
        "    out = torch.sigmoid(out)\n",
        "    out = self.fc3(out)\n",
        "    out = torch.sigmoid(out)\n",
        "    # out = torch.sigmoid(out)\n",
        "    return out"
      ],
      "metadata": {
        "id": "GwVQoAsqFylr"
      },
      "execution_count": 13,
      "outputs": []
    },
    {
      "cell_type": "markdown",
      "source": [
        "# Train Model"
      ],
      "metadata": {
        "id": "ixQkf4dFjVpR"
      }
    },
    {
      "cell_type": "code",
      "source": [
        "import torch\n",
        "import torch.nn as nn\n",
        "import torch.optim as optim\n",
        "from torch.optim import lr_scheduler\n",
        "lr = 0.01\n",
        "momentum = 0.9\n",
        "gamma = 0.1  # Factor by which to reduce the learning rate (e.g., multiply by 0.1)\n",
        "num_layers = 4\n",
        "input_size = 41\n",
        "output_size = 1\n",
        "hidden_dim = 30\n",
        "\n",
        "model = MyGRU(input_size, hidden_dim, output_size, num_layers)\n",
        "optimizer = optim.SGD(model.parameters(), lr=lr, momentum=momentum)\n",
        "# optimizer = optim.Adam(model.parameters(), lr=0.05, betas=(0.9, 0.999), eps=1e-08, weight_decay=0, amsgrad=False)\n",
        "scheduler = lr_scheduler.StepLR(optimizer, step_size=1, gamma=gamma)  # Reduce LR by gamma factor every epoch\n",
        "# scheduler = lr_scheduler.ExponentialLR(optimizer, gamma=0.1)\n",
        "# scheduler = lr_scheduler.ReduceLROnPlateau(optimizer, 'min', patience=2, factor=0.5, min_lr=1e-6, verbose=True)\n",
        "class_weights = torch.tensor([0.7], dtype=torch.float)\n",
        "\n",
        "loss_function = nn.BCEWithLogitsLoss(pos_weight=class_weights)\n",
        "num_epochs = 10\n",
        "\n",
        "def gru_train_model(train_loader, val_loader):\n",
        "\n",
        "  for epoch in range(num_epochs):\n",
        "    print(f\"Epoch {epoch + 1}/{num_epochs}\")\n",
        "    model.train()  # Set the model to training mode\n",
        "    total_loss = 0.0\n",
        "    correct_predictions = 0\n",
        "    total_samples = 0\n",
        "\n",
        "    # Training phase\n",
        "    for inputs, labels in train_loader:\n",
        "      optimizer.zero_grad()\n",
        "      outputs = model(inputs.permute(0, 2, 1)).squeeze()\n",
        "      labels = labels.float().view(-1)\n",
        "      loss = loss_function(outputs, labels)\n",
        "      loss.backward()\n",
        "      optimizer.step()\n",
        "      total_loss += loss.item() * inputs.size(0)\n",
        "\n",
        "      train_predictions = (outputs > 0.5).float()\n",
        "      correct_predictions += (train_predictions == labels).sum().item()\n",
        "      total_samples += labels.size(0)\n",
        "\n",
        "    # Calculate average training loss for the epoch\n",
        "    train_loss = total_loss / len(train_loader.dataset)\n",
        "    train_accuracy = correct_predictions / total_samples\n",
        "    print(f\"Train Loss: {train_loss:.4f} | Train Accuracy: {train_accuracy:.2f}\")\n",
        "\n",
        "    # Validation phase\n",
        "    model.eval()  # Set the model to evaluation mode\n",
        "    val_loss = 0.0\n",
        "    correct_predictions = 0\n",
        "    total_samples = 0\n",
        "\n",
        "    with torch.no_grad():\n",
        "      for val_inputs, val_labels in val_loader:\n",
        "        val_outputs = model(val_inputs.permute(0, 2, 1)).squeeze()\n",
        "        val_labels = val_labels.float().view(-1)\n",
        "        val_loss += loss_function(val_outputs, val_labels).item() * val_inputs.size(0)\n",
        "\n",
        "        # Calculate accuracy (optional)\n",
        "        val_predictions = (val_outputs > 0.5).float()\n",
        "        correct_predictions += (val_predictions == val_labels).sum().item()\n",
        "        total_samples += val_labels.size(0)\n",
        "\n",
        "    # Calculate average validation loss and accuracy\n",
        "    val_loss = val_loss / len(val_loader.dataset)\n",
        "    val_accuracy = correct_predictions / total_samples\n",
        "\n",
        "    print(f\"Validation Loss: {val_loss:.4f} | Validation Accuracy: {val_accuracy:.2f}\")\n",
        "    scheduler.step(val_loss)"
      ],
      "metadata": {
        "id": "eZhW1oIjF01u"
      },
      "execution_count": 14,
      "outputs": []
    },
    {
      "cell_type": "code",
      "source": [
        "gru_train_model(mice_train_loader, mice_val_loader)"
      ],
      "metadata": {
        "id": "aWToEbDMGMdj"
      },
      "execution_count": null,
      "outputs": []
    },
    {
      "cell_type": "markdown",
      "source": [
        "# Test Model"
      ],
      "metadata": {
        "id": "YJSeC2pgjbZr"
      }
    },
    {
      "cell_type": "code",
      "source": [
        "import matplotlib.pyplot as plt\n",
        "from sklearn.metrics import roc_curve, auc, roc_auc_score, classification_report\n",
        "import torch\n",
        "\n",
        "def gru_test_model(model, test_loader):\n",
        "    model.eval()  # Set the model to evaluation mode\n",
        "    correct_predictions = 0\n",
        "    total_samples = 0\n",
        "    all_labels = []\n",
        "    all_probabilities = []  # Store probabilities for AUROC plotting\n",
        "\n",
        "    with torch.no_grad():  # Disable gradient computation during inference\n",
        "        for inputs, labels in test_loader:\n",
        "            outputs = model(inputs.permute(0, 2, 1)).squeeze()  # Ensure output is a 1D tensor\n",
        "            labels = labels.float().view(-1)\n",
        "            probabilities = torch.sigmoid(outputs)\n",
        "            predictions = (probabilities < 0.5).float()  # Convert logits to binary predictions (0 or 1)\n",
        "            correct_predictions += (predictions == labels).sum().item()\n",
        "            total_samples += labels.size(0)  # Increment total samples processed\n",
        "            all_labels.extend(labels.tolist())\n",
        "            all_probabilities.extend(probabilities.tolist())  # Use probabilities for ROC calculation\n",
        "\n",
        "    accuracy = correct_predictions / total_samples\n",
        "    auroc_score = roc_auc_score(all_labels, all_probabilities)  # Notice change here for probabilities\n",
        "    print(f\"Test Accuracy: {accuracy:.4f}\")\n",
        "    print(f\"AUROC Score: {auroc_score:.4f}\")\n",
        "\n",
        "    # Generate classification report\n",
        "    binary_predictions = [1 if prob < 0.5 else 0 for prob in all_probabilities]\n",
        "    report = classification_report(all_labels, binary_predictions, target_names=['Class 0', 'Class 1'])\n",
        "    print(\"Classification Report:\\n\", report)\n",
        "\n",
        "    # Compute ROC curve and ROC area for plotting\n",
        "    fpr, tpr, _ = roc_curve(all_labels, all_probabilities)\n",
        "    roc_auc = auc(fpr, tpr)\n",
        "\n",
        "    # Plot ROC curve\n",
        "    plt.figure()\n",
        "    plt.plot(fpr, tpr, color='darkorange', lw=2, label='ROC curve (area = %0.2f)' % roc_auc)\n",
        "    plt.plot([0, 1], [0, 1], color='navy', lw=2, linestyle='--')\n",
        "    plt.xlim([0.0, 1.0])\n",
        "    plt.ylim([0.0, 1.05])\n",
        "    plt.xlabel('False Positive Rate')\n",
        "    plt.ylabel('True Positive Rate')\n",
        "    plt.title('Receiver Operating Characteristic')\n",
        "    plt.legend(loc=\"lower right\")\n",
        "    plt.show()\n",
        "\n",
        "# You would call gru_test_model with your model and DataLoader instance.\n"
      ],
      "metadata": {
        "id": "Y7Y95BhcGPvO"
      },
      "execution_count": 15,
      "outputs": []
    },
    {
      "cell_type": "code",
      "source": [
        "\n",
        "\n",
        "gru_test_model(model, mice_test_loader)"
      ],
      "metadata": {
        "colab": {
          "base_uri": "https://localhost:8080/",
          "height": 406
        },
        "id": "aqW3znPM4IaS",
        "outputId": "54561cb0-f7c9-4a44-80cf-13fd7223aa4e"
      },
      "execution_count": 19,
      "outputs": [
        {
          "output_type": "display_data",
          "data": {
            "text/plain": [
              "<Figure size 640x480 with 1 Axes>"
            ],
            "image/png": "[encoded data removed]"
          },
          "metadata": {}
        }
      ]
    }
  ]
}