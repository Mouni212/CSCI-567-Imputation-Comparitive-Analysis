{
  "cells": [
    {
      "cell_type": "code",
      "execution_count": 1,
      "metadata": {
        "id": "ArmQ1V1-nSAl"
      },
      "outputs": [],
      "source": [
        "import pandas as pd\n",
        "import numpy as np"
      ]
    },
    {
      "cell_type": "code",
      "execution_count": 2,
      "metadata": {
        "colab": {
          "base_uri": "https://localhost:8080/",
          "height": 73
        },
        "id": "V-h9ouTwnVTl",
        "outputId": "1dafb1cc-c2e6-44a4-8e46-b828b166a91c"
      },
      "outputs": [
        {
          "output_type": "display_data",
          "data": {
            "text/plain": [
              "<IPython.core.display.HTML object>"
            ],
            "text/html": [
              "\n",
              "     <input type=\"file\" id=\"files-8025a947-e89e-412b-a0d0-5e6d99ea875a\" name=\"files[]\" multiple disabled\n",
              "        style=\"border:none\" />\n",
              "     <output id=\"result-8025a947-e89e-412b-a0d0-5e6d99ea875a\">\n",
              "      Upload widget is only available when the cell has been executed in the\n",
              "      current browser session. Please rerun this cell to enable.\n",
              "      </output>\n",
              "      <script>// Copyright 2017 Google LLC\n",
              "//\n",
              "// Licensed under the Apache License, Version 2.0 (the \"License\");\n",
              "// you may not use this file except in compliance with the License.\n",
              "// You may obtain a copy of the License at\n",
              "//\n",
              "//      http://www.apache.org/licenses/LICENSE-2.0\n",
              "//\n",
              "// Unless required by applicable law or agreed to in writing, software\n",
              "// distributed under the License is distributed on an \"AS IS\" BASIS,\n",
              "// WITHOUT WARRANTIES OR CONDITIONS OF ANY KIND, either express or implied.\n",
              "// See the License for the specific language governing permissions and\n",
              "// limitations under the License.\n",
              "\n",
              "/**\n",
              " * @fileoverview Helpers for google.colab Python module.\n",
              " */\n",
              "(function(scope) {\n",
              "function span(text, styleAttributes = {}) {\n",
              "  const element = document.createElement('span');\n",
              "  element.textContent = text;\n",
              "  for (const key of Object.keys(styleAttributes)) {\n",
              "    element.style[key] = styleAttributes[key];\n",
              "  }\n",
              "  return element;\n",
              "}\n",
              "\n",
              "// Max number of bytes which will be uploaded at a time.\n",
              "const MAX_PAYLOAD_SIZE = 100 * 1024;\n",
              "\n",
              "function _uploadFiles(inputId, outputId) {\n",
              "  const steps = uploadFilesStep(inputId, outputId);\n",
              "  const outputElement = document.getElementById(outputId);\n",
              "  // Cache steps on the outputElement to make it available for the next call\n",
              "  // to uploadFilesContinue from Python.\n",
              "  outputElement.steps = steps;\n",
              "\n",
              "  return _uploadFilesContinue(outputId);\n",
              "}\n",
              "\n",
              "// This is roughly an async generator (not supported in the browser yet),\n",
              "// where there are multiple asynchronous steps and the Python side is going\n",
              "// to poll for completion of each step.\n",
              "// This uses a Promise to block the python side on completion of each step,\n",
              "// then passes the result of the previous step as the input to the next step.\n",
              "function _uploadFilesContinue(outputId) {\n",
              "  const outputElement = document.getElementById(outputId);\n",
              "  const steps = outputElement.steps;\n",
              "\n",
              "  const next = steps.next(outputElement.lastPromiseValue);\n",
              "  return Promise.resolve(next.value.promise).then((value) => {\n",
              "    // Cache the last promise value to make it available to the next\n",
              "    // step of the generator.\n",
              "    outputElement.lastPromiseValue = value;\n",
              "    return next.value.response;\n",
              "  });\n",
              "}\n",
              "\n",
              "/**\n",
              " * Generator function which is called between each async step of the upload\n",
              " * process.\n",
              " * @param {string} inputId Element ID of the input file picker element.\n",
              " * @param {string} outputId Element ID of the output display.\n",
              " * @return {!Iterable<!Object>} Iterable of next steps.\n",
              " */\n",
              "function* uploadFilesStep(inputId, outputId) {\n",
              "  const inputElement = document.getElementById(inputId);\n",
              "  inputElement.disabled = false;\n",
              "\n",
              "  const outputElement = document.getElementById(outputId);\n",
              "  outputElement.innerHTML = '';\n",
              "\n",
              "  const pickedPromise = new Promise((resolve) => {\n",
              "    inputElement.addEventListener('change', (e) => {\n",
              "      resolve(e.target.files);\n",
              "    });\n",
              "  });\n",
              "\n",
              "  const cancel = document.createElement('button');\n",
              "  inputElement.parentElement.appendChild(cancel);\n",
              "  cancel.textContent = 'Cancel upload';\n",
              "  const cancelPromise = new Promise((resolve) => {\n",
              "    cancel.onclick = () => {\n",
              "      resolve(null);\n",
              "    };\n",
              "  });\n",
              "\n",
              "  // Wait for the user to pick the files.\n",
              "  const files = yield {\n",
              "    promise: Promise.race([pickedPromise, cancelPromise]),\n",
              "    response: {\n",
              "      action: 'starting',\n",
              "    }\n",
              "  };\n",
              "\n",
              "  cancel.remove();\n",
              "\n",
              "  // Disable the input element since further picks are not allowed.\n",
              "  inputElement.disabled = true;\n",
              "\n",
              "  if (!files) {\n",
              "    return {\n",
              "      response: {\n",
              "        action: 'complete',\n",
              "      }\n",
              "    };\n",
              "  }\n",
              "\n",
              "  for (const file of files) {\n",
              "    const li = document.createElement('li');\n",
              "    li.append(span(file.name, {fontWeight: 'bold'}));\n",
              "    li.append(span(\n",
              "        `(${file.type || 'n/a'}) - ${file.size} bytes, ` +\n",
              "        `last modified: ${\n",
              "            file.lastModifiedDate ? file.lastModifiedDate.toLocaleDateString() :\n",
              "                                    'n/a'} - `));\n",
              "    const percent = span('0% done');\n",
              "    li.appendChild(percent);\n",
              "\n",
              "    outputElement.appendChild(li);\n",
              "\n",
              "    const fileDataPromise = new Promise((resolve) => {\n",
              "      const reader = new FileReader();\n",
              "      reader.onload = (e) => {\n",
              "        resolve(e.target.result);\n",
              "      };\n",
              "      reader.readAsArrayBuffer(file);\n",
              "    });\n",
              "    // Wait for the data to be ready.\n",
              "    let fileData = yield {\n",
              "      promise: fileDataPromise,\n",
              "      response: {\n",
              "        action: 'continue',\n",
              "      }\n",
              "    };\n",
              "\n",
              "    // Use a chunked sending to avoid message size limits. See b/62115660.\n",
              "    let position = 0;\n",
              "    do {\n",
              "      const length = Math.min(fileData.byteLength - position, MAX_PAYLOAD_SIZE);\n",
              "      const chunk = new Uint8Array(fileData, position, length);\n",
              "      position += length;\n",
              "\n",
              "      const base64 = btoa(String.fromCharCode.apply(null, chunk));\n",
              "      yield {\n",
              "        response: {\n",
              "          action: 'append',\n",
              "          file: file.name,\n",
              "          data: base64,\n",
              "        },\n",
              "      };\n",
              "\n",
              "      let percentDone = fileData.byteLength === 0 ?\n",
              "          100 :\n",
              "          Math.round((position / fileData.byteLength) * 100);\n",
              "      percent.textContent = `${percentDone}% done`;\n",
              "\n",
              "    } while (position < fileData.byteLength);\n",
              "  }\n",
              "\n",
              "  // All done.\n",
              "  yield {\n",
              "    response: {\n",
              "      action: 'complete',\n",
              "    }\n",
              "  };\n",
              "}\n",
              "\n",
              "scope.google = scope.google || {};\n",
              "scope.google.colab = scope.google.colab || {};\n",
              "scope.google.colab._files = {\n",
              "  _uploadFiles,\n",
              "  _uploadFilesContinue,\n",
              "};\n",
              "})(self);\n",
              "</script> "
            ]
          },
          "metadata": {}
        },
        {
          "output_type": "stream",
          "name": "stdout",
          "text": [
            "Saving data.zip to data.zip\n"
          ]
        }
      ],
      "source": [
        "from google.colab import files\n",
        "uploads = files.upload()"
      ]
    },
    {
      "cell_type": "markdown",
      "source": [
        "# P12 Preprocessing"
      ],
      "metadata": {
        "id": "6pupWJEAlw_1"
      }
    },
    {
      "cell_type": "code",
      "execution_count": 3,
      "metadata": {
        "id": "jqO0Zm8sncLW"
      },
      "outputs": [],
      "source": [
        "import zipfile\n",
        "import os\n",
        "\n",
        "zip_file_name = \"/content/data.zip\"\n",
        "with zipfile.ZipFile(zip_file_name, 'r') as zip_ref:\n",
        "    zip_ref.extractall()"
      ]
    },
    {
      "cell_type": "code",
      "execution_count": 4,
      "metadata": {
        "id": "19zDgR7QBrDA"
      },
      "outputs": [],
      "source": [
        "dataset_folders = ['set-a', 'set-b', 'set-c']\n",
        "data_folder_path = '/content/data'\n",
        "\n",
        "dfs = []\n",
        "parameters = set()\n",
        "dfs_with_filenames = []\n",
        "\n",
        "for dataset_folder in dataset_folders:\n",
        "  features_folder_path = os.path.join(data_folder_path, dataset_folder)\n",
        "  if not os.path.exists(features_folder_path):\n",
        "    continue  # Skip if folder does not exist\n",
        "  sorted_file_names = sorted(os.listdir(features_folder_path))\n",
        "  for file_name in sorted_file_names:\n",
        "    file_path = os.path.join(features_folder_path, file_name)\n",
        "    if file_name.endswith('.txt'):\n",
        "      df = pd.read_csv(file_path)\n",
        "      parameters.update(df['Parameter'].unique())\n",
        "      dfs_with_filenames.append((file_name, df))\n",
        "\n",
        "final_df = pd.DataFrame(dfs_with_filenames, columns=['FileName', 'DataFrame'])\n",
        "unique_parameters = list(parameters)"
      ]
    },
    {
      "cell_type": "code",
      "source": [
        "labels_path_a = 'data/Outcomes-a.txt'\n",
        "labels_path_b = 'data/Outcomes-b.txt'\n",
        "labels_path_c = 'data/Outcomes-c.txt'\n",
        "\n",
        "labels_df_a = pd.read_csv(labels_path_a)\n",
        "labels_df_b = pd.read_csv(labels_path_b)\n",
        "labels_df_c = pd.read_csv(labels_path_c)\n",
        "\n",
        "labels_df = pd.concat([labels_df_a, labels_df_b, labels_df_c], ignore_index=True)\n",
        "labels_df['labels'] = labels_df.apply(lambda row: np.array(row[5:]), axis=1)\n",
        "labels_df['RecordID'] = labels_df['RecordID'].astype(str).map(lambda row: row+\".txt\")\n",
        "merged_df = pd.merge(final_df, labels_df, left_on='FileName', right_on='RecordID', how='inner')\n",
        "\n",
        "print(merged_df.head())  # Display the first few rows of the updated dataframe\n"
      ],
      "metadata": {
        "colab": {
          "base_uri": "https://localhost:8080/"
        },
        "id": "Co3RbhaNqksl",
        "outputId": "c2232877-6b8c-47f6-d77f-95a3885b2507"
      },
      "execution_count": 5,
      "outputs": [
        {
          "output_type": "stream",
          "name": "stdout",
          "text": [
            "     FileName                                          DataFrame    RecordID  \\\n",
            "0  132539.txt        Time Parameter      Value\n",
            "0    00:00  Re...  132539.txt   \n",
            "1  132540.txt        Time Parameter      Value\n",
            "0    00:00  Re...  132540.txt   \n",
            "2  132541.txt        Time Parameter     Value\n",
            "0    00:00  Rec...  132541.txt   \n",
            "3  132543.txt        Time  Parameter      Value\n",
            "0    00:00   ...  132543.txt   \n",
            "4  132545.txt        Time  Parameter     Value\n",
            "0    00:00   R...  132545.txt   \n",
            "\n",
            "   SAPS-I  SOFA  Length_of_stay  Survival  In-hospital_death labels  \n",
            "0       6     1               5        -1                  0    [0]  \n",
            "1      16     8               8        -1                  0    [0]  \n",
            "2      21    11              19        -1                  0    [0]  \n",
            "3       7     1               9       575                  0    [0]  \n",
            "4      17     2               4       918                  0    [0]  \n"
          ]
        }
      ]
    },
    {
      "cell_type": "code",
      "source": [
        "from copy import deepcopy\n",
        "\n",
        "new_df = deepcopy(merged_df)\n",
        "\n",
        "df1 = new_df[new_df['labels']==0]\n",
        "df2 = new_df[new_df['labels']==1]\n",
        "\n",
        "concat_df = pd.concat([df2], ignore_index=True)\n",
        "concat_df = pd.concat([df1, concat_df]).sample(frac=1)\n"
      ],
      "metadata": {
        "id": "E4lmdGAwqqWZ"
      },
      "execution_count": 7,
      "outputs": []
    },
    {
      "cell_type": "code",
      "source": [
        "dfs = concat_df['DataFrame'].tolist()  #merged_df['DataFrame'].tolist()"
      ],
      "metadata": {
        "id": "pvGeGvq-qutF"
      },
      "execution_count": 8,
      "outputs": []
    },
    {
      "cell_type": "code",
      "execution_count": 9,
      "metadata": {
        "colab": {
          "base_uri": "https://localhost:8080/"
        },
        "id": "6J5vnXKU_I37",
        "outputId": "8ac89875-221d-4506-8aa9-9c4f1da01b6e"
      },
      "outputs": [
        {
          "output_type": "stream",
          "name": "stdout",
          "text": [
            "11997\n"
          ]
        }
      ],
      "source": [
        "print(len(dfs))"
      ]
    },
    {
      "cell_type": "code",
      "execution_count": 10,
      "metadata": {
        "id": "MvGBJyGJIIe_"
      },
      "outputs": [],
      "source": [
        "i = 0\n",
        "parameter_to_idx = {}\n",
        "for parameter in unique_parameters:\n",
        "  parameter_to_idx[parameter] = i\n",
        "  i = i+1"
      ]
    },
    {
      "cell_type": "code",
      "execution_count": 11,
      "metadata": {
        "id": "7yZazCNm6ToV"
      },
      "outputs": [],
      "source": [
        "def time_to_hours(time_str):\n",
        "  hours, minutes = map(int, time_str.split(':'))\n",
        "  total_hours = hours + minutes / 60.0\n",
        "  return total_hours"
      ]
    },
    {
      "cell_type": "code",
      "execution_count": 12,
      "metadata": {
        "colab": {
          "base_uri": "https://localhost:8080/"
        },
        "id": "-wFmJ6-ntok0",
        "outputId": "72e404db-e950-40ca-f046-c432f6d7fbb7"
      },
      "outputs": [
        {
          "output_type": "stream",
          "name": "stdout",
          "text": [
            "Max Time Groups: 216\n"
          ]
        }
      ],
      "source": [
        "import numpy as np\n",
        "\n",
        "# Initialize lists to store processed datasets and basic data\n",
        "updated_dfs = []\n",
        "basic_data = []\n",
        "\n",
        "# Get the number of unique parameters\n",
        "parameters_size = len(unique_parameters)\n",
        "\n",
        "# Define the desired number of time intervals per dataset\n",
        "times_threshold = 49\n",
        "\n",
        "# Variable to track the maximum number of time groups across all dataframes\n",
        "max_times = 0\n",
        "\n",
        "# Loop through each dataframe in the list\n",
        "for df in dfs:\n",
        "    value_array = []\n",
        "    delta_array = []\n",
        "    mask_array = []\n",
        "    dataset = []\n",
        "\n",
        "    # Group the dataframe by 'Time' to process data for each time interval\n",
        "    time_groups = df.groupby('Time')\n",
        "    n_times = time_groups.ngroups\n",
        "\n",
        "    # Update the maximum number of time groups encountered\n",
        "    if max_times < n_times:\n",
        "        max_times = n_times\n",
        "\n",
        "    # Initialize an array to store the last available times for each parameter\n",
        "    last_available_times = np.array([\"00:00\"] * parameters_size)\n",
        "    count = 0\n",
        "\n",
        "    # Iterate over each time group (up to times_threshold or all available times)\n",
        "    for time, group in time_groups:\n",
        "        values = np.zeros(parameters_size)\n",
        "        deltas = np.zeros(parameters_size)\n",
        "        mask = np.zeros(parameters_size)\n",
        "\n",
        "        # Iterate over rows within the time group to extract parameter values\n",
        "        for index, row in group.iterrows():\n",
        "            parameter_idx = parameter_to_idx[row['Parameter']]\n",
        "            values[parameter_idx] = row['Value']\n",
        "            mask[parameter_idx] = 1\n",
        "\n",
        "        # Compute deltas (time differences) for each parameter relative to last available times\n",
        "        for i in range(parameters_size):\n",
        "            deltas[i] = time_to_hours(time) - time_to_hours(last_available_times[i])\n",
        "            if mask[i] == 1:\n",
        "                last_available_times[i] = time\n",
        "\n",
        "        # Append values, deltas, and mask arrays to respective lists\n",
        "        value_array.append(values)\n",
        "        delta_array.append(deltas)\n",
        "        mask_array.append(mask)\n",
        "        count += 1\n",
        "\n",
        "        # Break the loop if we reach the desired times_threshold\n",
        "        if count == times_threshold:\n",
        "            break\n",
        "\n",
        "    # Pad the arrays with zeros to ensure consistent length (times_threshold)\n",
        "    while count < times_threshold:\n",
        "        value_array.append(np.zeros(parameters_size))\n",
        "        delta_array.append(np.zeros(parameters_size))\n",
        "        mask_array.append(np.zeros(parameters_size))\n",
        "        count += 1\n",
        "\n",
        "    # Convert lists to numpy arrays and transpose to get desired format\n",
        "    value_array = np.array(value_array).T\n",
        "    delta_array = np.array(delta_array).T\n",
        "    mask_array = np.array(mask_array).T\n",
        "\n",
        "    # Append processed dataset to updated_dfs and basic_data lists\n",
        "    dataset.append(value_array)\n",
        "    dataset.append(mask_array)\n",
        "    dataset.append(delta_array)\n",
        "    updated_dfs.append(dataset)\n",
        "    basic_data.append(value_array)\n",
        "\n",
        "# Print the maximum number of time groups encountered\n",
        "print(\"Max Time Groups:\", max_times)\n"
      ]
    },
    {
      "cell_type": "code",
      "execution_count": 13,
      "metadata": {
        "colab": {
          "base_uri": "https://localhost:8080/"
        },
        "id": "JUdJ2En4CLh_",
        "outputId": "9394efec-17ae-475f-de2e-94f398e24b8c"
      },
      "outputs": [
        {
          "output_type": "stream",
          "name": "stdout",
          "text": [
            "11997\n"
          ]
        }
      ],
      "source": [
        "print(len(basic_data))"
      ]
    },
    {
      "cell_type": "code",
      "execution_count": 14,
      "metadata": {
        "colab": {
          "base_uri": "https://localhost:8080/"
        },
        "id": "76buAQQTMzOE",
        "outputId": "6033712b-9118-4afe-e9c7-97ca20128271"
      },
      "outputs": [
        {
          "output_type": "stream",
          "name": "stdout",
          "text": [
            "43\n"
          ]
        }
      ],
      "source": [
        "print(len(basic_data[1]))"
      ]
    },
    {
      "cell_type": "markdown",
      "source": [
        "# Mean Imputation"
      ],
      "metadata": {
        "id": "bVdu7hc0mEPf"
      }
    },
    {
      "cell_type": "code",
      "execution_count": 15,
      "metadata": {
        "id": "3u0lH-qdl1P8"
      },
      "outputs": [],
      "source": [
        "def get_mean(parameter_values):\n",
        "  return np.mean(parameter_values)"
      ]
    },
    {
      "cell_type": "code",
      "execution_count": 16,
      "metadata": {
        "id": "GhzLe06YgLIz"
      },
      "outputs": [],
      "source": [
        "import numpy as np\n",
        "import copy\n",
        "\n",
        "# Function to compute mean excluding zeros (assuming zeros are missing data)\n",
        "def get_mean(parameter_data):\n",
        "    valid_data = parameter_data[parameter_data != 0]\n",
        "    if valid_data.size == 0:\n",
        "        return 0  # Return 0 if all values are zero or empty to prevent division by zero in mean calculation\n",
        "    return np.mean(valid_data)\n",
        "\n",
        "# Assuming basic_data is already defined and filled\n",
        "mean_dataset = copy.deepcopy(basic_data)\n",
        "\n",
        "# Fill missing values with the mean of each parameter and normalize\n",
        "for data in mean_dataset:\n",
        "    for parameter_idx in range(parameters_size):\n",
        "        parameter_data = np.array(data[parameter_idx])\n",
        "        mean_value = get_mean(parameter_data)\n",
        "        missing_indices = np.where(parameter_data == 0)\n",
        "        parameter_data[missing_indices] = mean_value\n",
        "        data[parameter_idx] = parameter_data\n",
        "\n",
        "        # Normalize the data\n",
        "        mean_of_data = np.mean(parameter_data)  # Calculate mean\n",
        "        std_of_data = np.std(parameter_data)  # Calculate standard deviation\n",
        "        if std_of_data > 0:\n",
        "            # Avoid division by zero if standard deviation is zero\n",
        "            data[parameter_idx] = (parameter_data - mean_of_data) / std_of_data\n",
        "        else:\n",
        "            # If standard deviation is zero, set data to 0 as all values are the same\n",
        "            data[parameter_idx] = np.zeros_like(parameter_data)"
      ]
    },
    {
      "cell_type": "code",
      "execution_count": null,
      "metadata": {
        "id": "XDwQfr7Wk8X7"
      },
      "outputs": [],
      "source": [
        "dataset_df = pd.DataFrame({'features': mean_dataset})\n",
        "dataset_df['labels'] = labels_df['labels'].reset_index(drop=True)"
      ]
    },
    {
      "cell_type": "code",
      "execution_count": null,
      "metadata": {
        "colab": {
          "base_uri": "https://localhost:8080/"
        },
        "id": "YvzrUYg3mBAb",
        "outputId": "2558e2f6-43c4-4f85-9baa-4b2485b22b1f"
      },
      "outputs": [
        {
          "name": "stdout",
          "output_type": "stream",
          "text": [
            "labels\n",
            "[0]    27444\n",
            "[1]    22780\n",
            "Name: count, dtype: int64\n"
          ]
        }
      ],
      "source": [
        "minority_rows = dataset_df[dataset_df['labels'] == 1]\n",
        "replication_factor = 4\n",
        "replicated_minority_rows = pd.concat([minority_rows] * replication_factor, ignore_index=True)\n",
        "balanced_dataset_df = pd.concat([dataset_df, replicated_minority_rows], ignore_index=True)\n",
        "balanced_dataset_df = balanced_dataset_df.sample(frac=1).reset_index(drop=True)\n",
        "\n",
        "final_dataset_df = pd.concat([balanced_dataset_df] * replication_factor, ignore_index=True)\n",
        "# Print out the new class distribution\n",
        "print(final_dataset_df['labels'].value_counts())"
      ]
    },
    {
      "cell_type": "code",
      "execution_count": null,
      "metadata": {
        "colab": {
          "base_uri": "https://localhost:8080/"
        },
        "id": "PcIWJJyoL5Kw",
        "outputId": "7eaf7df1-5f0f-4695-f68e-5c5e2cc9870c"
      },
      "outputs": [
        {
          "name": "stdout",
          "output_type": "stream",
          "text": [
            "43\n"
          ]
        }
      ],
      "source": [
        "print(len(mean_dataset[0]))"
      ]
    },
    {
      "cell_type": "markdown",
      "source": [
        "# Forward Imputation"
      ],
      "metadata": {
        "id": "l11QTPa0mOlM"
      }
    },
    {
      "cell_type": "code",
      "execution_count": 17,
      "metadata": {
        "id": "VkELr8NRnCJw"
      },
      "outputs": [],
      "source": [
        "forward_dataset = copy.deepcopy(basic_data)\n",
        "for data in forward_dataset:\n",
        "  for parameter_idx in range(parameters_size):\n",
        "    n_times = len(data[parameter_idx])\n",
        "    last_value = 0\n",
        "    for n_time in range(n_times):\n",
        "      if (n_time==0 and data[parameter_idx][0] == 0):\n",
        "        continue\n",
        "      if (data[parameter_idx][n_time]!=0):\n",
        "        last_value = data[parameter_idx][n_time]\n",
        "      elif(data[parameter_idx][n_time] == 0):\n",
        "        data[parameter_idx][n_time] = last_value"
      ]
    },
    {
      "cell_type": "code",
      "execution_count": null,
      "metadata": {
        "colab": {
          "base_uri": "https://localhost:8080/"
        },
        "id": "fR5ygRT8NMx0",
        "outputId": "766071f9-2a6b-41ba-f123-0590248c5913"
      },
      "outputs": [
        {
          "name": "stdout",
          "output_type": "stream",
          "text": [
            "49\n"
          ]
        }
      ],
      "source": [
        "print(len(forward_dataset[0][0]))"
      ]
    },
    {
      "cell_type": "markdown",
      "source": [
        "# MICE Imputation"
      ],
      "metadata": {
        "id": "tlkHzSRXm-ak"
      }
    },
    {
      "cell_type": "code",
      "execution_count": 18,
      "metadata": {
        "id": "Gvac9fcS_biM"
      },
      "outputs": [],
      "source": [
        "# import copy\n",
        "# import numpy as np\n",
        "# from sklearn.experimental import enable_iterative_imputer  # Explicitly enable IterativeImputer\n",
        "# from sklearn.impute import IterativeImputer, SimpleImputer, KNNImputer\n",
        "\n",
        "# mice_dataset = copy.deepcopy(basic_data)\n",
        "# mice_dataset_np = np.array(mice_dataset)\n",
        "# mice_dataset_np_nan = np.where(mice_dataset_np == 0, np.nan, mice_dataset_np)\n",
        "# imputer = IterativeImputer(n_nearest_features=10, skip_complete=True, min_value=0)\n",
        "# imputed_dataset_np = imputer.fit_transform(mice_dataset_np_nan)\n",
        "# imputed_dataset = imputed_dataset_np.tolist()\n",
        "\n",
        "# for i, data in enumerate(mice_dataset):\n",
        "#     for j in range(parameters_size):\n",
        "#         data[j] = imputed_dataset[i][j]\n",
        "\n",
        "import copy\n",
        "import numpy as np\n",
        "from sklearn.experimental import enable_iterative_imputer\n",
        "from sklearn.impute import IterativeImputer\n",
        "\n",
        "mice_dataset = copy.deepcopy(basic_data)\n",
        "mice_dataset_np = np.array(mice_dataset)\n",
        "mice_dataset_np_nan = np.where(mice_dataset_np == 0, np.nan, mice_dataset_np)\n",
        "flattened_data = mice_dataset_np_nan.flatten()\n",
        "imputer = IterativeImputer(n_nearest_features=10, skip_complete=True, min_value=0)\n",
        "imputed_data = imputer.fit_transform(flattened_data.reshape(-1, 1))\n",
        "imputed_dataset_np = imputed_data.reshape(mice_dataset_np_nan.shape)\n",
        "imputed_dataset = imputed_dataset_np.tolist()\n",
        "\n",
        "for i, data in enumerate(mice_dataset):\n",
        "    for j in range(parameters_size):\n",
        "        data[j] = imputed_dataset[i][j]\n"
      ]
    },
    {
      "cell_type": "code",
      "execution_count": 19,
      "metadata": {
        "colab": {
          "base_uri": "https://localhost:8080/"
        },
        "id": "dhBMomFYFMlu",
        "outputId": "4ca88532-816f-4469-dad7-9d400a9634f1"
      },
      "outputs": [
        {
          "output_type": "stream",
          "name": "stdout",
          "text": [
            "11997\n"
          ]
        }
      ],
      "source": [
        "print(len(mice_dataset))"
      ]
    },
    {
      "cell_type": "markdown",
      "source": [
        "# Data split and loaders"
      ],
      "metadata": {
        "id": "ABU7Q9jMnKmk"
      }
    },
    {
      "cell_type": "code",
      "execution_count": 20,
      "metadata": {
        "id": "o8bHIg1WV-PT"
      },
      "outputs": [],
      "source": [
        "import numpy as np\n",
        "\n",
        "def custom_train_test_split(features, labels, test_size, validation_size=0.2, random_state=None):\n",
        "  if random_state is not None:\n",
        "    np.random.seed(random_state)\n",
        "\n",
        "  # Shuffle indices\n",
        "  indices = np.arange(len(features))\n",
        "  np.random.shuffle(indices)\n",
        "\n",
        "  # Calculate the number of test and validation samples\n",
        "  n_test = int(len(features) * test_size)\n",
        "  n_validation = int(len(features) * validation_size)\n",
        "\n",
        "  # Split indices into test, validation, and train sets\n",
        "  test_indices = indices[:n_test]\n",
        "  validation_indices = indices[n_test:n_test + n_validation]\n",
        "  train_indices = indices[n_test + n_validation:]\n",
        "\n",
        "  # Split data based on indices\n",
        "  test_data = [features[i] for i in test_indices]\n",
        "  validation_data = [features[i] for i in validation_indices]\n",
        "  train_data = [features[i] for i in train_indices]\n",
        "\n",
        "  # Split labels based on indices\n",
        "  test_labels = [labels['labels'].iloc[i] for i in test_indices]\n",
        "  validation_labels = [labels['labels'].iloc[i] for i in validation_indices]\n",
        "  train_labels = [labels['labels'].iloc[i] for i in train_indices]\n",
        "\n",
        "  return train_data, train_labels, validation_data, validation_labels, test_data, test_labels"
      ]
    },
    {
      "cell_type": "code",
      "execution_count": 21,
      "metadata": {
        "id": "VmaTr4ictDDC"
      },
      "outputs": [],
      "source": [
        "from torch.utils.data import Dataset\n",
        "import torch\n",
        "\n",
        "class CustomDataset(Dataset):\n",
        "  def __init__(self, features, labels) -> None:\n",
        "    self.features = features\n",
        "    self.labels = labels\n",
        "\n",
        "  def __len__(self):\n",
        "    return len(self.features)\n",
        "\n",
        "  def __getitem__(self, index):\n",
        "    sample = self.features[index]\n",
        "    label = self.labels[index]\n",
        "    sample = torch.tensor(sample, dtype=torch.float32)\n",
        "    label = torch.tensor(label, dtype = torch.float32)\n",
        "    return sample, label"
      ]
    },
    {
      "cell_type": "code",
      "execution_count": 22,
      "metadata": {
        "id": "pqKbZaVji_cX"
      },
      "outputs": [],
      "source": [
        "from torch.utils.data import Dataset, DataLoader, TensorDataset\n",
        "\n",
        "def get_data_loader(dataset, labels_df):\n",
        "  train_features, train_labels, validation_features, validation_labels, test_features, test_labels = custom_train_test_split(dataset, labels_df, test_size=0.2, validation_size = 0.15)\n",
        "\n",
        "  train_dataset = CustomDataset(train_features, train_labels)\n",
        "  validation_dataset = CustomDataset(validation_features, validation_labels)\n",
        "  test_dataset = CustomDataset(test_features, test_labels)\n",
        "\n",
        "  train_loader = DataLoader(train_dataset, batch_size = 16, shuffle = True)\n",
        "  validation_loader = DataLoader(validation_dataset, batch_size=16, shuffle = True)\n",
        "  test_loader = DataLoader(test_dataset, batch_size = 16, shuffle = True)\n",
        "\n",
        "  return train_loader, validation_loader, test_loader"
      ]
    },
    {
      "cell_type": "markdown",
      "source": [
        "# GRUD Model"
      ],
      "metadata": {
        "id": "WmDa0Vw4npLF"
      }
    },
    {
      "cell_type": "code",
      "execution_count": 31,
      "metadata": {
        "id": "gtqBJAQjtS9F"
      },
      "outputs": [],
      "source": [
        "import torch.nn as nn\n",
        "import math\n",
        "\n",
        "class GRUD(nn.Module):\n",
        "  def __init__(self, input_size, hidden_size, output_size, num_layers, x_mean, bias, batch_first=True, bidirectional=False,  dropout_type=None, dropout=0, static=False):\n",
        "    super(GRUD, self).__init__()\n",
        "    self.input_size = input_size\n",
        "    self.hidden_size = hidden_size\n",
        "    self.output_size = output_size\n",
        "    self.num_layers = num_layers\n",
        "    self.n_times = times_threshold\n",
        "    self.bias = bias\n",
        "    self.bidirectional = bidirectional\n",
        "    self.dropout_type = dropout_type\n",
        "    self.dropout= dropout\n",
        "    self._all_weights = []\n",
        "    self.zeros = torch.autograd.Variable(torch.zeros(input_size))\n",
        "    self.x_mean = x_mean\n",
        "\n",
        "    # decay rates gamma\n",
        "    w_dg_x = torch.nn.Parameter(torch.Tensor(input_size))\n",
        "    w_dg_h = torch.nn.Parameter(torch.Tensor(hidden_size))\n",
        "    # z\n",
        "    w_xz = torch.nn.Parameter(torch.Tensor(input_size))\n",
        "    w_hz = torch.nn.Parameter(torch.Tensor(hidden_size))\n",
        "    w_mz = torch.nn.Parameter(torch.Tensor(input_size))\n",
        "    # r\n",
        "    w_xr = torch.nn.Parameter(torch.Tensor(input_size))\n",
        "    w_hr = torch.nn.Parameter(torch.Tensor(hidden_size))\n",
        "    w_mr = torch.nn.Parameter(torch.Tensor(input_size))\n",
        "    # h_tilde\n",
        "    w_xh = torch.nn.Parameter(torch.Tensor(input_size))\n",
        "    w_hh = torch.nn.Parameter(torch.Tensor(hidden_size))\n",
        "    w_mh = torch.nn.Parameter(torch.Tensor(input_size))\n",
        "    # y (output)\n",
        "    w_hy = torch.nn.Parameter(torch.Tensor(output_size, hidden_size))\n",
        "    # bias\n",
        "    b_dg_x = torch.nn.Parameter(torch.Tensor(hidden_size))\n",
        "    b_dg_h = torch.nn.Parameter(torch.Tensor(hidden_size))\n",
        "    b_z = torch.nn.Parameter(torch.Tensor(hidden_size))\n",
        "    b_r = torch.nn.Parameter(torch.Tensor(hidden_size))\n",
        "    b_h = torch.nn.Parameter(torch.Tensor(hidden_size))\n",
        "    b_y = torch.nn.Parameter(torch.Tensor(output_size))\n",
        "    # layer params\n",
        "    layer_params = (w_dg_x, w_dg_h,\n",
        "                    w_xz, w_hz, w_mz,\n",
        "                    w_xr, w_hr, w_mr,\n",
        "                    w_xh, w_hh, w_mh,\n",
        "                    w_hy,\n",
        "                    b_dg_x, b_dg_h, b_z, b_r, b_h, b_y)\n",
        "    param_names = ['weight_dg_x', 'weight_dg_h',\n",
        "                    'weight_xz', 'weight_hz', 'weight_mz',\n",
        "                    'weight_xr', 'weight_hr', 'weight_mr',\n",
        "                    'weight_xh', 'weight_hh', 'weight_mh',\n",
        "                    'weight_hy']\n",
        "    if bias:\n",
        "      param_names += ['bias_dg_x', 'bias_dg_h',\n",
        "                      'bias_z',\n",
        "                      'bias_r',\n",
        "                      'bias_h',\n",
        "                      'bias_y']\n",
        "    for name, param in zip(param_names, layer_params):\n",
        "      setattr(self, name, param)\n",
        "    self._all_weights.append(param_names)\n",
        "    self.reset_parameters()\n",
        "    return\n",
        "\n",
        "  def forward(self, input):\n",
        "    # input1 = torch.squeeze(input)\n",
        "    X = input[:, 0, :, :]\n",
        "    Delta = input[:, 1, :, :]\n",
        "    Mask = input[:, 2, :, :]\n",
        "    hidden_states = []\n",
        "    batch_size = 16\n",
        "    n_times = 49\n",
        "    h = torch.zeros(batch_size, self.hidden_size)\n",
        "    # Hidden_State = torch.autograd.Variable(torch.zeros(self.input_size))\n",
        "    # print(input1.size())\n",
        "    output = None\n",
        "    # decay rates gamma\n",
        "    w_dg_x = getattr(self, 'weight_dg_x')\n",
        "    w_dg_h = getattr(self, 'weight_dg_h')\n",
        "\n",
        "    # z\n",
        "    w_xz = getattr(self, 'weight_xz')\n",
        "    w_hz = getattr(self, 'weight_hz')\n",
        "    w_mz = getattr(self, 'weight_mz')\n",
        "\n",
        "    # r\n",
        "    w_xr = getattr(self, 'weight_xr')\n",
        "    w_hr = getattr(self, 'weight_hr')\n",
        "    w_mr = getattr(self, 'weight_mr')\n",
        "\n",
        "    # h_tilde\n",
        "    w_xh = getattr(self, 'weight_xh')\n",
        "    w_hh = getattr(self, 'weight_hh')\n",
        "    w_mh = getattr(self, 'weight_mh')\n",
        "    # bias\n",
        "    b_dg_x = getattr(self, 'bias_dg_x')\n",
        "    b_dg_h = getattr(self, 'bias_dg_h')\n",
        "    b_z = getattr(self, 'bias_z')\n",
        "    b_r = getattr(self, 'bias_r')\n",
        "    b_h = getattr(self, 'bias_h')\n",
        "\n",
        "    for n_time in range(self.n_times):\n",
        "      x = torch.squeeze(X[:, :, n_time:n_time+1])\n",
        "      d = torch.squeeze(Delta[:, :, n_time:n_time+1])\n",
        "      m = torch.squeeze(Mask[:, :, n_time:n_time+1])\n",
        "\n",
        "      # print(d.size())\n",
        "      # print(w_dg_x.size())\n",
        "      # print(b_dg_x.size())\n",
        "      gamma_x = torch.exp(-torch.max(self.zeros, (w_dg_x *d + b_dg_x)))\n",
        "      # print(\"Gamma\")\n",
        "      # print(gamma_x.size())\n",
        "      gamma_h = torch.exp(-torch.max(self.zeros, (w_dg_h * d + b_dg_h)))\n",
        "\n",
        "      x = m * x + (1 - m) * (gamma_x * x + (1 - gamma_x) * self.x_mean)\n",
        "\n",
        "      h = gamma_h * h\n",
        "      z = torch.sigmoid((w_xz * x + w_hz * h + w_mz * m + b_z))\n",
        "      r = torch.sigmoid((w_xr * x + w_hr * h + w_mr * m + b_r))\n",
        "      h_tilde = torch.tanh((w_xh * x + w_hh * (r * h) + w_mh * m + b_h))\n",
        "      h = (1 - z) * h + z * h_tilde\n",
        "      hidden_states.append(h.unsqueeze(1))\n",
        "\n",
        "    w_hy = getattr(self, 'weight_hy')\n",
        "    b_y = getattr(self, 'bias_y')\n",
        "    hidden_states = torch.cat(hidden_states, dim=1)  # shape: [batch_size, seq_length, hidden_size]\n",
        "    # output = torch.matmul(h, w_hy.view(input_size, 1)) + b_y\n",
        "    return hidden_states\n",
        "\n",
        "  def reset_parameters(self):\n",
        "    stdv = 1.0 / math.sqrt(self.hidden_size)\n",
        "    for weight in self.parameters():\n",
        "      torch.nn.init.uniform_(weight, -stdv, stdv)"
      ]
    },
    {
      "cell_type": "code",
      "execution_count": 32,
      "metadata": {
        "id": "0xFcCvyRJ_5T"
      },
      "outputs": [],
      "source": [
        "class MyGRUDModel(nn.Module):\n",
        "  def __init__(self):\n",
        "    super(MyGRUDModel, self).__init__()\n",
        "    self.grud = GRUD(input_size=43, hidden_size=43, output_size=5, num_layers=1, x_mean=torch.rand(43), bias=True)\n",
        "    self.gru = nn.GRU(input_size=43, hidden_size=15, num_layers=2, batch_first=True)\n",
        "    self.fc = nn.Linear(15, 1)\n",
        "    self.relu = nn.ReLU()\n",
        "\n",
        "  def forward(self, x):\n",
        "    hidden_states = self.grud(x)\n",
        "    out, _ = self.gru(hidden_states)\n",
        "    out = out[:, -1, :]\n",
        "    out = self.fc(out)\n",
        "    out = self.relu(out)\n",
        "    return out"
      ]
    },
    {
      "cell_type": "code",
      "execution_count": 28,
      "metadata": {
        "id": "0kFO3sQF5g07"
      },
      "outputs": [],
      "source": [
        "grud_train_loader, grud_val_loader, grud_test_loader = get_data_loader(updated_dfs, merged_df)"
      ]
    },
    {
      "cell_type": "markdown",
      "source": [
        "# Train GRUD"
      ],
      "metadata": {
        "id": "kQqKE2taoFyZ"
      }
    },
    {
      "cell_type": "code",
      "execution_count": 65,
      "metadata": {
        "id": "6dYFDLVOPKxi"
      },
      "outputs": [],
      "source": [
        "import torch\n",
        "import torch.nn as nn\n",
        "import torch.optim as optim\n",
        "\n",
        "input_size = len(unique_parameters)  # Placeholder for actual unique parameters count\n",
        "hidden_size = 43\n",
        "output_size = 1\n",
        "num_layers = times_threshold  # Placeholder for the times_threshold value\n",
        "x_mean = torch.tensor(0.0)  # Placeholder for the actual mean of your data\n",
        "bias = True\n",
        "batch_first = True\n",
        "bidirectional = False\n",
        "dropout_type = \"\"\n",
        "dropout = 0\n",
        "static = True\n",
        "lr = 0.01\n",
        "momentum = 0.9\n",
        "gamma = 0.1\n",
        "\n",
        "# Define the model (assuming the model class is correctly defined as MyGRUDModel)\n",
        "model = MyGRUDModel()\n",
        "optimizer = optim.SGD(model.parameters(), lr=lr, momentum=momentum)\n",
        "scheduler = lr_scheduler.StepLR(optimizer, step_size=1, gamma=gamma)  # Reduce LR by gamma factor every epoch\n",
        "loss_function = nn.BCEWithLogitsLoss()\n",
        "\n",
        "num_epochs = 10\n",
        "\n",
        "def train_model(train_loader, validation_loader):\n",
        "    for n_epoch in range(num_epochs):\n",
        "        total_train_loss = 0.0\n",
        "        total_val_loss = 0.0\n",
        "        model.train()  # Set the model to training mode\n",
        "\n",
        "        # Training phase\n",
        "        for inputs, labels in train_loader:\n",
        "            # print(inputs.size())\n",
        "            optimizer.zero_grad()\n",
        "            outputs = model(inputs).squeeze()\n",
        "            labels = labels.float().view(-1)\n",
        "            loss = loss_function(outputs, labels)\n",
        "            loss.backward()\n",
        "            optimizer.step()\n",
        "            total_train_loss += loss.item() * inputs.size(0)\n",
        "\n",
        "        # Validation phase\n",
        "        model.eval()  # Set the model to evaluation mode\n",
        "        with torch.no_grad():\n",
        "            for inputs, labels in validation_loader:\n",
        "                outputs = model(inputs).squeeze()\n",
        "                labels = labels.float().view(-1)\n",
        "                loss = loss_function(outputs, labels)\n",
        "                total_val_loss += loss.item() * inputs.size(0)\n",
        "\n",
        "        # Calculate average losses\n",
        "        train_loss = total_train_loss / len(train_loader.dataset)\n",
        "        val_loss = total_val_loss / len(validation_loader.dataset)\n",
        "\n",
        "        print(f\"Epoch {n_epoch+1}: Train Loss: {train_loss:.4f}, Validation Loss: {val_loss:.4f}\")\n",
        "\n",
        "# Assuming grud_train_loader and grud_validation_loader are defined\n",
        "train_model(grud_train_loader, grud_val_loader)\n"
      ]
    },
    {
      "cell_type": "markdown",
      "source": [
        "#Test Model"
      ],
      "metadata": {
        "id": "5K20XdNXolqI"
      }
    },
    {
      "cell_type": "code",
      "execution_count": null,
      "metadata": {
        "colab": {
          "base_uri": "https://localhost:8080/"
        },
        "id": "WwLa15wIOjQd",
        "outputId": "949632c5-9ceb-4a46-a8e5-1dda632b6067"
      },
      "outputs": [
        {
          "name": "stdout",
          "output_type": "stream",
          "text": [
            "Test Accuracy: 0.8588\n",
            "AUROC Score: 0.5000\n"
          ]
        }
      ],
      "source": [
        "import matplotlib.pyplot as plt\n",
        "from sklearn.metrics import roc_curve, auc, roc_auc_score, classification_report\n",
        "import torch\n",
        "\n",
        "def gru_test_model(model, test_loader):\n",
        "    model.eval()  # Set the model to evaluation mode\n",
        "    correct_predictions = 0\n",
        "    total_samples = 0\n",
        "    all_labels = []\n",
        "    all_probabilities = []  # Store probabilities for AUROC plotting\n",
        "\n",
        "    with torch.no_grad():  # Disable gradient computation during inference\n",
        "        for inputs, labels in test_loader:\n",
        "            outputs = model(inputs).squeeze()  # Ensure output is a 1D tensor\n",
        "            labels = labels.float().view(-1)\n",
        "            probabilities = torch.sigmoid(outputs)\n",
        "            predictions = (probabilities < 0.5).float()  # Convert logits to binary predictions (0 or 1)\n",
        "            correct_predictions += (predictions == labels).sum().item()\n",
        "            total_samples += labels.size(0)  # Increment total samples processed\n",
        "            all_labels.extend(labels.tolist())\n",
        "            all_probabilities.extend(probabilities.tolist())  # Use probabilities for ROC calculation\n",
        "\n",
        "    accuracy = correct_predictions / total_samples\n",
        "    auroc_score = roc_auc_score(all_labels, all_probabilities)  # Notice change here for probabilities\n",
        "    print(f\"Test Accuracy: {accuracy:.4f}\")\n",
        "    print(f\"AUROC Score: {auroc_score:.4f}\")\n",
        "\n",
        "    # Generate classification report\n",
        "    binary_predictions = [1 if prob < 0.5 else 0 for prob in all_probabilities]\n",
        "    report = classification_report(all_labels, binary_predictions, target_names=['Class 0', 'Class 1'])\n",
        "    print(\"Classification Report:\\n\", report)\n",
        "\n",
        "    # Compute ROC curve and ROC area for plotting\n",
        "    fpr, tpr, _ = roc_curve(all_labels, all_probabilities)\n",
        "    roc_auc = auc(fpr, tpr)\n",
        "\n",
        "    # Plot ROC curve\n",
        "    plt.figure()\n",
        "    plt.plot(fpr, tpr, color='darkorange', lw=2, label='ROC curve (area = %0.2f)' % roc_auc)\n",
        "    plt.plot([0, 1], [0, 1], color='navy', lw=2, linestyle='--')\n",
        "    plt.xlim([0.0, 1.0])\n",
        "    plt.ylim([0.0, 1.05])\n",
        "    plt.xlabel('False Positive Rate')\n",
        "    plt.ylabel('True Positive Rate')\n",
        "    plt.title('Receiver Operating Characteristic')\n",
        "    plt.legend(loc=\"lower right\")\n",
        "    plt.show()\n",
        "\n",
        "gru_test_model(model, grud_test_loader)"
      ]
    },
    {
      "cell_type": "markdown",
      "source": [
        "# Mean loader"
      ],
      "metadata": {
        "id": "fYg8XNWFpP_W"
      }
    },
    {
      "cell_type": "code",
      "execution_count": 35,
      "metadata": {
        "id": "KmhgMFZxZAlH"
      },
      "outputs": [],
      "source": [
        "train_loader, val_loader, test_loader = get_data_loader(mean_dataset, merged_df)    #final_dataset_df['features'], final_dataset_df)"
      ]
    },
    {
      "cell_type": "markdown",
      "source": [
        "#GRU Model"
      ],
      "metadata": {
        "id": "AZLinGr9pWTc"
      }
    },
    {
      "cell_type": "code",
      "execution_count": 53,
      "metadata": {
        "id": "9Xl-KU6lgntM"
      },
      "outputs": [],
      "source": [
        "import torch\n",
        "import torch.nn as nn\n",
        "\n",
        "class MyGRU(nn.Module):\n",
        "  def __init__(self, input_size, hidden_size, output_size, num_layers):\n",
        "    super(MyGRU, self).__init__()\n",
        "    self.hidden_size = hidden_size\n",
        "    self.num_layers = num_layers\n",
        "    self.gru = nn.GRU(input_size, hidden_size, num_layers=num_layers, batch_first=True)\n",
        "    self.fc1 = nn.Linear(hidden_size, 50)\n",
        "    self.dropout = nn.Dropout(0.2)\n",
        "    self.fc2 = nn.Linear(50, 25)\n",
        "    self.fc3 = nn.Linear(25, 1)\n",
        "    self.relu = nn.ReLU()\n",
        "\n",
        "  def forward(self, x):\n",
        "    h0 = torch.randn(self.num_layers, x.size(0), self.hidden_size) * 0.01\n",
        "    out, _ = self.gru(x, h0)\n",
        "    out = out[:, -1, :]\n",
        "    out = self.fc1(out)\n",
        "    out = self.relu(out)\n",
        "    out = self.fc2(out)\n",
        "    out = self.relu(out)\n",
        "    out = self.fc3(out)\n",
        "    out = self.relu(out)\n",
        "    # out = torch.sigmoid(out)\n",
        "    return out"
      ]
    },
    {
      "cell_type": "markdown",
      "source": [
        "#Train"
      ],
      "metadata": {
        "id": "eX_5nWlnpbJ7"
      }
    },
    {
      "cell_type": "code",
      "execution_count": 54,
      "metadata": {
        "id": "92uQLDL5kXL4"
      },
      "outputs": [],
      "source": [
        "import torch\n",
        "import torch.nn as nn\n",
        "import torch.optim as optim\n",
        "from torch.optim import lr_scheduler\n",
        "lr = 0.01\n",
        "momentum = 0.9\n",
        "gamma = 0.1  # Factor by which to reduce the learning rate (e.g., multiply by 0.1)\n",
        "num_layers = 4\n",
        "input_size = 43\n",
        "output_size = 1\n",
        "hidden_dim = 30\n",
        "\n",
        "model = MyGRU(input_size, hidden_dim, output_size, num_layers)\n",
        "optimizer = optim.SGD(model.parameters(), lr=lr, momentum=momentum)\n",
        "# optimizer = optim.Adam(model.parameters(), lr=0.05, betas=(0.9, 0.999), eps=1e-08, weight_decay=0, amsgrad=False)\n",
        "# scheduler = lr_scheduler.StepLR(optimizer, step_size=1, gamma=gamma)  # Reduce LR by gamma factor every epoch\n",
        "scheduler = lr_scheduler.ExponentialLR(optimizer, gamma=0.1)\n",
        "# scheduler = lr_scheduler.ReduceLROnPlateau(optimizer, 'min', patience=2, factor=0.5, min_lr=1e-6, verbose=True)\n",
        "# class_weights = torch.tensor([1.0, 0.8], dtype=torch.float)\n",
        "\n",
        "loss_function = nn.BCEWithLogitsLoss()\n",
        "num_epochs = 3\n",
        "\n",
        "def gru_train_model(train_loader, val_loader):\n",
        "\n",
        "  for epoch in range(num_epochs):\n",
        "    print(f\"Epoch {epoch + 1}/{num_epochs}\")\n",
        "    model.train()  # Set the model to training mode\n",
        "    total_loss = 0.0\n",
        "    correct_predictions = 0\n",
        "    total_samples = 0\n",
        "\n",
        "    # Training phase\n",
        "    for inputs, labels in train_loader:\n",
        "      optimizer.zero_grad()\n",
        "      outputs = model(inputs.permute(0, 2, 1)).squeeze()\n",
        "      # print(outputs.size())\n",
        "      labels = labels.float().view(-1)\n",
        "      loss = loss_function(outputs, labels)\n",
        "      loss.backward()\n",
        "      optimizer.step()\n",
        "      total_loss += loss.item() * inputs.size(0)\n",
        "\n",
        "      train_predictions = (outputs > 0.5).float()\n",
        "      # print(\"predictions\")\n",
        "      # print(outputs)\n",
        "      # print(\"True\")\n",
        "      # print(labels)\n",
        "      correct_predictions += (train_predictions == labels).sum().item()\n",
        "      total_samples += labels.size(0)\n",
        "\n",
        "    # Calculate average training loss for the epoch\n",
        "    train_loss = total_loss / len(train_loader.dataset)\n",
        "    train_accuracy = correct_predictions / total_samples\n",
        "    print(f\"Train Loss: {train_loss:.4f} | Train Accuracy: {train_accuracy:.2f}\")\n",
        "\n",
        "    # Validation phase\n",
        "    model.eval()  # Set the model to evaluation mode\n",
        "    val_loss = 0.0\n",
        "    correct_predictions = 0\n",
        "    total_samples = 0\n",
        "\n",
        "    with torch.no_grad():\n",
        "      for val_inputs, val_labels in val_loader:\n",
        "        val_outputs = model(val_inputs.permute(0, 2, 1)).squeeze()\n",
        "        val_labels = val_labels.float().view(-1)\n",
        "        val_loss += loss_function(val_outputs, val_labels).item() * val_inputs.size(0)\n",
        "\n",
        "        # Calculate accuracy (optional)\n",
        "        val_predictions = (val_outputs > 0.5).float()\n",
        "        correct_predictions += (val_predictions == val_labels).sum().item()\n",
        "        total_samples += val_labels.size(0)\n",
        "\n",
        "    # Calculate average validation loss and accuracy\n",
        "    val_loss = val_loss / len(val_loader.dataset)\n",
        "    val_accuracy = correct_predictions / total_samples\n",
        "\n",
        "    print(f\"Validation Loss: {val_loss:.4f} | Validation Accuracy: {val_accuracy:.2f}\")\n",
        "\n",
        "    # Step the scheduler to update the learning rate\n",
        "    # scheduler.step()\n",
        "    scheduler.step(val_loss)"
      ]
    },
    {
      "cell_type": "markdown",
      "source": [
        "# Test"
      ],
      "metadata": {
        "id": "H2PUZcKzpjqW"
      }
    },
    {
      "cell_type": "code",
      "execution_count": 58,
      "metadata": {
        "id": "irJ-_lQwnSNL"
      },
      "outputs": [],
      "source": [
        "import matplotlib.pyplot as plt\n",
        "from sklearn.metrics import roc_curve, auc, roc_auc_score, classification_report\n",
        "import torch\n",
        "\n",
        "def gru_test_model(model, test_loader):\n",
        "    model.eval()  # Set the model to evaluation mode\n",
        "    correct_predictions = 0\n",
        "    total_samples = 0\n",
        "    all_labels = []\n",
        "    all_probabilities = []  # Store probabilities for AUROC plotting\n",
        "\n",
        "    with torch.no_grad():  # Disable gradient computation during inference\n",
        "        for inputs, labels in test_loader:\n",
        "            outputs = model(inputs.permute(0, 2, 1)).squeeze()  # Ensure output is a 1D tensor\n",
        "            labels = labels.float().view(-1)\n",
        "            probabilities = torch.sigmoid(outputs)\n",
        "            predictions = (probabilities < 0.5).float()  # Convert logits to binary predictions (0 or 1)\n",
        "            correct_predictions += (predictions == labels).sum().item()\n",
        "            total_samples += labels.size(0)  # Increment total samples processed\n",
        "            all_labels.extend(labels.tolist())\n",
        "            all_probabilities.extend(probabilities.tolist())  # Use probabilities for ROC calculation\n",
        "\n",
        "    accuracy = correct_predictions / total_samples\n",
        "    auroc_score = roc_auc_score(all_labels, all_probabilities)  # Notice change here for probabilities\n",
        "    print(f\"Test Accuracy: {accuracy:.4f}\")\n",
        "    print(f\"AUROC Score: {auroc_score:.4f}\")\n",
        "\n",
        "    # Generate classification report\n",
        "    binary_predictions = [1 if prob < 0.5 else 0 for prob in all_probabilities]\n",
        "    report = classification_report(all_labels, binary_predictions, target_names=['Class 0', 'Class 1'])\n",
        "    # print(\"Classification Report:\\n\", report)\n",
        "\n",
        "    # Compute ROC curve and ROC area for plotting\n",
        "    fpr, tpr, _ = roc_curve(all_labels, all_probabilities)\n",
        "    roc_auc = auc(fpr, tpr)\n",
        "\n",
        "    # Plot ROC curve\n",
        "    plt.figure()\n",
        "    plt.plot(fpr, tpr, color='darkorange', lw=2, label='ROC curve (area = %0.2f)' % roc_auc)\n",
        "    plt.plot([0, 1], [0, 1], color='navy', lw=2, linestyle='--')\n",
        "    plt.xlim([0.0, 1.0])\n",
        "    plt.ylim([0.0, 1.05])\n",
        "    plt.xlabel('False Positive Rate')\n",
        "    plt.ylabel('True Positive Rate')\n",
        "    plt.title('Receiver Operating Characteristic')\n",
        "    plt.legend(loc=\"lower right\")\n",
        "    plt.show()\n",
        "\n",
        "# You would call gru_test_model with your model and DataLoader instance.\n"
      ]
    },
    {
      "cell_type": "markdown",
      "source": [
        "#Basic Imputation train and test"
      ],
      "metadata": {
        "id": "m9WQtgjiprOc"
      }
    },
    {
      "cell_type": "code",
      "execution_count": 39,
      "metadata": {
        "colab": {
          "base_uri": "https://localhost:8080/"
        },
        "id": "C3PT3pkOlbW9",
        "outputId": "9cfca48a-0d1f-4a2a-a506-0732409954b0"
      },
      "outputs": [
        {
          "output_type": "stream",
          "name": "stdout",
          "text": [
            "Epoch 1/3\n",
            "Train Loss: 0.9039 | Train Accuracy: 0.86\n",
            "Validation Loss: 0.8990 | Validation Accuracy: 0.85\n",
            "Epoch 2/3\n"
          ]
        },
        {
          "output_type": "stream",
          "name": "stderr",
          "text": [
            "/usr/local/lib/python3.10/dist-packages/torch/optim/lr_scheduler.py:156: UserWarning: The epoch parameter in `scheduler.step()` was not necessary and is being deprecated where possible. Please use `scheduler.step()` to step the scheduler. During the deprecation, if epoch is different from None, the closed form is used instead of the new chainable form, where available. Please open an issue if you are unable to replicate your use case: https://github.com/pytorch/pytorch/issues/new/choose.\n",
            "  warnings.warn(EPOCH_DEPRECATION_WARNING, UserWarning)\n"
          ]
        },
        {
          "output_type": "stream",
          "name": "stdout",
          "text": [
            "Train Loss: 0.9039 | Train Accuracy: 0.86\n",
            "Validation Loss: 0.8990 | Validation Accuracy: 0.85\n",
            "Epoch 3/3\n",
            "Train Loss: 0.9039 | Train Accuracy: 0.86\n",
            "Validation Loss: 0.8990 | Validation Accuracy: 0.85\n"
          ]
        }
      ],
      "source": [
        "gru_train_model(train_loader, val_loader)"
      ]
    },
    {
      "cell_type": "code",
      "execution_count": 44,
      "metadata": {
        "colab": {
          "base_uri": "https://localhost:8080/",
          "height": 631
        },
        "id": "KY984qOwH4mV",
        "outputId": "24316f45-de30-4c0c-cba5-e66d6ad39821"
      },
      "outputs": [
        {
          "output_type": "stream",
          "name": "stdout",
          "text": [
            "Test Accuracy: 0.8570\n",
            "AUROC Score: 0.5000\n"
          ]
        },
        {
          "output_type": "stream",
          "name": "stderr",
          "text": [
            "/usr/local/lib/python3.10/dist-packages/sklearn/metrics/_classification.py:1344: UndefinedMetricWarning: Precision and F-score are ill-defined and being set to 0.0 in labels with no predicted samples. Use `zero_division` parameter to control this behavior.\n",
            "  _warn_prf(average, modifier, msg_start, len(result))\n",
            "/usr/local/lib/python3.10/dist-packages/sklearn/metrics/_classification.py:1344: UndefinedMetricWarning: Precision and F-score are ill-defined and being set to 0.0 in labels with no predicted samples. Use `zero_division` parameter to control this behavior.\n",
            "  _warn_prf(average, modifier, msg_start, len(result))\n",
            "/usr/local/lib/python3.10/dist-packages/sklearn/metrics/_classification.py:1344: UndefinedMetricWarning: Precision and F-score are ill-defined and being set to 0.0 in labels with no predicted samples. Use `zero_division` parameter to control this behavior.\n",
            "  _warn_prf(average, modifier, msg_start, len(result))\n"
          ]
        },
        {
          "output_type": "display_data",
          "data": {
            "text/plain": [
              "<Figure size 640x480 with 1 Axes>"
            ],
            "image/png": "[encoded data removed]"
          },
          "metadata": {}
        }
      ],
      "source": [
        "gru_test_model(model, test_loader)"
      ]
    },
    {
      "cell_type": "code",
      "execution_count": 46,
      "metadata": {
        "id": "4O2InR0SlfsR"
      },
      "outputs": [],
      "source": [
        "forward_train_loader, forward_val_loader, forward_test_loader = get_data_loader(forward_dataset, merged_df)"
      ]
    },
    {
      "cell_type": "code",
      "execution_count": null,
      "metadata": {
        "colab": {
          "base_uri": "https://localhost:8080/"
        },
        "id": "ZIwlNXUWWIWo",
        "outputId": "20b1d06b-a934-4350-877f-e6aa2223514b"
      },
      "outputs": [
        {
          "name": "stdout",
          "output_type": "stream",
          "text": [
            "Epoch 1/10\n",
            "Train Loss: 0.7999 | Train Accuracy: 0.86\n",
            "Validation Loss: 0.7173 | Validation Accuracy: 0.85\n",
            "Epoch 2/10\n"
          ]
        },
        {
          "name": "stderr",
          "output_type": "stream",
          "text": [
            "/usr/local/lib/python3.10/dist-packages/torch/optim/lr_scheduler.py:156: UserWarning: The epoch parameter in `scheduler.step()` was not necessary and is being deprecated where possible. Please use `scheduler.step()` to step the scheduler. During the deprecation, if epoch is different from None, the closed form is used instead of the new chainable form, where available. Please open an issue if you are unable to replicate your use case: https://github.com/pytorch/pytorch/issues/new/choose.\n",
            "  warnings.warn(EPOCH_DEPRECATION_WARNING, UserWarning)\n"
          ]
        },
        {
          "name": "stdout",
          "output_type": "stream",
          "text": [
            "Train Loss: 0.7031 | Train Accuracy: 0.86\n",
            "Validation Loss: 0.6970 | Validation Accuracy: 0.85\n",
            "Epoch 3/10\n",
            "Train Loss: 0.6957 | Train Accuracy: 0.86\n",
            "Validation Loss: 0.6948 | Validation Accuracy: 0.85\n",
            "Epoch 4/10\n",
            "Train Loss: 0.6944 | Train Accuracy: 0.86\n",
            "Validation Loss: 0.6941 | Validation Accuracy: 0.85\n",
            "Epoch 5/10\n",
            "Train Loss: 0.6940 | Train Accuracy: 0.86\n",
            "Validation Loss: 0.6938 | Validation Accuracy: 0.85\n",
            "Epoch 6/10\n",
            "Train Loss: 0.6937 | Train Accuracy: 0.86\n",
            "Validation Loss: 0.6936 | Validation Accuracy: 0.85\n",
            "Epoch 7/10\n",
            "Train Loss: 0.6936 | Train Accuracy: 0.86\n",
            "Validation Loss: 0.6935 | Validation Accuracy: 0.85\n",
            "Epoch 8/10\n",
            "Train Loss: 0.6935 | Train Accuracy: 0.86\n",
            "Validation Loss: 0.6935 | Validation Accuracy: 0.85\n",
            "Epoch 9/10\n",
            "Train Loss: 0.6935 | Train Accuracy: 0.86\n",
            "Validation Loss: 0.6934 | Validation Accuracy: 0.85\n",
            "Epoch 10/10\n",
            "Train Loss: 0.6934 | Train Accuracy: 0.86\n",
            "Validation Loss: 0.6934 | Validation Accuracy: 0.85\n"
          ]
        }
      ],
      "source": [
        "gru_train_model(forward_train_loader, forward_val_loader)"
      ]
    },
    {
      "cell_type": "code",
      "execution_count": null,
      "metadata": {
        "colab": {
          "base_uri": "https://localhost:8080/",
          "height": 804
        },
        "id": "hgYC42SD23bt",
        "outputId": "5f85b63d-2584-4c36-cf7c-3bc3f295341c"
      },
      "outputs": [
        {
          "name": "stdout",
          "output_type": "stream",
          "text": [
            "Test Accuracy: 0.8538\n",
            "AUROC Score: 0.5124\n",
            "Classification Report:\n",
            "               precision    recall  f1-score   support\n",
            "\n",
            "     Class 0       0.85      1.00      0.92      1366\n",
            "     Class 1       0.00      0.00      0.00       234\n",
            "\n",
            "    accuracy                           0.85      1600\n",
            "   macro avg       0.43      0.50      0.46      1600\n",
            "weighted avg       0.73      0.85      0.79      1600\n",
            "\n"
          ]
        },
        {
          "name": "stderr",
          "output_type": "stream",
          "text": [
            "/usr/local/lib/python3.10/dist-packages/sklearn/metrics/_classification.py:1344: UndefinedMetricWarning: Precision and F-score are ill-defined and being set to 0.0 in labels with no predicted samples. Use `zero_division` parameter to control this behavior.\n",
            "  _warn_prf(average, modifier, msg_start, len(result))\n",
            "/usr/local/lib/python3.10/dist-packages/sklearn/metrics/_classification.py:1344: UndefinedMetricWarning: Precision and F-score are ill-defined and being set to 0.0 in labels with no predicted samples. Use `zero_division` parameter to control this behavior.\n",
            "  _warn_prf(average, modifier, msg_start, len(result))\n",
            "/usr/local/lib/python3.10/dist-packages/sklearn/metrics/_classification.py:1344: UndefinedMetricWarning: Precision and F-score are ill-defined and being set to 0.0 in labels with no predicted samples. Use `zero_division` parameter to control this behavior.\n",
            "  _warn_prf(average, modifier, msg_start, len(result))\n"
          ]
        },
        {
          "data": {
            "image/png": "[encoded data removed]",
            "text/plain": [
              "<Figure size 640x480 with 1 Axes>"
            ]
          },
          "metadata": {},
          "output_type": "display_data"
        }
      ],
      "source": [
        "gru_test_model(model, forward_test_loader)"
      ]
    },
    {
      "cell_type": "code",
      "source": [
        "mice_train_loader, mice_val_loader, mice_test_loader = get_data_loader(mice_dataset, labels_df)\n",
        "gru_train_model(mice_train_loader, mice_val_loader)"
      ],
      "metadata": {
        "colab": {
          "base_uri": "https://localhost:8080/"
        },
        "id": "g3n8rpOR1uHb",
        "outputId": "f355b5c1-3d63-44c1-b127-de6dbfb729e5"
      },
      "execution_count": 60,
      "outputs": [
        {
          "output_type": "stream",
          "name": "stdout",
          "text": [
            "Epoch 1/3\n",
            "Train Loss: 0.6931 | Train Accuracy: 0.86\n",
            "Validation Loss: 0.6931 | Validation Accuracy: 0.86\n",
            "Epoch 2/3\n"
          ]
        },
        {
          "output_type": "stream",
          "name": "stderr",
          "text": [
            "/usr/local/lib/python3.10/dist-packages/torch/optim/lr_scheduler.py:156: UserWarning: The epoch parameter in `scheduler.step()` was not necessary and is being deprecated where possible. Please use `scheduler.step()` to step the scheduler. During the deprecation, if epoch is different from None, the closed form is used instead of the new chainable form, where available. Please open an issue if you are unable to replicate your use case: https://github.com/pytorch/pytorch/issues/new/choose.\n",
            "  warnings.warn(EPOCH_DEPRECATION_WARNING, UserWarning)\n"
          ]
        },
        {
          "output_type": "stream",
          "name": "stdout",
          "text": [
            "Train Loss: 0.6931 | Train Accuracy: 0.86\n",
            "Validation Loss: 0.6931 | Validation Accuracy: 0.86\n",
            "Epoch 3/3\n",
            "Train Loss: 0.6931 | Train Accuracy: 0.86\n",
            "Validation Loss: 0.6931 | Validation Accuracy: 0.86\n"
          ]
        }
      ]
    },
    {
      "cell_type": "code",
      "source": [
        "gru_test_model(model, mice_test_loader)"
      ],
      "metadata": {
        "id": "Lfom6SCB2Ei5"
      },
      "execution_count": null,
      "outputs": []
    },
    {
      "cell_type": "code",
      "execution_count": null,
      "metadata": {
        "colab": {
          "base_uri": "https://localhost:8080/"
        },
        "id": "ehyIwCRpGtgd",
        "outputId": "fc10b518-26c7-47ad-9577-1e238cf91a91"
      },
      "outputs": [
        {
          "name": "stdout",
          "output_type": "stream",
          "text": [
            "Epoch 1/10\n",
            "Train Loss: 0.7940 | Train Accuracy: 0.85\n",
            "Validation Loss: 0.7201 | Validation Accuracy: 0.87\n",
            "Epoch 2/10\n"
          ]
        },
        {
          "name": "stderr",
          "output_type": "stream",
          "text": [
            "/usr/local/lib/python3.10/dist-packages/torch/optim/lr_scheduler.py:156: UserWarning: The epoch parameter in `scheduler.step()` was not necessary and is being deprecated where possible. Please use `scheduler.step()` to step the scheduler. During the deprecation, if epoch is different from None, the closed form is used instead of the new chainable form, where available. Please open an issue if you are unable to replicate your use case: https://github.com/pytorch/pytorch/issues/new/choose.\n",
            "  warnings.warn(EPOCH_DEPRECATION_WARNING, UserWarning)\n"
          ]
        },
        {
          "name": "stdout",
          "output_type": "stream",
          "text": [
            "Train Loss: 0.7038 | Train Accuracy: 0.85\n",
            "Validation Loss: 0.6978 | Validation Accuracy: 0.87\n",
            "Epoch 3/10\n",
            "Train Loss: 0.6960 | Train Accuracy: 0.85\n",
            "Validation Loss: 0.6951 | Validation Accuracy: 0.87\n",
            "Epoch 4/10\n",
            "Train Loss: 0.6946 | Train Accuracy: 0.85\n",
            "Validation Loss: 0.6943 | Validation Accuracy: 0.87\n",
            "Epoch 5/10\n",
            "Train Loss: 0.6941 | Train Accuracy: 0.85\n",
            "Validation Loss: 0.6939 | Validation Accuracy: 0.87\n",
            "Epoch 6/10\n",
            "Train Loss: 0.6938 | Train Accuracy: 0.85\n",
            "Validation Loss: 0.6937 | Validation Accuracy: 0.87\n",
            "Epoch 7/10\n",
            "Train Loss: 0.6936 | Train Accuracy: 0.85\n",
            "Validation Loss: 0.6936 | Validation Accuracy: 0.87\n",
            "Epoch 8/10\n",
            "Train Loss: 0.6935 | Train Accuracy: 0.85\n",
            "Validation Loss: 0.6935 | Validation Accuracy: 0.87\n",
            "Epoch 9/10\n",
            "Train Loss: 0.6935 | Train Accuracy: 0.85\n",
            "Validation Loss: 0.6935 | Validation Accuracy: 0.87\n",
            "Epoch 10/10\n",
            "Train Loss: 0.6934 | Train Accuracy: 0.85\n",
            "Validation Loss: 0.6934 | Validation Accuracy: 0.87\n"
          ]
        }
      ],
      "source": [
        "mice_train_loader, mice_val_loader, mice_test_loader = get_data_loader(mice_dataset, labels_df)\n",
        "gru_train_model(mice_train_loader, mice_val_loader)"
      ]
    },
    {
      "cell_type": "code",
      "execution_count": null,
      "metadata": {
        "colab": {
          "base_uri": "https://localhost:8080/",
          "height": 804
        },
        "id": "znBJfBlXHLae",
        "outputId": "049700c6-f390-43b9-ddcc-c84de733cb22"
      },
      "outputs": [
        {
          "name": "stdout",
          "output_type": "stream",
          "text": [
            "Test Accuracy: 0.8562\n",
            "AUROC Score: 0.4928\n",
            "Classification Report:\n",
            "               precision    recall  f1-score   support\n",
            "\n",
            "     Class 0       0.86      1.00      0.92      1370\n",
            "     Class 1       0.00      0.00      0.00       230\n",
            "\n",
            "    accuracy                           0.86      1600\n",
            "   macro avg       0.43      0.50      0.46      1600\n",
            "weighted avg       0.73      0.86      0.79      1600\n",
            "\n"
          ]
        },
        {
          "name": "stderr",
          "output_type": "stream",
          "text": [
            "/usr/local/lib/python3.10/dist-packages/sklearn/metrics/_classification.py:1344: UndefinedMetricWarning: Precision and F-score are ill-defined and being set to 0.0 in labels with no predicted samples. Use `zero_division` parameter to control this behavior.\n",
            "  _warn_prf(average, modifier, msg_start, len(result))\n",
            "/usr/local/lib/python3.10/dist-packages/sklearn/metrics/_classification.py:1344: UndefinedMetricWarning: Precision and F-score are ill-defined and being set to 0.0 in labels with no predicted samples. Use `zero_division` parameter to control this behavior.\n",
            "  _warn_prf(average, modifier, msg_start, len(result))\n",
            "/usr/local/lib/python3.10/dist-packages/sklearn/metrics/_classification.py:1344: UndefinedMetricWarning: Precision and F-score are ill-defined and being set to 0.0 in labels with no predicted samples. Use `zero_division` parameter to control this behavior.\n",
            "  _warn_prf(average, modifier, msg_start, len(result))\n"
          ]
        },
        {
          "data": {
            "image/png": "[encoded data removed]",
            "text/plain": [
              "<Figure size 640x480 with 1 Axes>"
            ]
          },
          "metadata": {},
          "output_type": "display_data"
        }
      ],
      "source": [
        "gru_test_model(model, mice_test_loader)"
      ]
    },
    {
      "cell_type": "code",
      "execution_count": null,
      "metadata": {
        "id": "BDUCqHAGCLJ7"
      },
      "outputs": [],
      "source": []
    }
  ],
  "metadata": {
    "colab": {
      "provenance": []
    },
    "kernelspec": {
      "display_name": "Python 3",
      "name": "python3"
    },
    "language_info": {
      "name": "python"
    }
  },
  "nbformat": 4,
  "nbformat_minor": 0
}